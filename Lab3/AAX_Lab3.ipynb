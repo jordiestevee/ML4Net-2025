{
  "cells": [
    {
      "cell_type": "markdown",
      "metadata": {
        "id": "ShbB8CxBMSLH"
      },
      "source": [
        "#ML4Net - Lab 3\n",
        "\n",
        "## Team members\n",
        "\n",
        "Marc Mallol 268923 | Jordi Esteve 268829 | Albert Jané 268537\n",
        "\n",
        "## Description\n",
        "\n",
        "In this lab, you will train a time series forecaster using Federated Learning (FL).\n",
        "\n",
        "The dataset you are going to use contains data from multiple APs. In particular, each AP's dataset contains the following features:\n",
        "\n",
        "* `datetime` is the timestamp (date) at which the measurement was taken\n",
        "* `Bytes` is the number of Bytes contributed at the corresponding datetime\n",
        "* `Active Connections` is the number of active connections (users connected to the AP) at the corresponding datetime\n",
        "* `Active Users` is the number of active users at the corresponding datetime\n",
        "* `AP ID` is the ID of the AP where the measurement was taken\n",
        "\n",
        "Original dataset: Chen, W., Lyu, F., Wu, F., Yang, P., & Ren, J. (2021). Flag: Flexible, accurate, and long-time user load prediction in large-scale WiFi system using deep RNN. IEEE Internet of Things Journal, 8(22), 16510-16521.\n",
        "\n",
        "## Instructions\n",
        "\n",
        "*   Follow the steps from this Notebook and complete the proposed exercises.\n",
        "*   Deliver the completed Notebook by uploading it to your Github repository.\n",
        "*   **Submission deadline: 8 June 2025 (EoB).**"
      ]
    },
    {
      "cell_type": "markdown",
      "metadata": {
        "id": "Lqio72iAuxNJ"
      },
      "source": [
        "## Setting up the environment"
      ]
    },
    {
      "cell_type": "code",
      "execution_count": 24,
      "metadata": {
        "id": "VYfdaJF-qr5w"
      },
      "outputs": [
        {
          "name": "stdout",
          "output_type": "stream",
          "text": [
            "Dataset already exists: datasetLab3.pkl\n"
          ]
        }
      ],
      "source": [
        "import os\n",
        "import urllib.request\n",
        "\n",
        "dataset_url = \"https://github.com/fwilhelmi/fwilhelmi.github.io/raw/master/files/datasetLab3.pkl\"\n",
        "dataset_path = \"datasetLab3.pkl\"\n",
        "\n",
        "if not os.path.exists(dataset_path):\n",
        "    print(\"Downloading dataset...\")\n",
        "    urllib.request.urlretrieve(dataset_url, dataset_path)\n",
        "    print(\"Download complete.\")\n",
        "else:\n",
        "    print(\"Dataset already exists:\", dataset_path)"
      ]
    },
    {
      "cell_type": "markdown",
      "metadata": {
        "id": "97kVtaWOutFD"
      },
      "source": [
        "## Loading the data\n",
        "\n",
        "\n"
      ]
    },
    {
      "cell_type": "markdown",
      "metadata": {
        "id": "tZ-ATejy308z"
      },
      "source": [
        "Load the data from the pickle file (https://docs.python.org/3/library/pickle.html) that contains the dataset.\n",
        "\n",
        "**Important:** If you have issues with the dataset after automatically downloading and extracting it, download it and move it manually to the indicated folder."
      ]
    },
    {
      "cell_type": "code",
      "execution_count": 25,
      "metadata": {
        "id": "Rn9zlRDcenHJ"
      },
      "outputs": [
        {
          "name": "stdout",
          "output_type": "stream",
          "text": [
            "/mnt/c/Users/Marc/Documents/Uni/3r/3r Trimestre/MLNetworks/Labs/ML4Net-2025/Lab3\n",
            "True\n",
            "Data loaded successfully:\n",
            "                     Bytes  Active Connections  Active Users   AP ID\n",
            "datetime                                                            \n",
            "2019-04-30 07:10:00    0.0            0.075209           0.0  7-1012\n",
            "2019-04-30 07:20:00    0.0            0.000000           0.0  7-1012\n",
            "2019-04-30 07:30:00    0.0            0.000000           0.0  7-1012\n",
            "2019-04-30 07:40:00    0.0            0.000000           0.0  7-1012\n",
            "2019-04-30 07:50:00    0.0            0.000000           0.0  7-1012\n",
            "...                    ...                 ...           ...     ...\n",
            "2019-05-14 07:10:00    0.0            0.000000           0.0   7-104\n",
            "2019-05-14 07:20:00    0.0            0.000000           0.0   7-104\n",
            "2019-05-14 07:30:00    0.0            0.000000           0.0   7-104\n",
            "2019-05-14 07:40:00    0.0            0.000000           0.0   7-104\n",
            "2019-05-14 07:50:00    0.0            0.034091           0.0   7-104\n",
            "\n",
            "[211064 rows x 4 columns]\n"
          ]
        }
      ],
      "source": [
        "import pickle\n",
        "import os\n",
        "\n",
        "print(os.getcwd())\n",
        "print(os.path.exists('datasetLab3.pkl'))\n",
        "\n",
        "try:\n",
        "    with open('datasetLab3.pkl', 'rb') as f:\n",
        "        loaded_data = pickle.load(f)\n",
        "    print(\"Data loaded successfully:\")\n",
        "    print(loaded_data)\n",
        "except FileNotFoundError:\n",
        "    print(\"Error: 'datasetLab3.pkl' not found.\")\n",
        "except Exception as e:\n",
        "    print(f\"An error occurred: {e}\")"
      ]
    },
    {
      "cell_type": "markdown",
      "metadata": {},
      "source": [
        "First we can explore the data before jumping straight to the exercises"
      ]
    },
    {
      "cell_type": "code",
      "execution_count": 26,
      "metadata": {},
      "outputs": [
        {
          "data": {
            "application/vnd.microsoft.datawrangler.viewer.v0+json": {
              "columns": [
                {
                  "name": "datetime",
                  "rawType": "datetime64[ns]",
                  "type": "datetime"
                },
                {
                  "name": "Bytes",
                  "rawType": "float64",
                  "type": "float"
                },
                {
                  "name": "Active Connections",
                  "rawType": "float64",
                  "type": "float"
                },
                {
                  "name": "Active Users",
                  "rawType": "float64",
                  "type": "float"
                },
                {
                  "name": "AP ID",
                  "rawType": "object",
                  "type": "string"
                }
              ],
              "ref": "b337f9be-4ac4-4f80-8534-beb8d28e80e8",
              "rows": [
                [
                  "2019-04-30 07:10:00",
                  "0.0",
                  "0.07520891364902507",
                  "0.0",
                  "7-1012"
                ],
                [
                  "2019-04-30 07:20:00",
                  "0.0",
                  "0.0",
                  "0.0",
                  "7-1012"
                ],
                [
                  "2019-04-30 07:30:00",
                  "0.0",
                  "0.0",
                  "0.0",
                  "7-1012"
                ],
                [
                  "2019-04-30 07:40:00",
                  "0.0",
                  "0.0",
                  "0.0",
                  "7-1012"
                ],
                [
                  "2019-04-30 07:50:00",
                  "0.0",
                  "0.0",
                  "0.0",
                  "7-1012"
                ],
                [
                  "2019-04-30 08:00:00",
                  "0.0",
                  "0.0",
                  "0.0",
                  "7-1012"
                ],
                [
                  "2019-04-30 08:10:00",
                  "0.0",
                  "0.028333333333333332",
                  "0.0",
                  "7-1012"
                ],
                [
                  "2019-04-30 08:20:00",
                  "0.0",
                  "0.0",
                  "0.0",
                  "7-1012"
                ],
                [
                  "2019-04-30 08:30:00",
                  "0.0",
                  "0.0",
                  "0.0",
                  "7-1012"
                ],
                [
                  "2019-04-30 08:40:00",
                  "0.0",
                  "0.0",
                  "0.0",
                  "7-1012"
                ],
                [
                  "2019-04-30 08:50:00",
                  "0.0",
                  "0.10166666666666667",
                  "0.0",
                  "7-1012"
                ],
                [
                  "2019-04-30 09:00:00",
                  "0.0",
                  "0.0",
                  "0.0",
                  "7-1012"
                ],
                [
                  "2019-04-30 09:10:00",
                  "0.0",
                  "0.0",
                  "0.0",
                  "7-1012"
                ],
                [
                  "2019-04-30 09:20:00",
                  "0.0",
                  "0.0",
                  "0.0",
                  "7-1012"
                ],
                [
                  "2019-04-30 09:30:00",
                  "1.05",
                  "0.23333333333333334",
                  "0.11666666666666667",
                  "7-1012"
                ],
                [
                  "2019-04-30 09:40:00",
                  "9.0",
                  "1.585",
                  "1.0",
                  "7-1012"
                ],
                [
                  "2019-04-30 09:50:00",
                  "7.965",
                  "0.885",
                  "0.885",
                  "7-1012"
                ],
                [
                  "2019-04-30 10:00:00",
                  "0.0",
                  "0.0",
                  "0.0",
                  "7-1012"
                ],
                [
                  "2019-04-30 10:10:00",
                  "0.0",
                  "0.11666666666666667",
                  "0.0",
                  "7-1012"
                ],
                [
                  "2019-04-30 10:20:00",
                  "0.0",
                  "0.885",
                  "0.0",
                  "7-1012"
                ],
                [
                  "2019-04-30 10:30:00",
                  "0.0",
                  "0.11666666666666667",
                  "0.0",
                  "7-1012"
                ],
                [
                  "2019-04-30 10:40:00",
                  "0.0",
                  "0.885",
                  "0.0",
                  "7-1012"
                ],
                [
                  "2019-04-30 10:50:00",
                  "0.0",
                  "0.0",
                  "0.0",
                  "7-1012"
                ],
                [
                  "2019-04-30 11:00:00",
                  "0.0",
                  "0.0",
                  "0.0",
                  "7-1012"
                ],
                [
                  "2019-04-30 11:10:00",
                  "30820.52272333333",
                  "0.22",
                  "0.22",
                  "7-1012"
                ],
                [
                  "2019-04-30 11:20:00",
                  "689.415",
                  "0.885",
                  "0.885",
                  "7-1012"
                ],
                [
                  "2019-04-30 11:30:00",
                  "0.0",
                  "0.0",
                  "0.0",
                  "7-1012"
                ],
                [
                  "2019-04-30 11:40:00",
                  "0.0",
                  "0.0",
                  "0.0",
                  "7-1012"
                ],
                [
                  "2019-04-30 11:50:00",
                  "0.0",
                  "0.0",
                  "0.0",
                  "7-1012"
                ],
                [
                  "2019-04-30 12:00:00",
                  "0.0",
                  "0.0",
                  "0.0",
                  "7-1012"
                ],
                [
                  "2019-04-30 12:10:00",
                  "0.0",
                  "0.11666666666666667",
                  "0.0",
                  "7-1012"
                ],
                [
                  "2019-04-30 12:20:00",
                  "0.0",
                  "0.085",
                  "0.0",
                  "7-1012"
                ],
                [
                  "2019-04-30 12:30:00",
                  "0.0",
                  "0.0",
                  "0.0",
                  "7-1012"
                ],
                [
                  "2019-04-30 12:40:00",
                  "0.0",
                  "0.0",
                  "0.0",
                  "7-1012"
                ],
                [
                  "2019-04-30 12:50:00",
                  "0.0",
                  "0.35",
                  "0.0",
                  "7-1012"
                ],
                [
                  "2019-04-30 13:00:00",
                  "0.0",
                  "2.085",
                  "0.0",
                  "7-1012"
                ],
                [
                  "2019-04-30 13:10:00",
                  "0.0",
                  "1.5883333333333334",
                  "0.0",
                  "7-1012"
                ],
                [
                  "2019-04-30 13:20:00",
                  "0.0",
                  "0.885",
                  "0.0",
                  "7-1012"
                ],
                [
                  "2019-04-30 13:30:00",
                  "0.0",
                  "0.0",
                  "0.0",
                  "7-1012"
                ],
                [
                  "2019-04-30 13:40:00",
                  "0.0",
                  "0.21833333333333332",
                  "0.0",
                  "7-1012"
                ],
                [
                  "2019-04-30 13:50:00",
                  "105.875",
                  "1.3366666666666667",
                  "0.11666666666666667",
                  "7-1012"
                ],
                [
                  "2019-04-30 14:00:00",
                  "77.1375",
                  "1.855",
                  "0.085",
                  "7-1012"
                ],
                [
                  "2019-04-30 14:10:00",
                  "701.0596833333333",
                  "0.35",
                  "0.23333333333333334",
                  "7-1012"
                ],
                [
                  "2019-04-30 14:20:00",
                  "6009.083",
                  "3.0016666666666665",
                  "2.0",
                  "7-1012"
                ],
                [
                  "2019-04-30 14:30:00",
                  "6009.083",
                  "3.0",
                  "2.0",
                  "7-1012"
                ],
                [
                  "2019-04-30 14:40:00",
                  "5929.924704999999",
                  "2.421666666666667",
                  "1.885",
                  "7-1012"
                ],
                [
                  "2019-04-30 14:50:00",
                  "4708.86375",
                  "2.0433333333333334",
                  "0.885",
                  "7-1012"
                ],
                [
                  "2019-04-30 15:00:00",
                  "0.0",
                  "0.11666666666666667",
                  "0.0",
                  "7-1012"
                ],
                [
                  "2019-04-30 15:10:00",
                  "72704.1",
                  "1.0216666666666667",
                  "0.11666666666666667",
                  "7-1012"
                ],
                [
                  "2019-04-30 15:20:00",
                  "623178.0",
                  "2.1166666666666667",
                  "1.0",
                  "7-1012"
                ]
              ],
              "shape": {
                "columns": 4,
                "rows": 211064
              }
            },
            "text/html": [
              "<div>\n",
              "<style scoped>\n",
              "    .dataframe tbody tr th:only-of-type {\n",
              "        vertical-align: middle;\n",
              "    }\n",
              "\n",
              "    .dataframe tbody tr th {\n",
              "        vertical-align: top;\n",
              "    }\n",
              "\n",
              "    .dataframe thead th {\n",
              "        text-align: right;\n",
              "    }\n",
              "</style>\n",
              "<table border=\"1\" class=\"dataframe\">\n",
              "  <thead>\n",
              "    <tr style=\"text-align: right;\">\n",
              "      <th></th>\n",
              "      <th>Bytes</th>\n",
              "      <th>Active Connections</th>\n",
              "      <th>Active Users</th>\n",
              "      <th>AP ID</th>\n",
              "    </tr>\n",
              "    <tr>\n",
              "      <th>datetime</th>\n",
              "      <th></th>\n",
              "      <th></th>\n",
              "      <th></th>\n",
              "      <th></th>\n",
              "    </tr>\n",
              "  </thead>\n",
              "  <tbody>\n",
              "    <tr>\n",
              "      <th>2019-04-30 07:10:00</th>\n",
              "      <td>0.0</td>\n",
              "      <td>0.075209</td>\n",
              "      <td>0.0</td>\n",
              "      <td>7-1012</td>\n",
              "    </tr>\n",
              "    <tr>\n",
              "      <th>2019-04-30 07:20:00</th>\n",
              "      <td>0.0</td>\n",
              "      <td>0.000000</td>\n",
              "      <td>0.0</td>\n",
              "      <td>7-1012</td>\n",
              "    </tr>\n",
              "    <tr>\n",
              "      <th>2019-04-30 07:30:00</th>\n",
              "      <td>0.0</td>\n",
              "      <td>0.000000</td>\n",
              "      <td>0.0</td>\n",
              "      <td>7-1012</td>\n",
              "    </tr>\n",
              "    <tr>\n",
              "      <th>2019-04-30 07:40:00</th>\n",
              "      <td>0.0</td>\n",
              "      <td>0.000000</td>\n",
              "      <td>0.0</td>\n",
              "      <td>7-1012</td>\n",
              "    </tr>\n",
              "    <tr>\n",
              "      <th>2019-04-30 07:50:00</th>\n",
              "      <td>0.0</td>\n",
              "      <td>0.000000</td>\n",
              "      <td>0.0</td>\n",
              "      <td>7-1012</td>\n",
              "    </tr>\n",
              "    <tr>\n",
              "      <th>...</th>\n",
              "      <td>...</td>\n",
              "      <td>...</td>\n",
              "      <td>...</td>\n",
              "      <td>...</td>\n",
              "    </tr>\n",
              "    <tr>\n",
              "      <th>2019-05-14 07:10:00</th>\n",
              "      <td>0.0</td>\n",
              "      <td>0.000000</td>\n",
              "      <td>0.0</td>\n",
              "      <td>7-104</td>\n",
              "    </tr>\n",
              "    <tr>\n",
              "      <th>2019-05-14 07:20:00</th>\n",
              "      <td>0.0</td>\n",
              "      <td>0.000000</td>\n",
              "      <td>0.0</td>\n",
              "      <td>7-104</td>\n",
              "    </tr>\n",
              "    <tr>\n",
              "      <th>2019-05-14 07:30:00</th>\n",
              "      <td>0.0</td>\n",
              "      <td>0.000000</td>\n",
              "      <td>0.0</td>\n",
              "      <td>7-104</td>\n",
              "    </tr>\n",
              "    <tr>\n",
              "      <th>2019-05-14 07:40:00</th>\n",
              "      <td>0.0</td>\n",
              "      <td>0.000000</td>\n",
              "      <td>0.0</td>\n",
              "      <td>7-104</td>\n",
              "    </tr>\n",
              "    <tr>\n",
              "      <th>2019-05-14 07:50:00</th>\n",
              "      <td>0.0</td>\n",
              "      <td>0.034091</td>\n",
              "      <td>0.0</td>\n",
              "      <td>7-104</td>\n",
              "    </tr>\n",
              "  </tbody>\n",
              "</table>\n",
              "<p>211064 rows × 4 columns</p>\n",
              "</div>"
            ],
            "text/plain": [
              "                     Bytes  Active Connections  Active Users   AP ID\n",
              "datetime                                                            \n",
              "2019-04-30 07:10:00    0.0            0.075209           0.0  7-1012\n",
              "2019-04-30 07:20:00    0.0            0.000000           0.0  7-1012\n",
              "2019-04-30 07:30:00    0.0            0.000000           0.0  7-1012\n",
              "2019-04-30 07:40:00    0.0            0.000000           0.0  7-1012\n",
              "2019-04-30 07:50:00    0.0            0.000000           0.0  7-1012\n",
              "...                    ...                 ...           ...     ...\n",
              "2019-05-14 07:10:00    0.0            0.000000           0.0   7-104\n",
              "2019-05-14 07:20:00    0.0            0.000000           0.0   7-104\n",
              "2019-05-14 07:30:00    0.0            0.000000           0.0   7-104\n",
              "2019-05-14 07:40:00    0.0            0.000000           0.0   7-104\n",
              "2019-05-14 07:50:00    0.0            0.034091           0.0   7-104\n",
              "\n",
              "[211064 rows x 4 columns]"
            ]
          },
          "metadata": {},
          "output_type": "display_data"
        }
      ],
      "source": [
        "import pandas as pd\n",
        "import numpy as np\n",
        "import matplotlib.pyplot as plt\n",
        "df = pd.DataFrame(loaded_data)\n",
        "\n",
        "display(loaded_data)  "
      ]
    },
    {
      "cell_type": "code",
      "execution_count": 27,
      "metadata": {},
      "outputs": [
        {
          "data": {
            "application/vnd.microsoft.datawrangler.viewer.v0+json": {
              "columns": [
                {
                  "name": "index",
                  "rawType": "object",
                  "type": "string"
                },
                {
                  "name": "Bytes",
                  "rawType": "float64",
                  "type": "float"
                },
                {
                  "name": "Active Connections",
                  "rawType": "float64",
                  "type": "float"
                },
                {
                  "name": "Active Users",
                  "rawType": "float64",
                  "type": "float"
                }
              ],
              "ref": "48233245-f67b-4228-aea2-47101c02cdb3",
              "rows": [
                [
                  "count",
                  "211064.0",
                  "211064.0",
                  "211064.0"
                ],
                [
                  "mean",
                  "36931.309838892426",
                  "1.5829824089836777",
                  "1.200612786391821"
                ],
                [
                  "std",
                  "144126.12094883434",
                  "4.446036748978838",
                  "3.739400796683459"
                ],
                [
                  "min",
                  "0.0",
                  "0.0",
                  "0.0"
                ],
                [
                  "25%",
                  "0.0",
                  "0.0",
                  "0.0"
                ],
                [
                  "50%",
                  "0.0",
                  "0.0",
                  "0.0"
                ],
                [
                  "75%",
                  "2680.175",
                  "1.3533333333333333",
                  "1.0"
                ],
                [
                  "max",
                  "3993285.5318499994",
                  "103.78",
                  "79.0"
                ]
              ],
              "shape": {
                "columns": 3,
                "rows": 8
              }
            },
            "text/html": [
              "<div>\n",
              "<style scoped>\n",
              "    .dataframe tbody tr th:only-of-type {\n",
              "        vertical-align: middle;\n",
              "    }\n",
              "\n",
              "    .dataframe tbody tr th {\n",
              "        vertical-align: top;\n",
              "    }\n",
              "\n",
              "    .dataframe thead th {\n",
              "        text-align: right;\n",
              "    }\n",
              "</style>\n",
              "<table border=\"1\" class=\"dataframe\">\n",
              "  <thead>\n",
              "    <tr style=\"text-align: right;\">\n",
              "      <th></th>\n",
              "      <th>Bytes</th>\n",
              "      <th>Active Connections</th>\n",
              "      <th>Active Users</th>\n",
              "    </tr>\n",
              "  </thead>\n",
              "  <tbody>\n",
              "    <tr>\n",
              "      <th>count</th>\n",
              "      <td>2.110640e+05</td>\n",
              "      <td>211064.000000</td>\n",
              "      <td>211064.000000</td>\n",
              "    </tr>\n",
              "    <tr>\n",
              "      <th>mean</th>\n",
              "      <td>3.693131e+04</td>\n",
              "      <td>1.582982</td>\n",
              "      <td>1.200613</td>\n",
              "    </tr>\n",
              "    <tr>\n",
              "      <th>std</th>\n",
              "      <td>1.441261e+05</td>\n",
              "      <td>4.446037</td>\n",
              "      <td>3.739401</td>\n",
              "    </tr>\n",
              "    <tr>\n",
              "      <th>min</th>\n",
              "      <td>0.000000e+00</td>\n",
              "      <td>0.000000</td>\n",
              "      <td>0.000000</td>\n",
              "    </tr>\n",
              "    <tr>\n",
              "      <th>25%</th>\n",
              "      <td>0.000000e+00</td>\n",
              "      <td>0.000000</td>\n",
              "      <td>0.000000</td>\n",
              "    </tr>\n",
              "    <tr>\n",
              "      <th>50%</th>\n",
              "      <td>0.000000e+00</td>\n",
              "      <td>0.000000</td>\n",
              "      <td>0.000000</td>\n",
              "    </tr>\n",
              "    <tr>\n",
              "      <th>75%</th>\n",
              "      <td>2.680175e+03</td>\n",
              "      <td>1.353333</td>\n",
              "      <td>1.000000</td>\n",
              "    </tr>\n",
              "    <tr>\n",
              "      <th>max</th>\n",
              "      <td>3.993286e+06</td>\n",
              "      <td>103.780000</td>\n",
              "      <td>79.000000</td>\n",
              "    </tr>\n",
              "  </tbody>\n",
              "</table>\n",
              "</div>"
            ],
            "text/plain": [
              "              Bytes  Active Connections   Active Users\n",
              "count  2.110640e+05       211064.000000  211064.000000\n",
              "mean   3.693131e+04            1.582982       1.200613\n",
              "std    1.441261e+05            4.446037       3.739401\n",
              "min    0.000000e+00            0.000000       0.000000\n",
              "25%    0.000000e+00            0.000000       0.000000\n",
              "50%    0.000000e+00            0.000000       0.000000\n",
              "75%    2.680175e+03            1.353333       1.000000\n",
              "max    3.993286e+06          103.780000      79.000000"
            ]
          },
          "metadata": {},
          "output_type": "display_data"
        }
      ],
      "source": [
        "display(df.describe())"
      ]
    },
    {
      "cell_type": "code",
      "execution_count": 28,
      "metadata": {},
      "outputs": [
        {
          "data": {
            "text/plain": [
              "array(['7-1012', '7-1013', '7-1021', '7-1043', '7-1019', '7-1071',\n",
              "       '7-1113', '7-1048', '7-1101', '7-1026', '7-1129', '7-112', '7-100',\n",
              "       '7-111', '7-1030', '7-1117', '7-1126', '7-1099', '7-1052',\n",
              "       '7-1087', '7-108', '7-1022', '7-1018', '7-1059', '7-1054', '7-110',\n",
              "       '7-1058', '7-1094', '7-1064', '7-102', '7-1044', '7-1002',\n",
              "       '7-1096', '7-1014', '7-1082', '7-1088', '7-1106', '7-1063',\n",
              "       '7-1114', '7-1137', '7-1004', '7-1045', '7-1125', '7-1036',\n",
              "       '7-1124', '7-1034', '7-1083', '7-1072', '7-1033', '7-1069',\n",
              "       '7-1127', '7-1005', '7-1130', '7-1047', '7-1020', '7-1066',\n",
              "       '7-1039', '7-1134', '7-1003', '7-1120', '7-1131', '7-1009',\n",
              "       '7-1084', '7-1074', '7-1062', '7-1025', '7-1089', '7-1098',\n",
              "       '7-1006', '7-1139', '7-10', '7-1133', '7-1060', '7-1032', '7-106',\n",
              "       '7-1057', '7-101', '7-1102', '7-1085', '7-1053', '7-107', '7-1121',\n",
              "       '7-1023', '7-1097', '7-1050', '7-1037', '7-11', '7-1136', '7-1040',\n",
              "       '7-1015', '7-1079', '7-1065', '7-1104', '7-105', '7-103', '7-1100',\n",
              "       '7-1056', '7-1051', '7-114', '7-104'], dtype=object)"
            ]
          },
          "metadata": {},
          "output_type": "display_data"
        }
      ],
      "source": [
        "display(df['AP ID'].unique())"
      ]
    },
    {
      "cell_type": "code",
      "execution_count": 29,
      "metadata": {},
      "outputs": [
        {
          "data": {
            "image/png": "[encoded data removed]",
            "text/plain": [
              "<Figure size 1500x1500 with 3 Axes>"
            ]
          },
          "metadata": {},
          "output_type": "display_data"
        }
      ],
      "source": [
        "columns_to_plot = [ 'Bytes', 'Active Connections', 'Active Users']\n",
        "\n",
        "plt.figure(figsize=(15, 15))  # Set the figure size (width, height) in inches\n",
        "\n",
        "for i, col in enumerate(columns_to_plot, 1):\n",
        "    plt.subplot(5, 2, i)\n",
        "    plt.hist(df[col], bins=50, edgecolor='black')\n",
        "    plt.title(f'Distribution of {col}')\n",
        "    plt.xlabel(col)\n",
        "    plt.ylabel('Frequency')\n",
        "\n",
        "plt.tight_layout()\n",
        "plt.show()"
      ]
    },
    {
      "cell_type": "markdown",
      "metadata": {
        "id": "bTAXUX5lN9KF"
      },
      "source": [
        "## EXERCISES"
      ]
    },
    {
      "cell_type": "markdown",
      "metadata": {
        "id": "weqFFp6eShJg"
      },
      "source": [
        "### Exercise 1:\n",
        "\n",
        "Analyze the data from the different APs and discuss their properites (stationarity, trends, seasonality).\n",
        "\n",
        "Select 2 or 3 key APs showing different properties and generate:\n",
        "\n",
        "* Line plots (to plot the load vs the time)\n",
        "* Autocorrelation plots (to show the relationship between past and future samples of the load)\n",
        "* An Augmented Dickey-Fuller test (to study the stationarity of the AP)\n",
        "\n"
      ]
    },
    {
      "cell_type": "code",
      "execution_count": 30,
      "metadata": {
        "id": "o3tirZCOSkNC"
      },
      "outputs": [
        {
          "data": {
            "application/vnd.microsoft.datawrangler.viewer.v0+json": {
              "columns": [
                {
                  "name": "datetime",
                  "rawType": "datetime64[ns]",
                  "type": "datetime"
                },
                {
                  "name": "Bytes",
                  "rawType": "float64",
                  "type": "float"
                },
                {
                  "name": "Active Connections",
                  "rawType": "float64",
                  "type": "float"
                },
                {
                  "name": "Active Users",
                  "rawType": "float64",
                  "type": "float"
                },
                {
                  "name": "AP ID",
                  "rawType": "object",
                  "type": "string"
                }
              ],
              "ref": "742a4bfe-3a92-4f9f-bef3-47cb2938857d",
              "rows": [
                [
                  "2019-04-30 07:10:00",
                  "0.0",
                  "0.07520891364902507",
                  "0.0",
                  "7-1012"
                ],
                [
                  "2019-04-30 07:20:00",
                  "0.0",
                  "0.0",
                  "0.0",
                  "7-1012"
                ],
                [
                  "2019-04-30 07:30:00",
                  "0.0",
                  "0.0",
                  "0.0",
                  "7-1012"
                ],
                [
                  "2019-04-30 07:40:00",
                  "0.0",
                  "0.0",
                  "0.0",
                  "7-1012"
                ],
                [
                  "2019-04-30 07:50:00",
                  "0.0",
                  "0.0",
                  "0.0",
                  "7-1012"
                ],
                [
                  "2019-04-30 08:00:00",
                  "0.0",
                  "0.0",
                  "0.0",
                  "7-1012"
                ],
                [
                  "2019-04-30 08:10:00",
                  "0.0",
                  "0.028333333333333332",
                  "0.0",
                  "7-1012"
                ],
                [
                  "2019-04-30 08:20:00",
                  "0.0",
                  "0.0",
                  "0.0",
                  "7-1012"
                ],
                [
                  "2019-04-30 08:30:00",
                  "0.0",
                  "0.0",
                  "0.0",
                  "7-1012"
                ],
                [
                  "2019-04-30 08:40:00",
                  "0.0",
                  "0.0",
                  "0.0",
                  "7-1012"
                ],
                [
                  "2019-04-30 08:50:00",
                  "0.0",
                  "0.10166666666666667",
                  "0.0",
                  "7-1012"
                ],
                [
                  "2019-04-30 09:00:00",
                  "0.0",
                  "0.0",
                  "0.0",
                  "7-1012"
                ],
                [
                  "2019-04-30 09:10:00",
                  "0.0",
                  "0.0",
                  "0.0",
                  "7-1012"
                ],
                [
                  "2019-04-30 09:20:00",
                  "0.0",
                  "0.0",
                  "0.0",
                  "7-1012"
                ],
                [
                  "2019-04-30 09:30:00",
                  "1.05",
                  "0.23333333333333334",
                  "0.11666666666666667",
                  "7-1012"
                ],
                [
                  "2019-04-30 09:40:00",
                  "9.0",
                  "1.585",
                  "1.0",
                  "7-1012"
                ],
                [
                  "2019-04-30 09:50:00",
                  "7.965",
                  "0.885",
                  "0.885",
                  "7-1012"
                ],
                [
                  "2019-04-30 10:00:00",
                  "0.0",
                  "0.0",
                  "0.0",
                  "7-1012"
                ],
                [
                  "2019-04-30 10:10:00",
                  "0.0",
                  "0.11666666666666667",
                  "0.0",
                  "7-1012"
                ],
                [
                  "2019-04-30 10:20:00",
                  "0.0",
                  "0.885",
                  "0.0",
                  "7-1012"
                ],
                [
                  "2019-04-30 10:30:00",
                  "0.0",
                  "0.11666666666666667",
                  "0.0",
                  "7-1012"
                ],
                [
                  "2019-04-30 10:40:00",
                  "0.0",
                  "0.885",
                  "0.0",
                  "7-1012"
                ],
                [
                  "2019-04-30 10:50:00",
                  "0.0",
                  "0.0",
                  "0.0",
                  "7-1012"
                ],
                [
                  "2019-04-30 11:00:00",
                  "0.0",
                  "0.0",
                  "0.0",
                  "7-1012"
                ],
                [
                  "2019-04-30 11:10:00",
                  "30820.52272333333",
                  "0.22",
                  "0.22",
                  "7-1012"
                ],
                [
                  "2019-04-30 11:20:00",
                  "689.415",
                  "0.885",
                  "0.885",
                  "7-1012"
                ],
                [
                  "2019-04-30 11:30:00",
                  "0.0",
                  "0.0",
                  "0.0",
                  "7-1012"
                ],
                [
                  "2019-04-30 11:40:00",
                  "0.0",
                  "0.0",
                  "0.0",
                  "7-1012"
                ],
                [
                  "2019-04-30 11:50:00",
                  "0.0",
                  "0.0",
                  "0.0",
                  "7-1012"
                ],
                [
                  "2019-04-30 12:00:00",
                  "0.0",
                  "0.0",
                  "0.0",
                  "7-1012"
                ],
                [
                  "2019-04-30 12:10:00",
                  "0.0",
                  "0.11666666666666667",
                  "0.0",
                  "7-1012"
                ],
                [
                  "2019-04-30 12:20:00",
                  "0.0",
                  "0.085",
                  "0.0",
                  "7-1012"
                ],
                [
                  "2019-04-30 12:30:00",
                  "0.0",
                  "0.0",
                  "0.0",
                  "7-1012"
                ],
                [
                  "2019-04-30 12:40:00",
                  "0.0",
                  "0.0",
                  "0.0",
                  "7-1012"
                ],
                [
                  "2019-04-30 12:50:00",
                  "0.0",
                  "0.35",
                  "0.0",
                  "7-1012"
                ],
                [
                  "2019-04-30 13:00:00",
                  "0.0",
                  "2.085",
                  "0.0",
                  "7-1012"
                ],
                [
                  "2019-04-30 13:10:00",
                  "0.0",
                  "1.5883333333333334",
                  "0.0",
                  "7-1012"
                ],
                [
                  "2019-04-30 13:20:00",
                  "0.0",
                  "0.885",
                  "0.0",
                  "7-1012"
                ],
                [
                  "2019-04-30 13:30:00",
                  "0.0",
                  "0.0",
                  "0.0",
                  "7-1012"
                ],
                [
                  "2019-04-30 13:40:00",
                  "0.0",
                  "0.21833333333333332",
                  "0.0",
                  "7-1012"
                ],
                [
                  "2019-04-30 13:50:00",
                  "105.875",
                  "1.3366666666666667",
                  "0.11666666666666667",
                  "7-1012"
                ],
                [
                  "2019-04-30 14:00:00",
                  "77.1375",
                  "1.855",
                  "0.085",
                  "7-1012"
                ],
                [
                  "2019-04-30 14:10:00",
                  "701.0596833333333",
                  "0.35",
                  "0.23333333333333334",
                  "7-1012"
                ],
                [
                  "2019-04-30 14:20:00",
                  "6009.083",
                  "3.0016666666666665",
                  "2.0",
                  "7-1012"
                ],
                [
                  "2019-04-30 14:30:00",
                  "6009.083",
                  "3.0",
                  "2.0",
                  "7-1012"
                ],
                [
                  "2019-04-30 14:40:00",
                  "5929.924704999999",
                  "2.421666666666667",
                  "1.885",
                  "7-1012"
                ],
                [
                  "2019-04-30 14:50:00",
                  "4708.86375",
                  "2.0433333333333334",
                  "0.885",
                  "7-1012"
                ],
                [
                  "2019-04-30 15:00:00",
                  "0.0",
                  "0.11666666666666667",
                  "0.0",
                  "7-1012"
                ],
                [
                  "2019-04-30 15:10:00",
                  "72704.1",
                  "1.0216666666666667",
                  "0.11666666666666667",
                  "7-1012"
                ],
                [
                  "2019-04-30 15:20:00",
                  "623178.0",
                  "2.1166666666666667",
                  "1.0",
                  "7-1012"
                ]
              ],
              "shape": {
                "columns": 4,
                "rows": 2071
              }
            },
            "text/html": [
              "<div>\n",
              "<style scoped>\n",
              "    .dataframe tbody tr th:only-of-type {\n",
              "        vertical-align: middle;\n",
              "    }\n",
              "\n",
              "    .dataframe tbody tr th {\n",
              "        vertical-align: top;\n",
              "    }\n",
              "\n",
              "    .dataframe thead th {\n",
              "        text-align: right;\n",
              "    }\n",
              "</style>\n",
              "<table border=\"1\" class=\"dataframe\">\n",
              "  <thead>\n",
              "    <tr style=\"text-align: right;\">\n",
              "      <th></th>\n",
              "      <th>Bytes</th>\n",
              "      <th>Active Connections</th>\n",
              "      <th>Active Users</th>\n",
              "      <th>AP ID</th>\n",
              "    </tr>\n",
              "    <tr>\n",
              "      <th>datetime</th>\n",
              "      <th></th>\n",
              "      <th></th>\n",
              "      <th></th>\n",
              "      <th></th>\n",
              "    </tr>\n",
              "  </thead>\n",
              "  <tbody>\n",
              "    <tr>\n",
              "      <th>2019-04-30 07:10:00</th>\n",
              "      <td>0.00000</td>\n",
              "      <td>0.075209</td>\n",
              "      <td>0.00</td>\n",
              "      <td>7-1012</td>\n",
              "    </tr>\n",
              "    <tr>\n",
              "      <th>2019-04-30 07:20:00</th>\n",
              "      <td>0.00000</td>\n",
              "      <td>0.000000</td>\n",
              "      <td>0.00</td>\n",
              "      <td>7-1012</td>\n",
              "    </tr>\n",
              "    <tr>\n",
              "      <th>2019-04-30 07:30:00</th>\n",
              "      <td>0.00000</td>\n",
              "      <td>0.000000</td>\n",
              "      <td>0.00</td>\n",
              "      <td>7-1012</td>\n",
              "    </tr>\n",
              "    <tr>\n",
              "      <th>2019-04-30 07:40:00</th>\n",
              "      <td>0.00000</td>\n",
              "      <td>0.000000</td>\n",
              "      <td>0.00</td>\n",
              "      <td>7-1012</td>\n",
              "    </tr>\n",
              "    <tr>\n",
              "      <th>2019-04-30 07:50:00</th>\n",
              "      <td>0.00000</td>\n",
              "      <td>0.000000</td>\n",
              "      <td>0.00</td>\n",
              "      <td>7-1012</td>\n",
              "    </tr>\n",
              "    <tr>\n",
              "      <th>...</th>\n",
              "      <td>...</td>\n",
              "      <td>...</td>\n",
              "      <td>...</td>\n",
              "      <td>...</td>\n",
              "    </tr>\n",
              "    <tr>\n",
              "      <th>2019-05-14 15:30:00</th>\n",
              "      <td>46044.64200</td>\n",
              "      <td>5.000000</td>\n",
              "      <td>3.00</td>\n",
              "      <td>7-1012</td>\n",
              "    </tr>\n",
              "    <tr>\n",
              "      <th>2019-05-14 15:40:00</th>\n",
              "      <td>46044.64200</td>\n",
              "      <td>4.753333</td>\n",
              "      <td>3.00</td>\n",
              "      <td>7-1012</td>\n",
              "    </tr>\n",
              "    <tr>\n",
              "      <th>2019-05-14 15:50:00</th>\n",
              "      <td>25478.03524</td>\n",
              "      <td>2.660000</td>\n",
              "      <td>1.66</td>\n",
              "      <td>7-1012</td>\n",
              "    </tr>\n",
              "    <tr>\n",
              "      <th>2019-05-14 16:00:00</th>\n",
              "      <td>0.00000</td>\n",
              "      <td>1.000000</td>\n",
              "      <td>0.00</td>\n",
              "      <td>7-1012</td>\n",
              "    </tr>\n",
              "    <tr>\n",
              "      <th>2019-05-14 16:10:00</th>\n",
              "      <td>0.00000</td>\n",
              "      <td>1.000000</td>\n",
              "      <td>0.00</td>\n",
              "      <td>7-1012</td>\n",
              "    </tr>\n",
              "  </tbody>\n",
              "</table>\n",
              "<p>2071 rows × 4 columns</p>\n",
              "</div>"
            ],
            "text/plain": [
              "                           Bytes  Active Connections  Active Users   AP ID\n",
              "datetime                                                                  \n",
              "2019-04-30 07:10:00      0.00000            0.075209          0.00  7-1012\n",
              "2019-04-30 07:20:00      0.00000            0.000000          0.00  7-1012\n",
              "2019-04-30 07:30:00      0.00000            0.000000          0.00  7-1012\n",
              "2019-04-30 07:40:00      0.00000            0.000000          0.00  7-1012\n",
              "2019-04-30 07:50:00      0.00000            0.000000          0.00  7-1012\n",
              "...                          ...                 ...           ...     ...\n",
              "2019-05-14 15:30:00  46044.64200            5.000000          3.00  7-1012\n",
              "2019-05-14 15:40:00  46044.64200            4.753333          3.00  7-1012\n",
              "2019-05-14 15:50:00  25478.03524            2.660000          1.66  7-1012\n",
              "2019-05-14 16:00:00      0.00000            1.000000          0.00  7-1012\n",
              "2019-05-14 16:10:00      0.00000            1.000000          0.00  7-1012\n",
              "\n",
              "[2071 rows x 4 columns]"
            ]
          },
          "metadata": {},
          "output_type": "display_data"
        },
        {
          "data": {
            "image/png": "[encoded data removed]",
            "text/plain": [
              "<Figure size 1000x500 with 1 Axes>"
            ]
          },
          "metadata": {},
          "output_type": "display_data"
        },
        {
          "data": {
            "application/vnd.microsoft.datawrangler.viewer.v0+json": {
              "columns": [
                {
                  "name": "datetime",
                  "rawType": "datetime64[ns]",
                  "type": "datetime"
                },
                {
                  "name": "Bytes",
                  "rawType": "float64",
                  "type": "float"
                },
                {
                  "name": "Active Connections",
                  "rawType": "float64",
                  "type": "float"
                },
                {
                  "name": "Active Users",
                  "rawType": "float64",
                  "type": "float"
                },
                {
                  "name": "AP ID",
                  "rawType": "object",
                  "type": "string"
                }
              ],
              "ref": "a8679a1e-dfba-4e1e-986c-3740e58f2a61",
              "rows": [
                [
                  "2019-04-29 23:40:00",
                  "135931.643",
                  "1.0",
                  "1.0",
                  "7-1013"
                ],
                [
                  "2019-04-29 23:50:00",
                  "135931.643",
                  "1.0",
                  "1.0",
                  "7-1013"
                ],
                [
                  "2019-04-30 00:00:00",
                  "135931.643",
                  "1.0",
                  "1.0",
                  "7-1013"
                ],
                [
                  "2019-04-30 00:10:00",
                  "135931.643",
                  "1.0",
                  "1.0",
                  "7-1013"
                ],
                [
                  "2019-04-30 00:20:00",
                  "135931.643",
                  "1.0",
                  "1.0",
                  "7-1013"
                ],
                [
                  "2019-04-30 00:30:00",
                  "135931.643",
                  "1.0",
                  "1.0",
                  "7-1013"
                ],
                [
                  "2019-04-30 00:40:00",
                  "135931.643",
                  "1.025",
                  "1.0",
                  "7-1013"
                ],
                [
                  "2019-04-30 00:50:00",
                  "11554.189655",
                  "0.085",
                  "0.085",
                  "7-1013"
                ],
                [
                  "2019-04-30 01:00:00",
                  "0.0",
                  "0.0",
                  "0.0",
                  "7-1013"
                ],
                [
                  "2019-04-30 01:10:00",
                  "0.0",
                  "0.0",
                  "0.0",
                  "7-1013"
                ],
                [
                  "2019-04-30 01:20:00",
                  "0.0",
                  "0.056666666666666664",
                  "0.0",
                  "7-1013"
                ],
                [
                  "2019-04-30 01:30:00",
                  "0.0",
                  "0.0",
                  "0.0",
                  "7-1013"
                ],
                [
                  "2019-04-30 01:40:00",
                  "0.0",
                  "0.0",
                  "0.0",
                  "7-1013"
                ],
                [
                  "2019-04-30 01:50:00",
                  "0.0",
                  "0.0",
                  "0.0",
                  "7-1013"
                ],
                [
                  "2019-04-30 02:00:00",
                  "0.0",
                  "0.0",
                  "0.0",
                  "7-1013"
                ],
                [
                  "2019-04-30 02:10:00",
                  "0.0",
                  "0.0",
                  "0.0",
                  "7-1013"
                ],
                [
                  "2019-04-30 02:20:00",
                  "0.0",
                  "0.0",
                  "0.0",
                  "7-1013"
                ],
                [
                  "2019-04-30 02:30:00",
                  "0.0",
                  "0.0",
                  "0.0",
                  "7-1013"
                ],
                [
                  "2019-04-30 02:40:00",
                  "0.0",
                  "0.0",
                  "0.0",
                  "7-1013"
                ],
                [
                  "2019-04-30 02:50:00",
                  "0.0",
                  "0.0",
                  "0.0",
                  "7-1013"
                ],
                [
                  "2019-04-30 03:00:00",
                  "0.0",
                  "0.0",
                  "0.0",
                  "7-1013"
                ],
                [
                  "2019-04-30 03:10:00",
                  "0.0",
                  "0.0",
                  "0.0",
                  "7-1013"
                ],
                [
                  "2019-04-30 03:20:00",
                  "0.0",
                  "0.0",
                  "0.0",
                  "7-1013"
                ],
                [
                  "2019-04-30 03:30:00",
                  "0.0",
                  "0.0",
                  "0.0",
                  "7-1013"
                ],
                [
                  "2019-04-30 03:40:00",
                  "0.0",
                  "0.37",
                  "0.0",
                  "7-1013"
                ],
                [
                  "2019-04-30 03:50:00",
                  "0.0",
                  "0.0",
                  "0.0",
                  "7-1013"
                ],
                [
                  "2019-04-30 04:00:00",
                  "0.0",
                  "0.0",
                  "0.0",
                  "7-1013"
                ],
                [
                  "2019-04-30 04:10:00",
                  "0.0",
                  "0.0",
                  "0.0",
                  "7-1013"
                ],
                [
                  "2019-04-30 04:20:00",
                  "0.0",
                  "0.0",
                  "0.0",
                  "7-1013"
                ],
                [
                  "2019-04-30 04:30:00",
                  "0.0",
                  "0.0",
                  "0.0",
                  "7-1013"
                ],
                [
                  "2019-04-30 04:40:00",
                  "0.0",
                  "0.0",
                  "0.0",
                  "7-1013"
                ],
                [
                  "2019-04-30 04:50:00",
                  "0.0",
                  "0.0",
                  "0.0",
                  "7-1013"
                ],
                [
                  "2019-04-30 05:00:00",
                  "0.0",
                  "0.0",
                  "0.0",
                  "7-1013"
                ],
                [
                  "2019-04-30 05:10:00",
                  "0.0",
                  "0.0",
                  "0.0",
                  "7-1013"
                ],
                [
                  "2019-04-30 05:20:00",
                  "0.0",
                  "0.0",
                  "0.0",
                  "7-1013"
                ],
                [
                  "2019-04-30 05:30:00",
                  "0.0",
                  "0.0",
                  "0.0",
                  "7-1013"
                ],
                [
                  "2019-04-30 05:40:00",
                  "4.23939",
                  "0.9383333333333334",
                  "0.9383333333333334",
                  "7-1013"
                ],
                [
                  "2019-04-30 05:50:00",
                  "0.76806",
                  "0.17",
                  "0.17",
                  "7-1013"
                ],
                [
                  "2019-04-30 06:00:00",
                  "0.0",
                  "0.008333333333333333",
                  "0.0",
                  "7-1013"
                ],
                [
                  "2019-04-30 06:10:00",
                  "0.0",
                  "0.0",
                  "0.0",
                  "7-1013"
                ],
                [
                  "2019-04-30 06:20:00",
                  "0.0",
                  "0.0",
                  "0.0",
                  "7-1013"
                ],
                [
                  "2019-04-30 06:30:00",
                  "0.0",
                  "0.0",
                  "0.0",
                  "7-1013"
                ],
                [
                  "2019-04-30 06:40:00",
                  "0.0",
                  "2.535",
                  "0.0",
                  "7-1013"
                ],
                [
                  "2019-04-30 06:50:00",
                  "0.0",
                  "0.5566666666666666",
                  "0.0",
                  "7-1013"
                ],
                [
                  "2019-04-30 07:00:00",
                  "0.0",
                  "0.02666666666666667",
                  "0.0",
                  "7-1013"
                ],
                [
                  "2019-04-30 07:10:00",
                  "0.0",
                  "0.8533333333333334",
                  "0.0",
                  "7-1013"
                ],
                [
                  "2019-04-30 07:20:00",
                  "0.0",
                  "0.715",
                  "0.0",
                  "7-1013"
                ],
                [
                  "2019-04-30 07:30:00",
                  "0.0",
                  "5.855",
                  "0.0",
                  "7-1013"
                ],
                [
                  "2019-04-30 07:40:00",
                  "0.0",
                  "5.6866666666666665",
                  "0.0",
                  "7-1013"
                ],
                [
                  "2019-04-30 07:50:00",
                  "0.0",
                  "4.976666666666667",
                  "0.0",
                  "7-1013"
                ]
              ],
              "shape": {
                "columns": 4,
                "rows": 2158
              }
            },
            "text/html": [
              "<div>\n",
              "<style scoped>\n",
              "    .dataframe tbody tr th:only-of-type {\n",
              "        vertical-align: middle;\n",
              "    }\n",
              "\n",
              "    .dataframe tbody tr th {\n",
              "        vertical-align: top;\n",
              "    }\n",
              "\n",
              "    .dataframe thead th {\n",
              "        text-align: right;\n",
              "    }\n",
              "</style>\n",
              "<table border=\"1\" class=\"dataframe\">\n",
              "  <thead>\n",
              "    <tr style=\"text-align: right;\">\n",
              "      <th></th>\n",
              "      <th>Bytes</th>\n",
              "      <th>Active Connections</th>\n",
              "      <th>Active Users</th>\n",
              "      <th>AP ID</th>\n",
              "    </tr>\n",
              "    <tr>\n",
              "      <th>datetime</th>\n",
              "      <th></th>\n",
              "      <th></th>\n",
              "      <th></th>\n",
              "      <th></th>\n",
              "    </tr>\n",
              "  </thead>\n",
              "  <tbody>\n",
              "    <tr>\n",
              "      <th>2019-04-29 23:40:00</th>\n",
              "      <td>135931.64300</td>\n",
              "      <td>1.000000</td>\n",
              "      <td>1.000000</td>\n",
              "      <td>7-1013</td>\n",
              "    </tr>\n",
              "    <tr>\n",
              "      <th>2019-04-29 23:50:00</th>\n",
              "      <td>135931.64300</td>\n",
              "      <td>1.000000</td>\n",
              "      <td>1.000000</td>\n",
              "      <td>7-1013</td>\n",
              "    </tr>\n",
              "    <tr>\n",
              "      <th>2019-04-30 00:00:00</th>\n",
              "      <td>135931.64300</td>\n",
              "      <td>1.000000</td>\n",
              "      <td>1.000000</td>\n",
              "      <td>7-1013</td>\n",
              "    </tr>\n",
              "    <tr>\n",
              "      <th>2019-04-30 00:10:00</th>\n",
              "      <td>135931.64300</td>\n",
              "      <td>1.000000</td>\n",
              "      <td>1.000000</td>\n",
              "      <td>7-1013</td>\n",
              "    </tr>\n",
              "    <tr>\n",
              "      <th>2019-04-30 00:20:00</th>\n",
              "      <td>135931.64300</td>\n",
              "      <td>1.000000</td>\n",
              "      <td>1.000000</td>\n",
              "      <td>7-1013</td>\n",
              "    </tr>\n",
              "    <tr>\n",
              "      <th>...</th>\n",
              "      <td>...</td>\n",
              "      <td>...</td>\n",
              "      <td>...</td>\n",
              "      <td>...</td>\n",
              "    </tr>\n",
              "    <tr>\n",
              "      <th>2019-05-14 22:30:00</th>\n",
              "      <td>60.65776</td>\n",
              "      <td>0.106667</td>\n",
              "      <td>0.053333</td>\n",
              "      <td>7-1013</td>\n",
              "    </tr>\n",
              "    <tr>\n",
              "      <th>2019-05-14 22:40:00</th>\n",
              "      <td>0.00000</td>\n",
              "      <td>0.000000</td>\n",
              "      <td>0.000000</td>\n",
              "      <td>7-1013</td>\n",
              "    </tr>\n",
              "    <tr>\n",
              "      <th>2019-05-14 22:50:00</th>\n",
              "      <td>0.00000</td>\n",
              "      <td>0.000000</td>\n",
              "      <td>0.000000</td>\n",
              "      <td>7-1013</td>\n",
              "    </tr>\n",
              "    <tr>\n",
              "      <th>2019-05-14 23:00:00</th>\n",
              "      <td>0.00000</td>\n",
              "      <td>0.000000</td>\n",
              "      <td>0.000000</td>\n",
              "      <td>7-1013</td>\n",
              "    </tr>\n",
              "    <tr>\n",
              "      <th>2019-05-14 23:10:00</th>\n",
              "      <td>0.00000</td>\n",
              "      <td>0.853774</td>\n",
              "      <td>0.000000</td>\n",
              "      <td>7-1013</td>\n",
              "    </tr>\n",
              "  </tbody>\n",
              "</table>\n",
              "<p>2158 rows × 4 columns</p>\n",
              "</div>"
            ],
            "text/plain": [
              "                            Bytes  Active Connections  Active Users   AP ID\n",
              "datetime                                                                   \n",
              "2019-04-29 23:40:00  135931.64300            1.000000      1.000000  7-1013\n",
              "2019-04-29 23:50:00  135931.64300            1.000000      1.000000  7-1013\n",
              "2019-04-30 00:00:00  135931.64300            1.000000      1.000000  7-1013\n",
              "2019-04-30 00:10:00  135931.64300            1.000000      1.000000  7-1013\n",
              "2019-04-30 00:20:00  135931.64300            1.000000      1.000000  7-1013\n",
              "...                           ...                 ...           ...     ...\n",
              "2019-05-14 22:30:00      60.65776            0.106667      0.053333  7-1013\n",
              "2019-05-14 22:40:00       0.00000            0.000000      0.000000  7-1013\n",
              "2019-05-14 22:50:00       0.00000            0.000000      0.000000  7-1013\n",
              "2019-05-14 23:00:00       0.00000            0.000000      0.000000  7-1013\n",
              "2019-05-14 23:10:00       0.00000            0.853774      0.000000  7-1013\n",
              "\n",
              "[2158 rows x 4 columns]"
            ]
          },
          "metadata": {},
          "output_type": "display_data"
        },
        {
          "data": {
            "image/png": "[encoded data removed]",
            "text/plain": [
              "<Figure size 1000x500 with 1 Axes>"
            ]
          },
          "metadata": {},
          "output_type": "display_data"
        },
        {
          "data": {
            "application/vnd.microsoft.datawrangler.viewer.v0+json": {
              "columns": [
                {
                  "name": "datetime",
                  "rawType": "datetime64[ns]",
                  "type": "datetime"
                },
                {
                  "name": "Bytes",
                  "rawType": "float64",
                  "type": "float"
                },
                {
                  "name": "Active Connections",
                  "rawType": "float64",
                  "type": "float"
                },
                {
                  "name": "Active Users",
                  "rawType": "float64",
                  "type": "float"
                },
                {
                  "name": "AP ID",
                  "rawType": "object",
                  "type": "string"
                }
              ],
              "ref": "25b99373-3b7a-4471-90e9-953d5acdb6f7",
              "rows": [
                [
                  "2019-04-30 06:30:00",
                  "0.0",
                  "0.09900990099009901",
                  "0.0",
                  "7-1021"
                ],
                [
                  "2019-04-30 06:40:00",
                  "0.0",
                  "0.0",
                  "0.0",
                  "7-1021"
                ],
                [
                  "2019-04-30 06:50:00",
                  "0.0",
                  "0.0",
                  "0.0",
                  "7-1021"
                ],
                [
                  "2019-04-30 07:00:00",
                  "0.0",
                  "0.0",
                  "0.0",
                  "7-1021"
                ],
                [
                  "2019-04-30 07:10:00",
                  "0.0",
                  "0.0",
                  "0.0",
                  "7-1021"
                ],
                [
                  "2019-04-30 07:20:00",
                  "0.0",
                  "0.0",
                  "0.0",
                  "7-1021"
                ],
                [
                  "2019-04-30 07:30:00",
                  "0.0",
                  "0.0",
                  "0.0",
                  "7-1021"
                ],
                [
                  "2019-04-30 07:40:00",
                  "0.0",
                  "0.0",
                  "0.0",
                  "7-1021"
                ],
                [
                  "2019-04-30 07:50:00",
                  "0.0",
                  "0.0",
                  "0.0",
                  "7-1021"
                ],
                [
                  "2019-04-30 08:00:00",
                  "0.0",
                  "0.0",
                  "0.0",
                  "7-1021"
                ],
                [
                  "2019-04-30 08:10:00",
                  "0.0",
                  "0.0",
                  "0.0",
                  "7-1021"
                ],
                [
                  "2019-04-30 08:20:00",
                  "0.0",
                  "0.01",
                  "0.0",
                  "7-1021"
                ],
                [
                  "2019-04-30 08:30:00",
                  "0.0",
                  "0.0",
                  "0.0",
                  "7-1021"
                ],
                [
                  "2019-04-30 08:40:00",
                  "0.0",
                  "0.0",
                  "0.0",
                  "7-1021"
                ],
                [
                  "2019-04-30 08:50:00",
                  "0.0",
                  "0.0",
                  "0.0",
                  "7-1021"
                ],
                [
                  "2019-04-30 09:00:00",
                  "0.0",
                  "0.0",
                  "0.0",
                  "7-1021"
                ],
                [
                  "2019-04-30 09:10:00",
                  "0.0",
                  "0.0",
                  "0.0",
                  "7-1021"
                ],
                [
                  "2019-04-30 09:20:00",
                  "0.0",
                  "0.9166666666666666",
                  "0.0",
                  "7-1021"
                ],
                [
                  "2019-04-30 09:30:00",
                  "0.0",
                  "0.085",
                  "0.0",
                  "7-1021"
                ],
                [
                  "2019-04-30 09:40:00",
                  "35693.35",
                  "0.9166666666666666",
                  "0.9166666666666666",
                  "7-1021"
                ],
                [
                  "2019-04-30 09:50:00",
                  "88111.3735",
                  "2.118333333333333",
                  "1.9166666666666667",
                  "7-1021"
                ],
                [
                  "2019-04-30 10:00:00",
                  "98673.93591666665",
                  "3.8333333333333335",
                  "3.8333333333333335",
                  "7-1021"
                ],
                [
                  "2019-04-30 10:10:00",
                  "143167.44308333335",
                  "6.75",
                  "5.833333333333333",
                  "7-1021"
                ],
                [
                  "2019-04-30 10:20:00",
                  "147161.958",
                  "7.001666666666667",
                  "6.0",
                  "7-1021"
                ],
                [
                  "2019-04-30 10:30:00",
                  "251830.56575000004",
                  "7.003333333333333",
                  "6.001666666666667",
                  "7-1021"
                ],
                [
                  "2019-04-30 10:40:00",
                  "261275.09700000004",
                  "6.085",
                  "6.0",
                  "7-1021"
                ],
                [
                  "2019-04-30 10:50:00",
                  "229463.74950000003",
                  "6.4",
                  "5.085",
                  "7-1021"
                ],
                [
                  "2019-04-30 11:00:00",
                  "232908.08765",
                  "6.001666666666667",
                  "5.816666666666666",
                  "7-1021"
                ],
                [
                  "2019-04-30 11:10:00",
                  "255720.993365",
                  "6.815",
                  "6.815",
                  "7-1021"
                ],
                [
                  "2019-04-30 11:20:00",
                  "238056.34639166668",
                  "7.001666666666667",
                  "7.001666666666667",
                  "7-1021"
                ],
                [
                  "2019-04-30 11:30:00",
                  "116834.421725",
                  "4.011666666666667",
                  "3.91",
                  "7-1021"
                ],
                [
                  "2019-04-30 11:40:00",
                  "361712.082735",
                  "5.0633333333333335",
                  "1.715",
                  "7-1021"
                ],
                [
                  "2019-04-30 11:50:00",
                  "502767.54",
                  "4.785",
                  "2.0",
                  "7-1021"
                ],
                [
                  "2019-04-30 12:00:00",
                  "607010.0923683334",
                  "3.4883333333333333",
                  "2.5183333333333335",
                  "7-1021"
                ],
                [
                  "2019-04-30 12:10:00",
                  "252464.66917999997",
                  "2.3033333333333332",
                  "2.0866666666666664",
                  "7-1021"
                ],
                [
                  "2019-04-30 12:20:00",
                  "209570.612",
                  "2.0",
                  "2.0",
                  "7-1021"
                ],
                [
                  "2019-04-30 12:30:00",
                  "209570.612",
                  "2.0",
                  "2.0",
                  "7-1021"
                ],
                [
                  "2019-04-30 12:40:00",
                  "390221.95001666667",
                  "6.133333333333334",
                  "5.616666666666666",
                  "7-1021"
                ],
                [
                  "2019-04-30 12:50:00",
                  "559218.363",
                  "10.0",
                  "9.0",
                  "7-1021"
                ],
                [
                  "2019-04-30 13:00:00",
                  "559218.363",
                  "10.0",
                  "9.0",
                  "7-1021"
                ],
                [
                  "2019-04-30 13:10:00",
                  "646898.4740399999",
                  "15.811666666666667",
                  "14.81",
                  "7-1021"
                ],
                [
                  "2019-04-30 13:20:00",
                  "770495.739",
                  "24.001666666666665",
                  "23.0",
                  "7-1021"
                ],
                [
                  "2019-04-30 13:30:00",
                  "761609.6153883333",
                  "23.686666666666667",
                  "23.001666666666665",
                  "7-1021"
                ],
                [
                  "2019-04-30 13:40:00",
                  "742277.836",
                  "23.301666666666666",
                  "23.0",
                  "7-1021"
                ],
                [
                  "2019-04-30 13:50:00",
                  "741832.3481466667",
                  "23.31833333333333",
                  "23.001666666666665",
                  "7-1021"
                ],
                [
                  "2019-04-30 14:00:00",
                  "740865.79",
                  "24.31833333333333",
                  "23.316666666666666",
                  "7-1021"
                ],
                [
                  "2019-04-30 14:10:00",
                  "740872.965",
                  "24.685",
                  "24.0",
                  "7-1021"
                ],
                [
                  "2019-04-30 14:20:00",
                  "647250.4753766666",
                  "20.166666666666668",
                  "19.648333333333333",
                  "7-1021"
                ],
                [
                  "2019-04-30 14:30:00",
                  "143759.17215",
                  "5.425",
                  "4.74",
                  "7-1021"
                ],
                [
                  "2019-04-30 14:40:00",
                  "4873.754",
                  "3.0",
                  "3.0",
                  "7-1021"
                ]
              ],
              "shape": {
                "columns": 4,
                "rows": 2096
              }
            },
            "text/html": [
              "<div>\n",
              "<style scoped>\n",
              "    .dataframe tbody tr th:only-of-type {\n",
              "        vertical-align: middle;\n",
              "    }\n",
              "\n",
              "    .dataframe tbody tr th {\n",
              "        vertical-align: top;\n",
              "    }\n",
              "\n",
              "    .dataframe thead th {\n",
              "        text-align: right;\n",
              "    }\n",
              "</style>\n",
              "<table border=\"1\" class=\"dataframe\">\n",
              "  <thead>\n",
              "    <tr style=\"text-align: right;\">\n",
              "      <th></th>\n",
              "      <th>Bytes</th>\n",
              "      <th>Active Connections</th>\n",
              "      <th>Active Users</th>\n",
              "      <th>AP ID</th>\n",
              "    </tr>\n",
              "    <tr>\n",
              "      <th>datetime</th>\n",
              "      <th></th>\n",
              "      <th></th>\n",
              "      <th></th>\n",
              "      <th></th>\n",
              "    </tr>\n",
              "  </thead>\n",
              "  <tbody>\n",
              "    <tr>\n",
              "      <th>2019-04-30 06:30:00</th>\n",
              "      <td>0.0</td>\n",
              "      <td>0.099010</td>\n",
              "      <td>0.0</td>\n",
              "      <td>7-1021</td>\n",
              "    </tr>\n",
              "    <tr>\n",
              "      <th>2019-04-30 06:40:00</th>\n",
              "      <td>0.0</td>\n",
              "      <td>0.000000</td>\n",
              "      <td>0.0</td>\n",
              "      <td>7-1021</td>\n",
              "    </tr>\n",
              "    <tr>\n",
              "      <th>2019-04-30 06:50:00</th>\n",
              "      <td>0.0</td>\n",
              "      <td>0.000000</td>\n",
              "      <td>0.0</td>\n",
              "      <td>7-1021</td>\n",
              "    </tr>\n",
              "    <tr>\n",
              "      <th>2019-04-30 07:00:00</th>\n",
              "      <td>0.0</td>\n",
              "      <td>0.000000</td>\n",
              "      <td>0.0</td>\n",
              "      <td>7-1021</td>\n",
              "    </tr>\n",
              "    <tr>\n",
              "      <th>2019-04-30 07:10:00</th>\n",
              "      <td>0.0</td>\n",
              "      <td>0.000000</td>\n",
              "      <td>0.0</td>\n",
              "      <td>7-1021</td>\n",
              "    </tr>\n",
              "    <tr>\n",
              "      <th>...</th>\n",
              "      <td>...</td>\n",
              "      <td>...</td>\n",
              "      <td>...</td>\n",
              "      <td>...</td>\n",
              "    </tr>\n",
              "    <tr>\n",
              "      <th>2019-05-14 19:00:00</th>\n",
              "      <td>0.0</td>\n",
              "      <td>0.000000</td>\n",
              "      <td>0.0</td>\n",
              "      <td>7-1021</td>\n",
              "    </tr>\n",
              "    <tr>\n",
              "      <th>2019-05-14 19:10:00</th>\n",
              "      <td>0.0</td>\n",
              "      <td>0.000000</td>\n",
              "      <td>0.0</td>\n",
              "      <td>7-1021</td>\n",
              "    </tr>\n",
              "    <tr>\n",
              "      <th>2019-05-14 19:20:00</th>\n",
              "      <td>0.0</td>\n",
              "      <td>0.000000</td>\n",
              "      <td>0.0</td>\n",
              "      <td>7-1021</td>\n",
              "    </tr>\n",
              "    <tr>\n",
              "      <th>2019-05-14 19:30:00</th>\n",
              "      <td>0.0</td>\n",
              "      <td>0.000000</td>\n",
              "      <td>0.0</td>\n",
              "      <td>7-1021</td>\n",
              "    </tr>\n",
              "    <tr>\n",
              "      <th>2019-05-14 19:40:00</th>\n",
              "      <td>0.0</td>\n",
              "      <td>0.155612</td>\n",
              "      <td>0.0</td>\n",
              "      <td>7-1021</td>\n",
              "    </tr>\n",
              "  </tbody>\n",
              "</table>\n",
              "<p>2096 rows × 4 columns</p>\n",
              "</div>"
            ],
            "text/plain": [
              "                     Bytes  Active Connections  Active Users   AP ID\n",
              "datetime                                                            \n",
              "2019-04-30 06:30:00    0.0            0.099010           0.0  7-1021\n",
              "2019-04-30 06:40:00    0.0            0.000000           0.0  7-1021\n",
              "2019-04-30 06:50:00    0.0            0.000000           0.0  7-1021\n",
              "2019-04-30 07:00:00    0.0            0.000000           0.0  7-1021\n",
              "2019-04-30 07:10:00    0.0            0.000000           0.0  7-1021\n",
              "...                    ...                 ...           ...     ...\n",
              "2019-05-14 19:00:00    0.0            0.000000           0.0  7-1021\n",
              "2019-05-14 19:10:00    0.0            0.000000           0.0  7-1021\n",
              "2019-05-14 19:20:00    0.0            0.000000           0.0  7-1021\n",
              "2019-05-14 19:30:00    0.0            0.000000           0.0  7-1021\n",
              "2019-05-14 19:40:00    0.0            0.155612           0.0  7-1021\n",
              "\n",
              "[2096 rows x 4 columns]"
            ]
          },
          "metadata": {},
          "output_type": "display_data"
        },
        {
          "data": {
            "image/png": "[encoded data removed]",
            "text/plain": [
              "<Figure size 1000x500 with 1 Axes>"
            ]
          },
          "metadata": {},
          "output_type": "display_data"
        }
      ],
      "source": [
        "# (response to exercise 1)\n",
        "\n",
        "selected_APs= df['AP ID'].unique()[:3]  # Select first 3 AP IDs\n",
        "for ap_id in selected_APs:\n",
        "    ap_data = df[df['AP ID'] == ap_id]\n",
        "    display(ap_data)\n",
        "    plt.figure(figsize=(10, 5))\n",
        "    plt.plot(ap_data.index, ap_data['Bytes'], label='Bytes', color='blue')\n",
        "    plt.plot(ap_data.index, ap_data['Active Connections'], label='Active Connections', color='orange')\n",
        "    plt.plot(ap_data.index, ap_data['Active Users'], label='Active Users', color='green')\n",
        "    plt.title(f'AP ID: {ap_id}')\n",
        "    plt.xlabel('datetime')\n",
        "    plt.ylabel('Values')\n",
        "    plt.legend()\n",
        "    plt.xticks(rotation=45)\n",
        "    plt.tight_layout()\n",
        "    plt.show()"
      ]
    },
    {
      "cell_type": "code",
      "execution_count": 31,
      "metadata": {},
      "outputs": [
        {
          "data": {
            "image/png": "[encoded data removed]",
            "text/plain": [
              "<Figure size 800x400 with 1 Axes>"
            ]
          },
          "metadata": {},
          "output_type": "display_data"
        },
        {
          "data": {
            "image/png": "[encoded data removed]",
            "text/plain": [
              "<Figure size 800x400 with 1 Axes>"
            ]
          },
          "metadata": {},
          "output_type": "display_data"
        },
        {
          "data": {
            "image/png": "[encoded data removed]",
            "text/plain": [
              "<Figure size 800x400 with 1 Axes>"
            ]
          },
          "metadata": {},
          "output_type": "display_data"
        }
      ],
      "source": [
        "from pandas.plotting import autocorrelation_plot\n",
        "# Alternatively, for more control:\n",
        "# from statsmodels.graphics.tsaplots import plot_acf\n",
        "\n",
        "for ap_id in selected_APs:\n",
        "    ap_data = df[df['AP ID'] == ap_id]\n",
        "    plt.figure(figsize=(8, 4))\n",
        "    autocorrelation_plot(ap_data['Bytes'])\n",
        "    plt.title(f'Autocorrelation of Bytes for AP ID: {ap_id}')\n",
        "    plt.show()\n",
        "    \n",
        "    # # If you want to use statsmodels for more lags:\n",
        "    # plot_acf(ap_data['Bytes'], lags=50)\n",
        "    # plt.title(f'Autocorrelation of Bytes for AP ID: {ap_id}')\n",
        "    # plt.show()"
      ]
    },
    {
      "cell_type": "code",
      "execution_count": 32,
      "metadata": {},
      "outputs": [
        {
          "name": "stdout",
          "output_type": "stream",
          "text": [
            "\n",
            "ADF Test for AP ID: 7-1012\n",
            "ADF Statistic: -8.0108\n",
            "p-value: 0.0000\n",
            "Critical Value 1%: -3.4336\n",
            "Critical Value 5%: -2.8630\n",
            "Critical Value 10%: -2.5675\n",
            "=> The series is likely stationary.\n",
            "\n",
            "ADF Test for AP ID: 7-1013\n",
            "ADF Statistic: -14.6033\n",
            "p-value: 0.0000\n",
            "Critical Value 1%: -3.4334\n",
            "Critical Value 5%: -2.8629\n",
            "Critical Value 10%: -2.5675\n",
            "=> The series is likely stationary.\n",
            "\n",
            "ADF Test for AP ID: 7-1021\n",
            "ADF Statistic: -8.8701\n",
            "p-value: 0.0000\n",
            "Critical Value 1%: -3.4335\n",
            "Critical Value 5%: -2.8629\n",
            "Critical Value 10%: -2.5675\n",
            "=> The series is likely stationary.\n"
          ]
        }
      ],
      "source": [
        "from statsmodels.tsa.stattools import adfuller\n",
        "\n",
        "for ap_id in selected_APs:\n",
        "    ap_data = df[df['AP ID'] == ap_id]\n",
        "    print(f\"\\nADF Test for AP ID: {ap_id}\")\n",
        "    result = adfuller(ap_data['Bytes'].dropna())\n",
        "    print(f\"ADF Statistic: {result[0]:.4f}\")\n",
        "    print(f\"p-value: {result[1]:.4f}\")\n",
        "    for key, value in result[4].items():\n",
        "        print(f\"Critical Value {key}: {value:.4f}\")\n",
        "    if result[1] < 0.05:\n",
        "        print(\"=> The series is likely stationary.\")\n",
        "    else:\n",
        "        print(\"=> The series is likely non-stationary.\")"
      ]
    },
    {
      "cell_type": "markdown",
      "metadata": {
        "id": "E3vAU830SmuR"
      },
      "source": [
        "### Exercise 2:\n",
        "\n",
        "Prepare the data to be presented as a time series to the ML model. For that, you will have to split features from samples by differentiating between an observation window (e.g., 10 samples) and a prediction window (e.g., 2 samples). Use a sliding window to iterate over all the samples.\n",
        "\n",
        "Example: For an array [0,1,2,3,4,5], using an observation window $T_o$ = 3 and a prediction window $T_p$ = 1 would lead to the following time series data:\n",
        "* $x_1$ = [0,1,2], $y_1$ = [3]\n",
        "* $x_2$ = [1,2,3], $x_2$ = [4]\n",
        "* $x_3$ = [2,3,4], $y_3$ = [5]\n",
        "\n",
        "(where x are the features and y the labels)"
      ]
    },
    {
      "cell_type": "code",
      "execution_count": 33,
      "metadata": {
        "id": "PTjjIcWDS3yC"
      },
      "outputs": [
        {
          "name": "stdout",
          "output_type": "stream",
          "text": [
            "X shape: (210764, 3, 3)\n",
            "y shape: (210764, 1)\n"
          ]
        }
      ],
      "source": [
        "# Parameters\n",
        "T_o = 3  # Observation window\n",
        "T_p = 1   # Prediction window\n",
        "\n",
        "# Choose features and target columns\n",
        "feature_cols = ['Bytes', 'Active Connections', 'Active Users']\n",
        "target_col = 'Bytes'\n",
        "\n",
        "X_list = []\n",
        "y_list = []\n",
        "\n",
        "# Sort by datetime if needed (if index is datetime)\n",
        "df_sorted = df.sort_index()\n",
        "\n",
        "for ap_id in df_sorted['AP ID'].unique():\n",
        "    ap_data = df_sorted[df_sorted['AP ID'] == ap_id]\n",
        "    ap_data_feat = ap_data[feature_cols].values\n",
        "    ap_data_target = ap_data[target_col].values\n",
        "    for i in range(len(ap_data) - T_o - T_p + 1):\n",
        "        X_list.append(ap_data_feat[i:i+T_o])\n",
        "        y_list.append(ap_data_target[i+T_o:i+T_o+T_p])\n",
        "\n",
        "X = np.array(X_list)  # shape: (samples, T_o, num_features)\n",
        "y = np.array(y_list)  # shape: (samples, T_p)\n",
        "\n",
        "print(\"X shape:\", X.shape)\n",
        "print(\"y shape:\", y.shape)"
      ]
    },
    {
      "cell_type": "markdown",
      "metadata": {
        "id": "7hgfWEriSpMa"
      },
      "source": [
        "### Exercise 3:\n",
        "\n",
        "Split the time series data into train, test, and validation, based on your criteria."
      ]
    },
    {
      "cell_type": "code",
      "execution_count": 34,
      "metadata": {
        "id": "PqgnnqflZ8R3"
      },
      "outputs": [
        {
          "name": "stdout",
          "output_type": "stream",
          "text": [
            "Training set shape: (126458, 3, 3) (126458, 1)\n",
            "Validation set shape: (42153, 3, 3) (42153, 1)\n",
            "Test set shape: (42153, 3, 3) (42153, 1)\n"
          ]
        }
      ],
      "source": [
        "# (response to exercise 3)\n",
        "\n",
        "# We will split the data into training 60%, validation 20%, and test 20% sets.\n",
        "\n",
        "from sklearn.model_selection import train_test_split\n",
        "\n",
        "X_train, X_test, y_train, y_test = train_test_split(X, y, test_size=0.4, random_state=42)\n",
        "X_val, X_test, y_val, y_test = train_test_split(X_test, y_test, test_size=0.5, random_state=42)\n",
        "print(\"Training set shape:\", X_train.shape, y_train.shape)\n",
        "print(\"Validation set shape:\", X_val.shape, y_val.shape)\n",
        "print(\"Test set shape:\", X_test.shape, y_test.shape)\n"
      ]
    },
    {
      "cell_type": "markdown",
      "metadata": {
        "id": "zGXDiQQEZ5vL"
      },
      "source": [
        "### Exercise 4:\n",
        "Define a model (e.g., GRU, LSTM, CNN, Transformer) able to receive the time series the data you generated in the previous exercise."
      ]
    },
    {
      "cell_type": "code",
      "execution_count": 35,
      "metadata": {
        "id": "8AhYwVhNfWGA"
      },
      "outputs": [
        {
          "name": "stderr",
          "output_type": "stream",
          "text": [
            "2025-06-04 19:05:57.917695: I external/local_xla/xla/tsl/cuda/cudart_stub.cc:32] Could not find cuda drivers on your machine, GPU will not be used.\n",
            "2025-06-04 19:05:57.926614: I external/local_xla/xla/tsl/cuda/cudart_stub.cc:32] Could not find cuda drivers on your machine, GPU will not be used.\n",
            "2025-06-04 19:05:57.939229: E external/local_xla/xla/stream_executor/cuda/cuda_fft.cc:467] Unable to register cuFFT factory: Attempting to register factory for plugin cuFFT when one has already been registered\n",
            "WARNING: All log messages before absl::InitializeLog() is called are written to STDERR\n",
            "E0000 00:00:1749056757.968290    7833 cuda_dnn.cc:8579] Unable to register cuDNN factory: Attempting to register factory for plugin cuDNN when one has already been registered\n",
            "E0000 00:00:1749056757.977990    7833 cuda_blas.cc:1407] Unable to register cuBLAS factory: Attempting to register factory for plugin cuBLAS when one has already been registered\n",
            "W0000 00:00:1749056758.006694    7833 computation_placer.cc:177] computation placer already registered. Please check linkage and avoid linking the same target more than once.\n",
            "W0000 00:00:1749056758.006731    7833 computation_placer.cc:177] computation placer already registered. Please check linkage and avoid linking the same target more than once.\n",
            "W0000 00:00:1749056758.006734    7833 computation_placer.cc:177] computation placer already registered. Please check linkage and avoid linking the same target more than once.\n",
            "W0000 00:00:1749056758.006737    7833 computation_placer.cc:177] computation placer already registered. Please check linkage and avoid linking the same target more than once.\n",
            "2025-06-04 19:05:58.015740: I tensorflow/core/platform/cpu_feature_guard.cc:210] This TensorFlow binary is optimized to use available CPU instructions in performance-critical operations.\n",
            "To enable the following instructions: AVX2 FMA, in other operations, rebuild TensorFlow with the appropriate compiler flags.\n"
          ]
        }
      ],
      "source": [
        "# (response to exercise 4)\n",
        "\n",
        "import tensorflow as tf\n",
        "from tensorflow import keras\n",
        "from tensorflow.keras import layers, models\n",
        "\n",
        "def create_lstm_model(input_shape):\n",
        "    model = models.Sequential()\n",
        "    model.add(layers.LSTM(64, activation='relu', input_shape=input_shape))\n",
        "    model.add(layers.Dense(32, activation='relu'))\n",
        "    model.add(layers.Dense(1))  # Assuming a single output for regression\n",
        "    model.compile(optimizer='adam', loss='mse')\n",
        "    return model\n",
        "\n",
        " "
      ]
    },
    {
      "cell_type": "markdown",
      "metadata": {
        "id": "Uy_SulYKeEn4"
      },
      "source": [
        "### Exercise 5:\n",
        "\n",
        "Train your model following two approaches:\n",
        "1. **Centralized model training:** Mix data from multiple APs to train the model in a centralized fashion.\n",
        "2. **Federated model training:** Consider APs as independent clients who contribute to training a global model by submitting local model updates.\n",
        "\n",
        "Show the results by calculating the following metrics from the de-normalized data:\n",
        "* Mean squared error (MSE)\n",
        "* Mean absolute error (MAE)\n",
        "* Mean absolute percentage error (MAPE)"
      ]
    },
    {
      "cell_type": "code",
      "execution_count": null,
      "metadata": {
        "id": "TB4TAqiAeNXk"
      },
      "outputs": [
        {
          "name": "stdout",
          "output_type": "stream",
          "text": [
            "Epoch 1/50\n"
          ]
        },
        {
          "name": "stderr",
          "output_type": "stream",
          "text": [
            "E0000 00:00:1749056761.718018    7833 cuda_executor.cc:1228] INTERNAL: CUDA Runtime error: Failed call to cudaGetRuntimeVersion: Error loading CUDA libraries. GPU will not be used.: Error loading CUDA libraries. GPU will not be used.\n",
            "W0000 00:00:1749056761.719498    7833 gpu_device.cc:2341] Cannot dlopen some GPU libraries. Please make sure the missing libraries mentioned above are installed properly if you would like to use GPU. Follow the guide at https://www.tensorflow.org/install/gpu for how to download and setup the required libraries for your platform.\n",
            "Skipping registering GPU devices...\n",
            "/home/marc/.local/lib/python3.10/site-packages/keras/src/layers/rnn/rnn.py:199: UserWarning: Do not pass an `input_shape`/`input_dim` argument to a layer. When using Sequential models, prefer using an `Input(shape)` object as the first layer in the model instead.\n",
            "  super().__init__(**kwargs)\n"
          ]
        },
        {
          "name": "stdout",
          "output_type": "stream",
          "text": [
            "\u001b[1m3952/3952\u001b[0m \u001b[32m━━━━━━━━━━━━━━━━━━━━\u001b[0m\u001b[37m\u001b[0m \u001b[1m19s\u001b[0m 4ms/step - loss: 3636279552.0000 - val_loss: 1547382784.0000\n",
            "Epoch 2/50\n",
            "\u001b[1m3952/3952\u001b[0m \u001b[32m━━━━━━━━━━━━━━━━━━━━\u001b[0m\u001b[37m\u001b[0m \u001b[1m20s\u001b[0m 5ms/step - loss: 1903754624.0000 - val_loss: 1532141696.0000\n",
            "Epoch 3/50\n",
            "\u001b[1m3952/3952\u001b[0m \u001b[32m━━━━━━━━━━━━━━━━━━━━\u001b[0m\u001b[37m\u001b[0m \u001b[1m20s\u001b[0m 5ms/step - loss: 1543717120.0000 - val_loss: 1425126528.0000\n",
            "Epoch 4/50\n",
            "\u001b[1m3952/3952\u001b[0m \u001b[32m━━━━━━━━━━━━━━━━━━━━\u001b[0m\u001b[37m\u001b[0m \u001b[1m20s\u001b[0m 5ms/step - loss: 1729927936.0000 - val_loss: 1363542784.0000\n",
            "Epoch 5/50\n",
            "\u001b[1m3952/3952\u001b[0m \u001b[32m━━━━━━━━━━━━━━━━━━━━\u001b[0m\u001b[37m\u001b[0m \u001b[1m20s\u001b[0m 5ms/step - loss: 1676027136.0000 - val_loss: 1309355136.0000\n",
            "Epoch 6/50\n",
            "\u001b[1m3952/3952\u001b[0m \u001b[32m━━━━━━━━━━━━━━━━━━━━\u001b[0m\u001b[37m\u001b[0m \u001b[1m20s\u001b[0m 5ms/step - loss: 2060096000.0000 - val_loss: 1371906816.0000\n",
            "Epoch 7/50\n",
            "\u001b[1m3952/3952\u001b[0m \u001b[32m━━━━━━━━━━━━━━━━━━━━\u001b[0m\u001b[37m\u001b[0m \u001b[1m20s\u001b[0m 5ms/step - loss: 1502601344.0000 - val_loss: 1499572352.0000\n",
            "Epoch 8/50\n",
            "\u001b[1m3952/3952\u001b[0m \u001b[32m━━━━━━━━━━━━━━━━━━━━\u001b[0m\u001b[37m\u001b[0m \u001b[1m20s\u001b[0m 5ms/step - loss: 1526425984.0000 - val_loss: 1787799936.0000\n",
            "Epoch 9/50\n",
            "\u001b[1m3952/3952\u001b[0m \u001b[32m━━━━━━━━━━━━━━━━━━━━\u001b[0m\u001b[37m\u001b[0m \u001b[1m20s\u001b[0m 5ms/step - loss: 1517651712.0000 - val_loss: 1468242176.0000\n",
            "Epoch 10/50\n",
            "\u001b[1m3952/3952\u001b[0m \u001b[32m━━━━━━━━━━━━━━━━━━━━\u001b[0m\u001b[37m\u001b[0m \u001b[1m20s\u001b[0m 5ms/step - loss: 1357405312.0000 - val_loss: 1311936512.0000\n",
            "Epoch 11/50\n",
            "\u001b[1m3952/3952\u001b[0m \u001b[32m━━━━━━━━━━━━━━━━━━━━\u001b[0m\u001b[37m\u001b[0m \u001b[1m20s\u001b[0m 5ms/step - loss: 1545607296.0000 - val_loss: 1288885504.0000\n",
            "Epoch 12/50\n",
            "\u001b[1m3952/3952\u001b[0m \u001b[32m━━━━━━━━━━━━━━━━━━━━\u001b[0m\u001b[37m\u001b[0m \u001b[1m20s\u001b[0m 5ms/step - loss: 1619752960.0000 - val_loss: 1367729792.0000\n",
            "Epoch 13/50\n",
            "\u001b[1m3952/3952\u001b[0m \u001b[32m━━━━━━━━━━━━━━━━━━━━\u001b[0m\u001b[37m\u001b[0m \u001b[1m18s\u001b[0m 5ms/step - loss: 1442171008.0000 - val_loss: 1350852992.0000\n",
            "Epoch 14/50\n",
            "\u001b[1m3952/3952\u001b[0m \u001b[32m━━━━━━━━━━━━━━━━━━━━\u001b[0m\u001b[37m\u001b[0m \u001b[1m18s\u001b[0m 5ms/step - loss: 2135139712.0000 - val_loss: 6288716800.0000\n",
            "Epoch 15/50\n",
            "\u001b[1m3952/3952\u001b[0m \u001b[32m━━━━━━━━━━━━━━━━━━━━\u001b[0m\u001b[37m\u001b[0m \u001b[1m18s\u001b[0m 4ms/step - loss: 1724534272.0000 - val_loss: 1485631744.0000\n",
            "Epoch 16/50\n",
            "\u001b[1m3952/3952\u001b[0m \u001b[32m━━━━━━━━━━━━━━━━━━━━\u001b[0m\u001b[37m\u001b[0m \u001b[1m20s\u001b[0m 5ms/step - loss: 1900388608.0000 - val_loss: 1388542848.0000\n",
            "Epoch 17/50\n",
            "\u001b[1m3952/3952\u001b[0m \u001b[32m━━━━━━━━━━━━━━━━━━━━\u001b[0m\u001b[37m\u001b[0m \u001b[1m20s\u001b[0m 5ms/step - loss: 1401192192.0000 - val_loss: 1410881152.0000\n",
            "Epoch 18/50\n",
            "\u001b[1m3952/3952\u001b[0m \u001b[32m━━━━━━━━━━━━━━━━━━━━\u001b[0m\u001b[37m\u001b[0m \u001b[1m20s\u001b[0m 5ms/step - loss: 1821197312.0000 - val_loss: 1307270144.0000\n",
            "Epoch 19/50\n",
            "\u001b[1m3952/3952\u001b[0m \u001b[32m━━━━━━━━━━━━━━━━━━━━\u001b[0m\u001b[37m\u001b[0m \u001b[1m20s\u001b[0m 5ms/step - loss: 1347716608.0000 - val_loss: 1356827648.0000\n",
            "Epoch 20/50\n",
            "\u001b[1m3952/3952\u001b[0m \u001b[32m━━━━━━━━━━━━━━━━━━━━\u001b[0m\u001b[37m\u001b[0m \u001b[1m20s\u001b[0m 5ms/step - loss: 1384828160.0000 - val_loss: 1358537856.0000\n",
            "Epoch 21/50\n",
            "\u001b[1m3952/3952\u001b[0m \u001b[32m━━━━━━━━━━━━━━━━━━━━\u001b[0m\u001b[37m\u001b[0m \u001b[1m20s\u001b[0m 5ms/step - loss: 1433807744.0000 - val_loss: 1324993408.0000\n",
            "Epoch 22/50\n",
            "\u001b[1m3952/3952\u001b[0m \u001b[32m━━━━━━━━━━━━━━━━━━━━\u001b[0m\u001b[37m\u001b[0m \u001b[1m20s\u001b[0m 5ms/step - loss: 1704142336.0000 - val_loss: 1276986240.0000\n",
            "Epoch 23/50\n",
            "\u001b[1m3952/3952\u001b[0m \u001b[32m━━━━━━━━━━━━━━━━━━━━\u001b[0m\u001b[37m\u001b[0m \u001b[1m20s\u001b[0m 5ms/step - loss: 2271713536.0000 - val_loss: 1295063168.0000\n",
            "Epoch 24/50\n",
            "\u001b[1m3952/3952\u001b[0m \u001b[32m━━━━━━━━━━━━━━━━━━━━\u001b[0m\u001b[37m\u001b[0m \u001b[1m20s\u001b[0m 5ms/step - loss: 1483538304.0000 - val_loss: 1289317888.0000\n",
            "Epoch 25/50\n",
            "\u001b[1m3952/3952\u001b[0m \u001b[32m━━━━━━━━━━━━━━━━━━━━\u001b[0m\u001b[37m\u001b[0m \u001b[1m19s\u001b[0m 5ms/step - loss: 1557804672.0000 - val_loss: 1386603904.0000\n",
            "Epoch 26/50\n",
            "\u001b[1m3952/3952\u001b[0m \u001b[32m━━━━━━━━━━━━━━━━━━━━\u001b[0m\u001b[37m\u001b[0m \u001b[1m21s\u001b[0m 5ms/step - loss: 1495603840.0000 - val_loss: 1331274112.0000\n",
            "Epoch 27/50\n",
            "\u001b[1m3952/3952\u001b[0m \u001b[32m━━━━━━━━━━━━━━━━━━━━\u001b[0m\u001b[37m\u001b[0m \u001b[1m20s\u001b[0m 5ms/step - loss: 1322829568.0000 - val_loss: 1325281536.0000\n",
            "Epoch 28/50\n",
            "\u001b[1m3952/3952\u001b[0m \u001b[32m━━━━━━━━━━━━━━━━━━━━\u001b[0m\u001b[37m\u001b[0m \u001b[1m20s\u001b[0m 5ms/step - loss: 1539221888.0000 - val_loss: 1326591232.0000\n",
            "Epoch 29/50\n",
            "\u001b[1m3952/3952\u001b[0m \u001b[32m━━━━━━━━━━━━━━━━━━━━\u001b[0m\u001b[37m\u001b[0m \u001b[1m20s\u001b[0m 5ms/step - loss: 2950856704.0000 - val_loss: 1656868352.0000\n",
            "Epoch 30/50\n",
            "\u001b[1m3952/3952\u001b[0m \u001b[32m━━━━━━━━━━━━━━━━━━━━\u001b[0m\u001b[37m\u001b[0m \u001b[1m20s\u001b[0m 5ms/step - loss: 1875671168.0000 - val_loss: 1478199680.0000\n",
            "Epoch 31/50\n",
            "\u001b[1m3952/3952\u001b[0m \u001b[32m━━━━━━━━━━━━━━━━━━━━\u001b[0m\u001b[37m\u001b[0m \u001b[1m21s\u001b[0m 5ms/step - loss: 1702170368.0000 - val_loss: 1721843712.0000\n",
            "Epoch 32/50\n",
            "\u001b[1m3952/3952\u001b[0m \u001b[32m━━━━━━━━━━━━━━━━━━━━\u001b[0m\u001b[37m\u001b[0m \u001b[1m20s\u001b[0m 5ms/step - loss: 1608431360.0000 - val_loss: 2117285760.0000\n",
            "Epoch 33/50\n",
            "\u001b[1m3952/3952\u001b[0m \u001b[32m━━━━━━━━━━━━━━━━━━━━\u001b[0m\u001b[37m\u001b[0m \u001b[1m20s\u001b[0m 5ms/step - loss: 1904447232.0000 - val_loss: 1661728512.0000\n",
            "Epoch 34/50\n",
            "\u001b[1m3952/3952\u001b[0m \u001b[32m━━━━━━━━━━━━━━━━━━━━\u001b[0m\u001b[37m\u001b[0m \u001b[1m21s\u001b[0m 5ms/step - loss: 1704013568.0000 - val_loss: 1619055616.0000\n",
            "Epoch 35/50\n",
            "\u001b[1m3952/3952\u001b[0m \u001b[32m━━━━━━━━━━━━━━━━━━━━\u001b[0m\u001b[37m\u001b[0m \u001b[1m21s\u001b[0m 5ms/step - loss: 1716124032.0000 - val_loss: 1500126464.0000\n",
            "Epoch 36/50\n",
            "\u001b[1m3952/3952\u001b[0m \u001b[32m━━━━━━━━━━━━━━━━━━━━\u001b[0m\u001b[37m\u001b[0m \u001b[1m21s\u001b[0m 5ms/step - loss: 1462046336.0000 - val_loss: 1595574272.0000\n",
            "Epoch 37/50\n",
            "\u001b[1m3952/3952\u001b[0m \u001b[32m━━━━━━━━━━━━━━━━━━━━\u001b[0m\u001b[37m\u001b[0m \u001b[1m19s\u001b[0m 5ms/step - loss: 1640966784.0000 - val_loss: 1454129408.0000\n",
            "Epoch 38/50\n",
            "\u001b[1m3952/3952\u001b[0m \u001b[32m━━━━━━━━━━━━━━━━━━━━\u001b[0m\u001b[37m\u001b[0m \u001b[1m20s\u001b[0m 5ms/step - loss: 1560029056.0000 - val_loss: 1377633024.0000\n",
            "Epoch 39/50\n",
            "\u001b[1m3952/3952\u001b[0m \u001b[32m━━━━━━━━━━━━━━━━━━━━\u001b[0m\u001b[37m\u001b[0m \u001b[1m20s\u001b[0m 5ms/step - loss: 1513520896.0000 - val_loss: 1626425600.0000\n",
            "Epoch 40/50\n",
            "\u001b[1m3952/3952\u001b[0m \u001b[32m━━━━━━━━━━━━━━━━━━━━\u001b[0m\u001b[37m\u001b[0m \u001b[1m21s\u001b[0m 5ms/step - loss: 1713354752.0000 - val_loss: 1437754112.0000\n",
            "Epoch 41/50\n",
            "\u001b[1m3952/3952\u001b[0m \u001b[32m━━━━━━━━━━━━━━━━━━━━\u001b[0m\u001b[37m\u001b[0m \u001b[1m21s\u001b[0m 5ms/step - loss: 1625204864.0000 - val_loss: 1387151104.0000\n",
            "Epoch 42/50\n",
            "\u001b[1m3952/3952\u001b[0m \u001b[32m━━━━━━━━━━━━━━━━━━━━\u001b[0m\u001b[37m\u001b[0m \u001b[1m18s\u001b[0m 5ms/step - loss: 1679276288.0000 - val_loss: 2100456064.0000\n",
            "Epoch 43/50\n",
            "\u001b[1m3952/3952\u001b[0m \u001b[32m━━━━━━━━━━━━━━━━━━━━\u001b[0m\u001b[37m\u001b[0m \u001b[1m20s\u001b[0m 5ms/step - loss: 1528908800.0000 - val_loss: 1471037184.0000\n",
            "Epoch 44/50\n",
            "\u001b[1m3952/3952\u001b[0m \u001b[32m━━━━━━━━━━━━━━━━━━━━\u001b[0m\u001b[37m\u001b[0m \u001b[1m21s\u001b[0m 5ms/step - loss: 1485249792.0000 - val_loss: 1332768768.0000\n",
            "Epoch 45/50\n",
            "\u001b[1m3952/3952\u001b[0m \u001b[32m━━━━━━━━━━━━━━━━━━━━\u001b[0m\u001b[37m\u001b[0m \u001b[1m20s\u001b[0m 5ms/step - loss: 1539886720.0000 - val_loss: 1764657152.0000\n",
            "Epoch 46/50\n",
            "\u001b[1m3952/3952\u001b[0m \u001b[32m━━━━━━━━━━━━━━━━━━━━\u001b[0m\u001b[37m\u001b[0m \u001b[1m21s\u001b[0m 5ms/step - loss: 1583412352.0000 - val_loss: 1850382720.0000\n",
            "Epoch 47/50\n",
            "\u001b[1m3952/3952\u001b[0m \u001b[32m━━━━━━━━━━━━━━━━━━━━\u001b[0m\u001b[37m\u001b[0m \u001b[1m21s\u001b[0m 5ms/step - loss: 1590519936.0000 - val_loss: 1672321024.0000\n",
            "Epoch 48/50\n",
            "\u001b[1m3952/3952\u001b[0m \u001b[32m━━━━━━━━━━━━━━━━━━━━\u001b[0m\u001b[37m\u001b[0m \u001b[1m21s\u001b[0m 5ms/step - loss: 1637822080.0000 - val_loss: 1407086464.0000\n",
            "Epoch 49/50\n",
            "\u001b[1m3952/3952\u001b[0m \u001b[32m━━━━━━━━━━━━━━━━━━━━\u001b[0m\u001b[37m\u001b[0m \u001b[1m21s\u001b[0m 5ms/step - loss: 1485067264.0000 - val_loss: 1374405504.0000\n",
            "Epoch 50/50\n",
            "\u001b[1m3952/3952\u001b[0m \u001b[32m━━━━━━━━━━━━━━━━━━━━\u001b[0m\u001b[37m\u001b[0m \u001b[1m21s\u001b[0m 5ms/step - loss: 1422830976.0000 - val_loss: 1381821440.0000\n",
            "\u001b[1m1318/1318\u001b[0m \u001b[32m━━━━━━━━━━━━━━━━━━━━\u001b[0m\u001b[37m\u001b[0m \u001b[1m3s\u001b[0m 3ms/step - loss: 1311285248.0000\n",
            "Test Loss: 1566823296.0000\n"
          ]
        },
        {
          "data": {
            "text/plain": [
              "[<matplotlib.lines.Line2D at 0x7d35786c4580>]"
            ]
          },
          "execution_count": 36,
          "metadata": {},
          "output_type": "execute_result"
        },
        {
          "data": {
            "image/png": "[encoded data removed]",
            "text/plain": [
              "<Figure size 1000x500 with 1 Axes>"
            ]
          },
          "metadata": {},
          "output_type": "display_data"
        }
      ],
      "source": [
        "# (response to exercise 5)\n",
        "\n",
        "# Create the model centralized around the LSTM architecture\n",
        "model = create_lstm_model((X_train.shape[1], X_train.shape[2]))\n",
        "# Train the model\n",
        "history = model.fit(X_train, y_train, epochs=50, batch_size=32, validation_data=(X_val, y_val))\n",
        "# Evaluate the model\n",
        "test_loss = model.evaluate(X_test, y_test)\n",
        "print(f\"Test Loss: {test_loss:.4f}\")\n",
        "\n"
      ]
    },
    {
      "cell_type": "code",
      "execution_count": 38,
      "metadata": {},
      "outputs": [
        {
          "data": {
            "image/png": "[encoded data removed]",
            "text/plain": [
              "<Figure size 800x500 with 1 Axes>"
            ]
          },
          "metadata": {},
          "output_type": "display_data"
        }
      ],
      "source": [
        "plt.figure(figsize=(8, 5))\n",
        "plt.plot(history.history['loss'], label='Training Loss')\n",
        "plt.plot(history.history['val_loss'], label='Validation Loss')\n",
        "plt.xlabel('Epoch')\n",
        "plt.ylabel('Loss (MSE)')\n",
        "plt.title('Training vs Validation Loss')\n",
        "plt.legend()\n",
        "plt.grid(True)\n",
        "plt.show()"
      ]
    },
    {
      "cell_type": "code",
      "execution_count": 39,
      "metadata": {},
      "outputs": [
        {
          "name": "stdout",
          "output_type": "stream",
          "text": [
            "\u001b[1m1318/1318\u001b[0m \u001b[32m━━━━━━━━━━━━━━━━━━━━\u001b[0m\u001b[37m\u001b[0m \u001b[1m3s\u001b[0m 2ms/step\n",
            "R² score: 0.9229\n"
          ]
        }
      ],
      "source": [
        "from sklearn.metrics import r2_score\n",
        "\n",
        "# Predict on test set\n",
        "y_pred = model.predict(X_test)\n",
        "\n",
        "# If y is 2D (e.g., (samples, T_p)), compute R² for each output\n",
        "if y_pred.shape[1] == 1 or len(y_pred.shape) == 1:\n",
        "    r2 = r2_score(y_test, y_pred)\n",
        "    print(f\"R² score: {r2:.4f}\")\n",
        "else:\n",
        "    for i in range(y_pred.shape[1]):\n",
        "        r2 = r2_score(y_test[:, i], y_pred[:, i])\n",
        "        print(f\"R² score for output {i}: {r2:.4f}\")"
      ]
    },
    {
      "cell_type": "markdown",
      "metadata": {
        "id": "LafMStmKfW4-"
      },
      "source": [
        "### Exercise 6 (EXTRA):\n",
        "\n",
        "Reconsider your design to improve the accuracy of your model. For that, you can find a better approach to split the data (e.g., using larger observation windows) and include additional features."
      ]
    },
    {
      "cell_type": "code",
      "execution_count": 37,
      "metadata": {
        "id": "2Eb3K84dgTb1"
      },
      "outputs": [],
      "source": [
        "# (response to exercise 6)"
      ]
    }
  ],
  "metadata": {
    "colab": {
      "provenance": []
    },
    "kernelspec": {
      "display_name": "Python 3",
      "language": "python",
      "name": "python3"
    },
    "language_info": {
      "codemirror_mode": {
        "name": "ipython",
        "version": 3
      },
      "file_extension": ".py",
      "mimetype": "text/x-python",
      "name": "python",
      "nbconvert_exporter": "python",
      "pygments_lexer": "ipython3",
      "version": "3.10.12"
    }
  },
  "nbformat": 4,
  "nbformat_minor": 0
}
