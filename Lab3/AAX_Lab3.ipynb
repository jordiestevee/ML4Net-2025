{
  "cells": [
    {
      "cell_type": "markdown",
      "metadata": {
        "id": "ShbB8CxBMSLH"
      },
      "source": [
        "#ML4Net - Lab 3\n",
        "\n",
        "## Team members\n",
        "\n",
        "Marc Mallol 268923 | Jordi Esteve 268829 | Albert Jané 268537\n",
        "\n",
        "## Description\n",
        "\n",
        "In this lab, you will train a time series forecaster using Federated Learning (FL).\n",
        "\n",
        "The dataset you are going to use contains data from multiple APs. In particular, each AP's dataset contains the following features:\n",
        "\n",
        "* `datetime` is the timestamp (date) at which the measurement was taken\n",
        "* `Bytes` is the number of Bytes contributed at the corresponding datetime\n",
        "* `Active Connections` is the number of active connections (users connected to the AP) at the corresponding datetime\n",
        "* `Active Users` is the number of active users at the corresponding datetime\n",
        "* `AP ID` is the ID of the AP where the measurement was taken\n",
        "\n",
        "Original dataset: Chen, W., Lyu, F., Wu, F., Yang, P., & Ren, J. (2021). Flag: Flexible, accurate, and long-time user load prediction in large-scale WiFi system using deep RNN. IEEE Internet of Things Journal, 8(22), 16510-16521.\n",
        "\n",
        "## Instructions\n",
        "\n",
        "*   Follow the steps from this Notebook and complete the proposed exercises.\n",
        "*   Deliver the completed Notebook by uploading it to your Github repository.\n",
        "*   **Submission deadline: 8 June 2025 (EoB).**"
      ]
    },
    {
      "cell_type": "markdown",
      "metadata": {
        "id": "Lqio72iAuxNJ"
      },
      "source": [
        "## Setting up the environment"
      ]
    },
    {
      "cell_type": "code",
      "execution_count": 4,
      "metadata": {
        "id": "VYfdaJF-qr5w"
      },
      "outputs": [
        {
          "name": "stdout",
          "output_type": "stream",
          "text": [
            "Dataset already exists: datasetLab3.pkl\n"
          ]
        }
      ],
      "source": [
        "import os\n",
        "import urllib.request\n",
        "\n",
        "dataset_url = \"https://github.com/fwilhelmi/fwilhelmi.github.io/raw/master/files/datasetLab3.pkl\"\n",
        "dataset_path = \"datasetLab3.pkl\"\n",
        "\n",
        "if not os.path.exists(dataset_path):\n",
        "    print(\"Downloading dataset...\")\n",
        "    urllib.request.urlretrieve(dataset_url, dataset_path)\n",
        "    print(\"Download complete.\")\n",
        "else:\n",
        "    print(\"Dataset already exists:\", dataset_path)"
      ]
    },
    {
      "cell_type": "markdown",
      "metadata": {
        "id": "97kVtaWOutFD"
      },
      "source": [
        "## Loading the data\n",
        "\n",
        "\n"
      ]
    },
    {
      "cell_type": "markdown",
      "metadata": {
        "id": "tZ-ATejy308z"
      },
      "source": [
        "Load the data from the pickle file (https://docs.python.org/3/library/pickle.html) that contains the dataset.\n",
        "\n",
        "**Important:** If you have issues with the dataset after automatically downloading and extracting it, download it and move it manually to the indicated folder."
      ]
    },
    {
      "cell_type": "code",
      "execution_count": 5,
      "metadata": {
        "id": "Rn9zlRDcenHJ"
      },
      "outputs": [
        {
          "name": "stdout",
          "output_type": "stream",
          "text": [
            "/mnt/c/Users/Marc/Documents/Uni/3r/3r Trimestre/MLNetworks/Labs/ML4Net-2025/Lab3\n",
            "True\n",
            "Data loaded successfully:\n",
            "                     Bytes  Active Connections  Active Users   AP ID\n",
            "datetime                                                            \n",
            "2019-04-30 07:10:00    0.0            0.075209           0.0  7-1012\n",
            "2019-04-30 07:20:00    0.0            0.000000           0.0  7-1012\n",
            "2019-04-30 07:30:00    0.0            0.000000           0.0  7-1012\n",
            "2019-04-30 07:40:00    0.0            0.000000           0.0  7-1012\n",
            "2019-04-30 07:50:00    0.0            0.000000           0.0  7-1012\n",
            "...                    ...                 ...           ...     ...\n",
            "2019-05-14 07:10:00    0.0            0.000000           0.0   7-104\n",
            "2019-05-14 07:20:00    0.0            0.000000           0.0   7-104\n",
            "2019-05-14 07:30:00    0.0            0.000000           0.0   7-104\n",
            "2019-05-14 07:40:00    0.0            0.000000           0.0   7-104\n",
            "2019-05-14 07:50:00    0.0            0.034091           0.0   7-104\n",
            "\n",
            "[211064 rows x 4 columns]\n"
          ]
        }
      ],
      "source": [
        "import pickle\n",
        "import os\n",
        "\n",
        "print(os.getcwd())\n",
        "print(os.path.exists('datasetLab3.pkl'))\n",
        "\n",
        "try:\n",
        "    with open('datasetLab3.pkl', 'rb') as f:\n",
        "        loaded_data = pickle.load(f)\n",
        "    print(\"Data loaded successfully:\")\n",
        "    print(loaded_data)\n",
        "except FileNotFoundError:\n",
        "    print(\"Error: 'datasetLab3.pkl' not found.\")\n",
        "except Exception as e:\n",
        "    print(f\"An error occurred: {e}\")"
      ]
    },
    {
      "cell_type": "markdown",
      "metadata": {},
      "source": [
        "# Exercise 0: Data Exploration\n",
        "\n",
        "We know this is not a requirement, but still we want do explore the data a bit.\n",
        "\n",
        "Before we build any models, it’s essential to get our hands dirty with the raw data.  A solid exploration step helps us:\n",
        "\n",
        "1. **Verify assumptions** about how the data is recorded (time-index, AP grouping, units).\n",
        "2. **Spot anomalies** or quirks (long runs of zeros, extreme outliers) that could trip up our LSTM.\n",
        "3. **Plan preprocessing** (scaling, log-transforms, imputation) and feature engineering more intelligently."
      ]
    },
    {
      "cell_type": "code",
      "execution_count": 6,
      "metadata": {},
      "outputs": [
        {
          "data": {
            "application/vnd.microsoft.datawrangler.viewer.v0+json": {
              "columns": [
                {
                  "name": "datetime",
                  "rawType": "datetime64[ns]",
                  "type": "datetime"
                },
                {
                  "name": "Bytes",
                  "rawType": "float64",
                  "type": "float"
                },
                {
                  "name": "Active Connections",
                  "rawType": "float64",
                  "type": "float"
                },
                {
                  "name": "Active Users",
                  "rawType": "float64",
                  "type": "float"
                },
                {
                  "name": "AP ID",
                  "rawType": "object",
                  "type": "string"
                }
              ],
              "ref": "7a408c58-9732-43d9-b60e-684131d332ca",
              "rows": [
                [
                  "2019-04-30 07:10:00",
                  "0.0",
                  "0.07520891364902507",
                  "0.0",
                  "7-1012"
                ],
                [
                  "2019-04-30 07:20:00",
                  "0.0",
                  "0.0",
                  "0.0",
                  "7-1012"
                ],
                [
                  "2019-04-30 07:30:00",
                  "0.0",
                  "0.0",
                  "0.0",
                  "7-1012"
                ],
                [
                  "2019-04-30 07:40:00",
                  "0.0",
                  "0.0",
                  "0.0",
                  "7-1012"
                ],
                [
                  "2019-04-30 07:50:00",
                  "0.0",
                  "0.0",
                  "0.0",
                  "7-1012"
                ],
                [
                  "2019-04-30 08:00:00",
                  "0.0",
                  "0.0",
                  "0.0",
                  "7-1012"
                ],
                [
                  "2019-04-30 08:10:00",
                  "0.0",
                  "0.028333333333333332",
                  "0.0",
                  "7-1012"
                ],
                [
                  "2019-04-30 08:20:00",
                  "0.0",
                  "0.0",
                  "0.0",
                  "7-1012"
                ],
                [
                  "2019-04-30 08:30:00",
                  "0.0",
                  "0.0",
                  "0.0",
                  "7-1012"
                ],
                [
                  "2019-04-30 08:40:00",
                  "0.0",
                  "0.0",
                  "0.0",
                  "7-1012"
                ],
                [
                  "2019-04-30 08:50:00",
                  "0.0",
                  "0.10166666666666667",
                  "0.0",
                  "7-1012"
                ],
                [
                  "2019-04-30 09:00:00",
                  "0.0",
                  "0.0",
                  "0.0",
                  "7-1012"
                ],
                [
                  "2019-04-30 09:10:00",
                  "0.0",
                  "0.0",
                  "0.0",
                  "7-1012"
                ],
                [
                  "2019-04-30 09:20:00",
                  "0.0",
                  "0.0",
                  "0.0",
                  "7-1012"
                ],
                [
                  "2019-04-30 09:30:00",
                  "1.05",
                  "0.23333333333333334",
                  "0.11666666666666667",
                  "7-1012"
                ],
                [
                  "2019-04-30 09:40:00",
                  "9.0",
                  "1.585",
                  "1.0",
                  "7-1012"
                ],
                [
                  "2019-04-30 09:50:00",
                  "7.965",
                  "0.885",
                  "0.885",
                  "7-1012"
                ],
                [
                  "2019-04-30 10:00:00",
                  "0.0",
                  "0.0",
                  "0.0",
                  "7-1012"
                ],
                [
                  "2019-04-30 10:10:00",
                  "0.0",
                  "0.11666666666666667",
                  "0.0",
                  "7-1012"
                ],
                [
                  "2019-04-30 10:20:00",
                  "0.0",
                  "0.885",
                  "0.0",
                  "7-1012"
                ],
                [
                  "2019-04-30 10:30:00",
                  "0.0",
                  "0.11666666666666667",
                  "0.0",
                  "7-1012"
                ],
                [
                  "2019-04-30 10:40:00",
                  "0.0",
                  "0.885",
                  "0.0",
                  "7-1012"
                ],
                [
                  "2019-04-30 10:50:00",
                  "0.0",
                  "0.0",
                  "0.0",
                  "7-1012"
                ],
                [
                  "2019-04-30 11:00:00",
                  "0.0",
                  "0.0",
                  "0.0",
                  "7-1012"
                ],
                [
                  "2019-04-30 11:10:00",
                  "30820.52272333333",
                  "0.22",
                  "0.22",
                  "7-1012"
                ],
                [
                  "2019-04-30 11:20:00",
                  "689.415",
                  "0.885",
                  "0.885",
                  "7-1012"
                ],
                [
                  "2019-04-30 11:30:00",
                  "0.0",
                  "0.0",
                  "0.0",
                  "7-1012"
                ],
                [
                  "2019-04-30 11:40:00",
                  "0.0",
                  "0.0",
                  "0.0",
                  "7-1012"
                ],
                [
                  "2019-04-30 11:50:00",
                  "0.0",
                  "0.0",
                  "0.0",
                  "7-1012"
                ],
                [
                  "2019-04-30 12:00:00",
                  "0.0",
                  "0.0",
                  "0.0",
                  "7-1012"
                ],
                [
                  "2019-04-30 12:10:00",
                  "0.0",
                  "0.11666666666666667",
                  "0.0",
                  "7-1012"
                ],
                [
                  "2019-04-30 12:20:00",
                  "0.0",
                  "0.085",
                  "0.0",
                  "7-1012"
                ],
                [
                  "2019-04-30 12:30:00",
                  "0.0",
                  "0.0",
                  "0.0",
                  "7-1012"
                ],
                [
                  "2019-04-30 12:40:00",
                  "0.0",
                  "0.0",
                  "0.0",
                  "7-1012"
                ],
                [
                  "2019-04-30 12:50:00",
                  "0.0",
                  "0.35",
                  "0.0",
                  "7-1012"
                ],
                [
                  "2019-04-30 13:00:00",
                  "0.0",
                  "2.085",
                  "0.0",
                  "7-1012"
                ],
                [
                  "2019-04-30 13:10:00",
                  "0.0",
                  "1.5883333333333334",
                  "0.0",
                  "7-1012"
                ],
                [
                  "2019-04-30 13:20:00",
                  "0.0",
                  "0.885",
                  "0.0",
                  "7-1012"
                ],
                [
                  "2019-04-30 13:30:00",
                  "0.0",
                  "0.0",
                  "0.0",
                  "7-1012"
                ],
                [
                  "2019-04-30 13:40:00",
                  "0.0",
                  "0.21833333333333332",
                  "0.0",
                  "7-1012"
                ],
                [
                  "2019-04-30 13:50:00",
                  "105.875",
                  "1.3366666666666667",
                  "0.11666666666666667",
                  "7-1012"
                ],
                [
                  "2019-04-30 14:00:00",
                  "77.1375",
                  "1.855",
                  "0.085",
                  "7-1012"
                ],
                [
                  "2019-04-30 14:10:00",
                  "701.0596833333333",
                  "0.35",
                  "0.23333333333333334",
                  "7-1012"
                ],
                [
                  "2019-04-30 14:20:00",
                  "6009.083",
                  "3.0016666666666665",
                  "2.0",
                  "7-1012"
                ],
                [
                  "2019-04-30 14:30:00",
                  "6009.083",
                  "3.0",
                  "2.0",
                  "7-1012"
                ],
                [
                  "2019-04-30 14:40:00",
                  "5929.924704999999",
                  "2.421666666666667",
                  "1.885",
                  "7-1012"
                ],
                [
                  "2019-04-30 14:50:00",
                  "4708.86375",
                  "2.0433333333333334",
                  "0.885",
                  "7-1012"
                ],
                [
                  "2019-04-30 15:00:00",
                  "0.0",
                  "0.11666666666666667",
                  "0.0",
                  "7-1012"
                ],
                [
                  "2019-04-30 15:10:00",
                  "72704.1",
                  "1.0216666666666667",
                  "0.11666666666666667",
                  "7-1012"
                ],
                [
                  "2019-04-30 15:20:00",
                  "623178.0",
                  "2.1166666666666667",
                  "1.0",
                  "7-1012"
                ]
              ],
              "shape": {
                "columns": 4,
                "rows": 211064
              }
            },
            "text/html": [
              "<div>\n",
              "<style scoped>\n",
              "    .dataframe tbody tr th:only-of-type {\n",
              "        vertical-align: middle;\n",
              "    }\n",
              "\n",
              "    .dataframe tbody tr th {\n",
              "        vertical-align: top;\n",
              "    }\n",
              "\n",
              "    .dataframe thead th {\n",
              "        text-align: right;\n",
              "    }\n",
              "</style>\n",
              "<table border=\"1\" class=\"dataframe\">\n",
              "  <thead>\n",
              "    <tr style=\"text-align: right;\">\n",
              "      <th></th>\n",
              "      <th>Bytes</th>\n",
              "      <th>Active Connections</th>\n",
              "      <th>Active Users</th>\n",
              "      <th>AP ID</th>\n",
              "    </tr>\n",
              "    <tr>\n",
              "      <th>datetime</th>\n",
              "      <th></th>\n",
              "      <th></th>\n",
              "      <th></th>\n",
              "      <th></th>\n",
              "    </tr>\n",
              "  </thead>\n",
              "  <tbody>\n",
              "    <tr>\n",
              "      <th>2019-04-30 07:10:00</th>\n",
              "      <td>0.0</td>\n",
              "      <td>0.075209</td>\n",
              "      <td>0.0</td>\n",
              "      <td>7-1012</td>\n",
              "    </tr>\n",
              "    <tr>\n",
              "      <th>2019-04-30 07:20:00</th>\n",
              "      <td>0.0</td>\n",
              "      <td>0.000000</td>\n",
              "      <td>0.0</td>\n",
              "      <td>7-1012</td>\n",
              "    </tr>\n",
              "    <tr>\n",
              "      <th>2019-04-30 07:30:00</th>\n",
              "      <td>0.0</td>\n",
              "      <td>0.000000</td>\n",
              "      <td>0.0</td>\n",
              "      <td>7-1012</td>\n",
              "    </tr>\n",
              "    <tr>\n",
              "      <th>2019-04-30 07:40:00</th>\n",
              "      <td>0.0</td>\n",
              "      <td>0.000000</td>\n",
              "      <td>0.0</td>\n",
              "      <td>7-1012</td>\n",
              "    </tr>\n",
              "    <tr>\n",
              "      <th>2019-04-30 07:50:00</th>\n",
              "      <td>0.0</td>\n",
              "      <td>0.000000</td>\n",
              "      <td>0.0</td>\n",
              "      <td>7-1012</td>\n",
              "    </tr>\n",
              "    <tr>\n",
              "      <th>...</th>\n",
              "      <td>...</td>\n",
              "      <td>...</td>\n",
              "      <td>...</td>\n",
              "      <td>...</td>\n",
              "    </tr>\n",
              "    <tr>\n",
              "      <th>2019-05-14 07:10:00</th>\n",
              "      <td>0.0</td>\n",
              "      <td>0.000000</td>\n",
              "      <td>0.0</td>\n",
              "      <td>7-104</td>\n",
              "    </tr>\n",
              "    <tr>\n",
              "      <th>2019-05-14 07:20:00</th>\n",
              "      <td>0.0</td>\n",
              "      <td>0.000000</td>\n",
              "      <td>0.0</td>\n",
              "      <td>7-104</td>\n",
              "    </tr>\n",
              "    <tr>\n",
              "      <th>2019-05-14 07:30:00</th>\n",
              "      <td>0.0</td>\n",
              "      <td>0.000000</td>\n",
              "      <td>0.0</td>\n",
              "      <td>7-104</td>\n",
              "    </tr>\n",
              "    <tr>\n",
              "      <th>2019-05-14 07:40:00</th>\n",
              "      <td>0.0</td>\n",
              "      <td>0.000000</td>\n",
              "      <td>0.0</td>\n",
              "      <td>7-104</td>\n",
              "    </tr>\n",
              "    <tr>\n",
              "      <th>2019-05-14 07:50:00</th>\n",
              "      <td>0.0</td>\n",
              "      <td>0.034091</td>\n",
              "      <td>0.0</td>\n",
              "      <td>7-104</td>\n",
              "    </tr>\n",
              "  </tbody>\n",
              "</table>\n",
              "<p>211064 rows × 4 columns</p>\n",
              "</div>"
            ],
            "text/plain": [
              "                     Bytes  Active Connections  Active Users   AP ID\n",
              "datetime                                                            \n",
              "2019-04-30 07:10:00    0.0            0.075209           0.0  7-1012\n",
              "2019-04-30 07:20:00    0.0            0.000000           0.0  7-1012\n",
              "2019-04-30 07:30:00    0.0            0.000000           0.0  7-1012\n",
              "2019-04-30 07:40:00    0.0            0.000000           0.0  7-1012\n",
              "2019-04-30 07:50:00    0.0            0.000000           0.0  7-1012\n",
              "...                    ...                 ...           ...     ...\n",
              "2019-05-14 07:10:00    0.0            0.000000           0.0   7-104\n",
              "2019-05-14 07:20:00    0.0            0.000000           0.0   7-104\n",
              "2019-05-14 07:30:00    0.0            0.000000           0.0   7-104\n",
              "2019-05-14 07:40:00    0.0            0.000000           0.0   7-104\n",
              "2019-05-14 07:50:00    0.0            0.034091           0.0   7-104\n",
              "\n",
              "[211064 rows x 4 columns]"
            ]
          },
          "metadata": {},
          "output_type": "display_data"
        }
      ],
      "source": [
        "import pandas as pd\n",
        "import numpy as np\n",
        "import matplotlib.pyplot as plt\n",
        "df = pd.DataFrame(loaded_data)\n",
        "\n",
        "display(loaded_data)  "
      ]
    },
    {
      "cell_type": "code",
      "execution_count": 4,
      "metadata": {},
      "outputs": [
        {
          "data": {
            "application/vnd.microsoft.datawrangler.viewer.v0+json": {
              "columns": [
                {
                  "name": "index",
                  "rawType": "object",
                  "type": "string"
                },
                {
                  "name": "Bytes",
                  "rawType": "float64",
                  "type": "float"
                },
                {
                  "name": "Active Connections",
                  "rawType": "float64",
                  "type": "float"
                },
                {
                  "name": "Active Users",
                  "rawType": "float64",
                  "type": "float"
                }
              ],
              "ref": "2e21c393-aa57-4a78-8784-ee1760727a89",
              "rows": [
                [
                  "count",
                  "211064.0",
                  "211064.0",
                  "211064.0"
                ],
                [
                  "mean",
                  "36931.309838892426",
                  "1.5829824089836777",
                  "1.200612786391821"
                ],
                [
                  "std",
                  "144126.12094883434",
                  "4.446036748978838",
                  "3.739400796683459"
                ],
                [
                  "min",
                  "0.0",
                  "0.0",
                  "0.0"
                ],
                [
                  "25%",
                  "0.0",
                  "0.0",
                  "0.0"
                ],
                [
                  "50%",
                  "0.0",
                  "0.0",
                  "0.0"
                ],
                [
                  "75%",
                  "2680.175",
                  "1.3533333333333333",
                  "1.0"
                ],
                [
                  "max",
                  "3993285.5318499994",
                  "103.78",
                  "79.0"
                ]
              ],
              "shape": {
                "columns": 3,
                "rows": 8
              }
            },
            "text/html": [
              "<div>\n",
              "<style scoped>\n",
              "    .dataframe tbody tr th:only-of-type {\n",
              "        vertical-align: middle;\n",
              "    }\n",
              "\n",
              "    .dataframe tbody tr th {\n",
              "        vertical-align: top;\n",
              "    }\n",
              "\n",
              "    .dataframe thead th {\n",
              "        text-align: right;\n",
              "    }\n",
              "</style>\n",
              "<table border=\"1\" class=\"dataframe\">\n",
              "  <thead>\n",
              "    <tr style=\"text-align: right;\">\n",
              "      <th></th>\n",
              "      <th>Bytes</th>\n",
              "      <th>Active Connections</th>\n",
              "      <th>Active Users</th>\n",
              "    </tr>\n",
              "  </thead>\n",
              "  <tbody>\n",
              "    <tr>\n",
              "      <th>count</th>\n",
              "      <td>2.110640e+05</td>\n",
              "      <td>211064.000000</td>\n",
              "      <td>211064.000000</td>\n",
              "    </tr>\n",
              "    <tr>\n",
              "      <th>mean</th>\n",
              "      <td>3.693131e+04</td>\n",
              "      <td>1.582982</td>\n",
              "      <td>1.200613</td>\n",
              "    </tr>\n",
              "    <tr>\n",
              "      <th>std</th>\n",
              "      <td>1.441261e+05</td>\n",
              "      <td>4.446037</td>\n",
              "      <td>3.739401</td>\n",
              "    </tr>\n",
              "    <tr>\n",
              "      <th>min</th>\n",
              "      <td>0.000000e+00</td>\n",
              "      <td>0.000000</td>\n",
              "      <td>0.000000</td>\n",
              "    </tr>\n",
              "    <tr>\n",
              "      <th>25%</th>\n",
              "      <td>0.000000e+00</td>\n",
              "      <td>0.000000</td>\n",
              "      <td>0.000000</td>\n",
              "    </tr>\n",
              "    <tr>\n",
              "      <th>50%</th>\n",
              "      <td>0.000000e+00</td>\n",
              "      <td>0.000000</td>\n",
              "      <td>0.000000</td>\n",
              "    </tr>\n",
              "    <tr>\n",
              "      <th>75%</th>\n",
              "      <td>2.680175e+03</td>\n",
              "      <td>1.353333</td>\n",
              "      <td>1.000000</td>\n",
              "    </tr>\n",
              "    <tr>\n",
              "      <th>max</th>\n",
              "      <td>3.993286e+06</td>\n",
              "      <td>103.780000</td>\n",
              "      <td>79.000000</td>\n",
              "    </tr>\n",
              "  </tbody>\n",
              "</table>\n",
              "</div>"
            ],
            "text/plain": [
              "              Bytes  Active Connections   Active Users\n",
              "count  2.110640e+05       211064.000000  211064.000000\n",
              "mean   3.693131e+04            1.582982       1.200613\n",
              "std    1.441261e+05            4.446037       3.739401\n",
              "min    0.000000e+00            0.000000       0.000000\n",
              "25%    0.000000e+00            0.000000       0.000000\n",
              "50%    0.000000e+00            0.000000       0.000000\n",
              "75%    2.680175e+03            1.353333       1.000000\n",
              "max    3.993286e+06          103.780000      79.000000"
            ]
          },
          "metadata": {},
          "output_type": "display_data"
        }
      ],
      "source": [
        "display(df.describe())"
      ]
    },
    {
      "cell_type": "code",
      "execution_count": 5,
      "metadata": {},
      "outputs": [
        {
          "data": {
            "text/plain": [
              "array(['7-1012', '7-1013', '7-1021', '7-1043', '7-1019', '7-1071',\n",
              "       '7-1113', '7-1048', '7-1101', '7-1026', '7-1129', '7-112', '7-100',\n",
              "       '7-111', '7-1030', '7-1117', '7-1126', '7-1099', '7-1052',\n",
              "       '7-1087', '7-108', '7-1022', '7-1018', '7-1059', '7-1054', '7-110',\n",
              "       '7-1058', '7-1094', '7-1064', '7-102', '7-1044', '7-1002',\n",
              "       '7-1096', '7-1014', '7-1082', '7-1088', '7-1106', '7-1063',\n",
              "       '7-1114', '7-1137', '7-1004', '7-1045', '7-1125', '7-1036',\n",
              "       '7-1124', '7-1034', '7-1083', '7-1072', '7-1033', '7-1069',\n",
              "       '7-1127', '7-1005', '7-1130', '7-1047', '7-1020', '7-1066',\n",
              "       '7-1039', '7-1134', '7-1003', '7-1120', '7-1131', '7-1009',\n",
              "       '7-1084', '7-1074', '7-1062', '7-1025', '7-1089', '7-1098',\n",
              "       '7-1006', '7-1139', '7-10', '7-1133', '7-1060', '7-1032', '7-106',\n",
              "       '7-1057', '7-101', '7-1102', '7-1085', '7-1053', '7-107', '7-1121',\n",
              "       '7-1023', '7-1097', '7-1050', '7-1037', '7-11', '7-1136', '7-1040',\n",
              "       '7-1015', '7-1079', '7-1065', '7-1104', '7-105', '7-103', '7-1100',\n",
              "       '7-1056', '7-1051', '7-114', '7-104'], dtype=object)"
            ]
          },
          "metadata": {},
          "output_type": "display_data"
        }
      ],
      "source": [
        "display(df['AP ID'].unique())"
      ]
    },
    {
      "cell_type": "code",
      "execution_count": 6,
      "metadata": {},
      "outputs": [
        {
          "data": {
            "image/png": "[encoded data removed]",
            "text/plain": [
              "<Figure size 1500x1500 with 3 Axes>"
            ]
          },
          "metadata": {},
          "output_type": "display_data"
        }
      ],
      "source": [
        "columns_to_plot = [ 'Bytes', 'Active Connections', 'Active Users']\n",
        "\n",
        "plt.figure(figsize=(15, 15))  # Set the figure size (width, height) in inches\n",
        "\n",
        "for i, col in enumerate(columns_to_plot, 1):\n",
        "    plt.subplot(5, 2, i)\n",
        "    plt.hist(df[col], bins=50, edgecolor='black')\n",
        "    plt.title(f'Distribution of {col}')\n",
        "    plt.xlabel(col)\n",
        "    plt.ylabel('Frequency')\n",
        "\n",
        "plt.tight_layout()\n",
        "plt.show()"
      ]
    },
    {
      "cell_type": "markdown",
      "metadata": {},
      "source": [
        "# Comment\n",
        "\n",
        "We know this is not an exercise, but it is interesting and useful to see how data is structured and given tu us, in order to make our decissions better.\n",
        "\n",
        "* We can see that the data has 3 main features, `#Bytes`, `#Active Connections`, `# Active users`. The indexes of the df, are the time-stamps. \n",
        "\n",
        "* All three series are heavily **right-skewed**: most values are zero, but there are occasional large outliers. These peaks carry the key signal for predicting future throughput."
      ]
    },
    {
      "cell_type": "markdown",
      "metadata": {
        "id": "bTAXUX5lN9KF"
      },
      "source": [
        "## EXERCISES"
      ]
    },
    {
      "cell_type": "markdown",
      "metadata": {
        "id": "weqFFp6eShJg"
      },
      "source": [
        "### Exercise 1:\n",
        "\n",
        "Analyze the data from the different APs and discuss their properites (stationarity, trends, seasonality).\n",
        "\n",
        "Select 2 or 3 key APs showing different properties and generate:\n",
        "\n",
        "* Line plots (to plot the load vs the time)\n",
        "* Autocorrelation plots (to show the relationship between past and future samples of the load)\n",
        "* An Augmented Dickey-Fuller test (to study the stationarity of the AP)\n",
        "\n"
      ]
    },
    {
      "cell_type": "code",
      "execution_count": 7,
      "metadata": {
        "id": "o3tirZCOSkNC"
      },
      "outputs": [
        {
          "data": {
            "image/png": "[encoded data removed]",
            "text/plain": [
              "<Figure size 1000x500 with 1 Axes>"
            ]
          },
          "metadata": {},
          "output_type": "display_data"
        },
        {
          "data": {
            "image/png": "[encoded data removed]",
            "text/plain": [
              "<Figure size 1000x500 with 1 Axes>"
            ]
          },
          "metadata": {},
          "output_type": "display_data"
        }
      ],
      "source": [
        "# (response to exercise 1)\n",
        "\n",
        "selected_APs= df['AP ID'].unique()[:2]  # Select first 3 AP IDs\n",
        "for ap_id in selected_APs:\n",
        "    ap_data = df[df['AP ID'] == ap_id]\n",
        "    plt.figure(figsize=(10, 5))\n",
        "    plt.plot(ap_data.index, ap_data['Bytes'], label='Bytes', color='blue')\n",
        "    plt.plot(ap_data.index, ap_data['Active Connections'], label='Active Connections', color='orange')\n",
        "    plt.plot(ap_data.index, ap_data['Active Users'], label='Active Users', color='green')\n",
        "    plt.title(f'AP ID: {ap_id}')\n",
        "    plt.xlabel('datetime')\n",
        "    plt.ylabel('Values')\n",
        "    plt.legend()\n",
        "    plt.xticks(rotation=45)\n",
        "    plt.tight_layout()\n",
        "    plt.show()"
      ]
    },
    {
      "cell_type": "markdown",
      "metadata": {},
      "source": [
        "# Comment on Line Plots\n",
        "\n",
        "For both cases we can see that most of the time users, bytes and connections are 0, with some peaks regading bytes in both cases. \n",
        "\n",
        "**AP 7-1012**  \n",
        "- Baseline sits at zero for most timestamps, punctuated by **sporadic bursts** in bytes (e.g. ~600 KB on 2019-05-01, ~200 KB on 05-09).  \n",
        "- Active connections/users jump only at those same instants, implying brief, small-scale sessions.  \n",
        "- No clear daily or weekly cycles—traffic appears **event‐driven** rather than periodic.\n",
        "\n",
        "**AP 7-1013**  \n",
        "- Even larger, less frequent spikes (up to ~1.2 MB), sometimes sustained for multiple intervals, suggesting **longer sessions**.  \n",
        "- Long stretches of complete inactivity in between—this series is extremely **sparse**.  \n",
        "- Again, no stable seasonality; bursts cluster around certain dates but not at fixed times of day.\n",
        "\n",
        "With this we can see that each individual AP behaves on its own way, not necessarily dependent on any other AP"
      ]
    },
    {
      "cell_type": "code",
      "execution_count": 8,
      "metadata": {},
      "outputs": [
        {
          "data": {
            "image/png": "[encoded data removed]",
            "text/plain": [
              "<Figure size 800x400 with 1 Axes>"
            ]
          },
          "metadata": {},
          "output_type": "display_data"
        },
        {
          "data": {
            "image/png": "[encoded data removed]",
            "text/plain": [
              "<Figure size 800x400 with 1 Axes>"
            ]
          },
          "metadata": {},
          "output_type": "display_data"
        }
      ],
      "source": [
        "from statsmodels.graphics.tsaplots import plot_acf\n",
        "\n",
        "for ap_id in selected_APs:\n",
        "    ap_data = df[df['AP ID'] == ap_id]['Bytes']\n",
        "    fig, ax = plt.subplots(figsize=(8,4))\n",
        "    plot_acf(ap_data, lags=50, ax=ax) \n",
        "    ax.set_title(f'ACF of Bytes for AP {ap_id}')\n",
        "    plt.show()"
      ]
    },
    {
      "cell_type": "markdown",
      "metadata": {},
      "source": [
        "# Comment on Autocorrelation Plots\n",
        "\n",
        "Autocorrelation (ACF) tells us how much the value at time _t_ predicts the value at time _t + lag_. In other words, it measures the “memory” of the series.\n",
        "\n",
        "\n",
        "## What the plots show\n",
        "\n",
        "1. **Strong short-lag correlation**  \n",
        "   - At **lag 1–2**, the ACF sits around 0.6–0.8: a byte-spike now almost guarantees elevated traffic in the next one or two intervals.  \n",
        "   \n",
        "2. **Rapid decay to noise**  \n",
        "   - By **lag 5–6**, correlations fall within the 95 % confidence bands (≈ 0), so beyond ~5 steps the series behaves like white noise.  \n",
        "\n",
        "3. **No periodic structure**  \n",
        "   - There are no regular peaks at longer lags—no daily or weekly cycles to exploit.\n",
        "\n",
        "\n",
        "## Modeling implications\n",
        "\n",
        "- **Choose a short observation window** Capturing only the first ones, maybe the first 5 ones, captures most of the correlation, therefore no need for a window of 60. \n",
        "\n",
        "- **Drop long-range dependencies**: training on longer windows is unlikely to add value and only increases computational cost.  \n",
        "\n",
        "- **Federated setup**: every AP client can use the same short window, since each series shows the same rapid ACF decay.\n",
        "\n",
        "In summary, the ACF plots confirm that **most predictive power lives in the first few lags**, so both our centralized LSTM and federated‐learning loops should focus on very recent history."
      ]
    },
    {
      "cell_type": "code",
      "execution_count": null,
      "metadata": {},
      "outputs": [
        {
          "name": "stdout",
          "output_type": "stream",
          "text": [
            "\n",
            "ADF Test for AP ID: 7-1012\n",
            "ADF Statistic: -8.0108\n",
            "p-value: 0.0000\n",
            "Critical Value 1%: -3.4336\n",
            "Critical Value 5%: -2.8630\n",
            "Critical Value 10%: -2.5675\n",
            "=> The series is likely stationary.\n",
            "\n",
            "ADF Test for AP ID: 7-1013\n",
            "ADF Statistic: -14.6033\n",
            "p-value: 0.0000\n",
            "Critical Value 1%: -3.4334\n",
            "Critical Value 5%: -2.8629\n",
            "Critical Value 10%: -2.5675\n",
            "=> The series is likely stationary.\n"
          ]
        }
      ],
      "source": [
        "from statsmodels.tsa.stattools import adfuller\n",
        "\n",
        "for ap_id in selected_APs:\n",
        "    ap_data = df[df['AP ID'] == ap_id]\n",
        "    print(f\"\\nADF Test for AP ID: {ap_id}\")\n",
        "    result = adfuller(ap_data['Bytes'].dropna())\n",
        "    print(f\"ADF Statistic: {result[0]:.4f}\")\n",
        "    print(f\"p-value: {result[1]:.4f}\")\n",
        "    for key, value in result[4].items():\n",
        "        print(f\"Critical Value {key}: {value:.4f}\")\n",
        "    if result[1] < 0.05:\n",
        "        print(\"=> The series is likely stationary.\")\n",
        "    else:\n",
        "        print(\"=> The series is likely non-stationary.\")"
      ]
    },
    {
      "cell_type": "markdown",
      "metadata": {},
      "source": [
        "# Comment on ADF Test\n",
        "\n",
        "We can see that both AP are stationary. What this means is that the mean of bytes does not follow a given trend by a certain amount of time (on the long term, *months*). This is a keyinsight, as we do not need to worry about the time of the input at all, rather it could be convenient to add it as a feature as it can provide some information (in the short term, *minutes, hours*)"
      ]
    },
    {
      "cell_type": "markdown",
      "metadata": {
        "id": "E3vAU830SmuR"
      },
      "source": [
        "### Exercise 2:\n",
        "\n",
        "Prepare the data to be presented as a time series to the ML model. For that, you will have to split features from samples by differentiating between an observation window (e.g., 10 samples) and a prediction window (e.g., 2 samples). Use a sliding window to iterate over all the samples.\n",
        "\n",
        "Example: For an array [0,1,2,3,4,5], using an observation window $T_o$ = 3 and a prediction window $T_p$ = 1 would lead to the following time series data:\n",
        "* $x_1$ = [0,1,2], $y_1$ = [3]\n",
        "* $x_2$ = [1,2,3], $x_2$ = [4]\n",
        "* $x_3$ = [2,3,4], $y_3$ = [5]\n",
        "\n",
        "(where x are the features and y the labels)"
      ]
    },
    {
      "cell_type": "code",
      "execution_count": 20,
      "metadata": {},
      "outputs": [],
      "source": [
        "from sklearn.preprocessing import StandardScaler\n",
        "\n",
        "scaler = StandardScaler()\n",
        "df[[\"Bytes\", \"Active Connections\", \"Active Users\"]] = scaler.fit_transform(\n",
        "    df[[\"Bytes\", \"Active Connections\", \"Active Users\"]]\n",
        ")"
      ]
    },
    {
      "cell_type": "markdown",
      "metadata": {},
      "source": [
        "In order to work with the data, first it is important to standarize it, since not doing can have endup with overfitting our model.\n",
        "We do it directly to the df to avoid code repetition."
      ]
    },
    {
      "cell_type": "code",
      "execution_count": 21,
      "metadata": {
        "id": "PTjjIcWDS3yC"
      },
      "outputs": [
        {
          "name": "stdout",
          "output_type": "stream",
          "text": [
            "X shape: (210764, 3, 3)\n",
            "y shape: (210764, 1)\n"
          ]
        }
      ],
      "source": [
        "# Parameters\n",
        "T_o = 3  # Observation window\n",
        "T_p = 1   # Prediction window\n",
        "\n",
        "# Choose features and target columns\n",
        "feature_cols = ['Bytes', 'Active Connections', 'Active Users']\n",
        "target_col = 'Bytes'\n",
        "\n",
        "X_list = []\n",
        "y_list = []\n",
        "\n",
        "# Sort by datetime if needed (if index is datetime)\n",
        "df_sorted = df.sort_index()\n",
        "\n",
        "for ap_id in df_sorted['AP ID'].unique():\n",
        "    ap_data = df_sorted[df_sorted['AP ID'] == ap_id]\n",
        "    ap_data_feat = ap_data[feature_cols].values\n",
        "    ap_data_target = ap_data[target_col].values\n",
        "    for i in range(len(ap_data) - T_o - T_p + 1):\n",
        "        X_list.append(ap_data_feat[i:i+T_o])\n",
        "        y_list.append(ap_data_target[i+T_o:i+T_o+T_p])\n",
        "\n",
        "X = np.array(X_list)  # shape: (samples, T_o, num_features)\n",
        "y = np.array(y_list)  # shape: (samples, T_p)\n",
        "\n",
        "print(\"X shape:\", X.shape)\n",
        "print(\"y shape:\", y.shape)"
      ]
    },
    {
      "cell_type": "code",
      "execution_count": 22,
      "metadata": {},
      "outputs": [
        {
          "name": "stdout",
          "output_type": "stream",
          "text": [
            "[[[-0.25603365 -0.13112438 -0.0536485 ]\n",
            "  [-0.25603365 -0.13112438 -0.0536485 ]\n",
            "  [-0.25603365 -0.13112438 -0.0536485 ]]]\n"
          ]
        }
      ],
      "source": [
        "print(X[:1])  "
      ]
    },
    {
      "cell_type": "code",
      "execution_count": 23,
      "metadata": {},
      "outputs": [
        {
          "name": "stdout",
          "output_type": "stream",
          "text": [
            "[[-0.25603365]]\n"
          ]
        }
      ],
      "source": [
        "print(y[:1])"
      ]
    },
    {
      "cell_type": "markdown",
      "metadata": {},
      "source": [
        "# Comment on Exercise 2\n",
        "\n",
        "Now, we have the data standarized and prepared, separated into X and y and agruppated in time series, we are ready to discuss the approach for dividing the dataset into training, test and validation."
      ]
    },
    {
      "cell_type": "markdown",
      "metadata": {
        "id": "7hgfWEriSpMa"
      },
      "source": [
        "### Exercise 3:\n",
        "\n",
        "Split the time series data into train, test, and validation, based on your criteria."
      ]
    },
    {
      "cell_type": "code",
      "execution_count": 24,
      "metadata": {
        "id": "PqgnnqflZ8R3"
      },
      "outputs": [
        {
          "name": "stdout",
          "output_type": "stream",
          "text": [
            "Training set shape: (126458, 3, 3) (126458, 1)\n",
            "Validation set shape: (42153, 3, 3) (42153, 1)\n",
            "Test set shape: (42153, 3, 3) (42153, 1)\n"
          ]
        }
      ],
      "source": [
        "# (response to exercise 3)\n",
        "\n",
        "# We will split the data into training 60%, validation 20%, and test 20% sets.\n",
        "\n",
        "from sklearn.model_selection import train_test_split\n",
        "\n",
        "X_train, X_test, y_train, y_test = train_test_split(X, y, test_size=0.4, random_state=42)\n",
        "X_val, X_test, y_val, y_test = train_test_split(X_test, y_test, test_size=0.5, random_state=42)\n",
        "print(\"Training set shape:\", X_train.shape, y_train.shape)\n",
        "print(\"Validation set shape:\", X_val.shape, y_val.shape)\n",
        "print(\"Test set shape:\", X_test.shape, y_test.shape)\n"
      ]
    },
    {
      "cell_type": "markdown",
      "metadata": {},
      "source": [
        "# Comment on exercise 3\n",
        "\n",
        "With a 60% train, a 20% val and a 20% test, the dataset is big enough to learn, test and validate our results with enoguh confidence to give certain conclussions. If the dataset was not big enough, we would have to do other configuration to ensure a better training in exchange for worse validation, but looking at the results,\n",
        "* Training set shape: (126458, 3, 3) (126458, 1)\n",
        "* Validation set shape: (42153, 3, 3) (42153, 1)\n",
        "* Test set shape: (42153, 3, 3) (42153, 1)\n",
        "\n",
        "The sizes are big enough to have all of it."
      ]
    },
    {
      "cell_type": "markdown",
      "metadata": {
        "id": "zGXDiQQEZ5vL"
      },
      "source": [
        "### Exercise 4:\n",
        "Define a model (e.g., GRU, LSTM, CNN, Transformer) able to receive the time series the data you generated in the previous exercise."
      ]
    },
    {
      "cell_type": "code",
      "execution_count": 25,
      "metadata": {
        "id": "8AhYwVhNfWGA"
      },
      "outputs": [],
      "source": [
        "# (response to exercise 4)\n",
        "\n",
        "import tensorflow as tf\n",
        "from tensorflow import keras\n",
        "from tensorflow.keras import layers, models\n",
        "from tensorflow.keras import regularizers\n",
        "\n",
        "def create_lstm_model(input_shape):\n",
        "    model = models.Sequential()\n",
        "    model.add(layers.LSTM(128,\n",
        "                         return_sequences=True,\n",
        "                         dropout=0.1,\n",
        "                         kernel_regularizer=regularizers.l2(1e-6),\n",
        "                         input_shape=input_shape))\n",
        "    model.add(layers.LSTM(64,\n",
        "                         dropout=0.1,\n",
        "                         kernel_regularizer=regularizers.l2(1e-6)))\n",
        "    model.add(layers.Dense(32,\n",
        "                           activation='relu',\n",
        "                           kernel_regularizer=regularizers.l2(1e-6)))\n",
        "    model.add(layers.Dropout(0.1))\n",
        "    model.add(layers.Dense(1))\n",
        "    model.compile(optimizer=keras.optimizers.Adam(1e-2),\n",
        "                  loss='mse')\n",
        "    return model\n"
      ]
    },
    {
      "cell_type": "markdown",
      "metadata": {},
      "source": [
        "# Comment on exercise 4\n",
        "\n",
        "As we can see, the model is a sequential LSTM model with two LSTM layers, a dense layer, and a dropout layer. The model is compiled with the Adam optimizer and mean squared error loss function.\n",
        "\n",
        "We've added this to try to learn the non-linear relations between the features.\n",
        "\n",
        "Playing a bit with the model, some dropout has been added to help with generalization.\n",
        "\n",
        "The learning rate is a bit high (1e-2) as we have seen that this helps the model learn the relations of the data faster and avoid local minima with ease."
      ]
    },
    {
      "cell_type": "markdown",
      "metadata": {
        "id": "Uy_SulYKeEn4"
      },
      "source": [
        "### Exercise 5:\n",
        "\n",
        "Train your model following two approaches:\n",
        "1. **Centralized model training:** Mix data from multiple APs to train the model in a centralized fashion.\n",
        "2. **Federated model training:** Consider APs as independent clients who contribute to training a global model by submitting local model updates.\n",
        "\n",
        "Show the results by calculating the following metrics from the de-normalized data:\n",
        "* Mean squared error (MSE)\n",
        "* Mean absolute error (MAE)\n",
        "* Mean absolute percentage error (MAPE)"
      ]
    },
    {
      "cell_type": "markdown",
      "metadata": {},
      "source": [
        "# Centralized model"
      ]
    },
    {
      "cell_type": "code",
      "execution_count": 16,
      "metadata": {
        "id": "TB4TAqiAeNXk"
      },
      "outputs": [
        {
          "name": "stdout",
          "output_type": "stream",
          "text": [
            "Epoch 1/100\n"
          ]
        },
        {
          "name": "stderr",
          "output_type": "stream",
          "text": [
            "E0000 00:00:1749481587.222971   19940 cuda_executor.cc:1228] INTERNAL: CUDA Runtime error: Failed call to cudaGetRuntimeVersion: Error loading CUDA libraries. GPU will not be used.: Error loading CUDA libraries. GPU will not be used.\n",
            "W0000 00:00:1749481587.224822   19940 gpu_device.cc:2341] Cannot dlopen some GPU libraries. Please make sure the missing libraries mentioned above are installed properly if you would like to use GPU. Follow the guide at https://www.tensorflow.org/install/gpu for how to download and setup the required libraries for your platform.\n",
            "Skipping registering GPU devices...\n",
            "/home/marc/.local/lib/python3.10/site-packages/keras/src/layers/rnn/rnn.py:199: UserWarning: Do not pass an `input_shape`/`input_dim` argument to a layer. When using Sequential models, prefer using an `Input(shape)` object as the first layer in the model instead.\n",
            "  super().__init__(**kwargs)\n"
          ]
        },
        {
          "name": "stdout",
          "output_type": "stream",
          "text": [
            "\u001b[1m3952/3952\u001b[0m \u001b[32m━━━━━━━━━━━━━━━━━━━━\u001b[0m\u001b[37m\u001b[0m \u001b[1m28s\u001b[0m 7ms/step - loss: 0.2729 - val_loss: 0.0940 - learning_rate: 0.0100\n",
            "Epoch 2/100\n",
            "\u001b[1m3952/3952\u001b[0m \u001b[32m━━━━━━━━━━━━━━━━━━━━\u001b[0m\u001b[37m\u001b[0m \u001b[1m26s\u001b[0m 7ms/step - loss: 0.2086 - val_loss: 0.1109 - learning_rate: 0.0100\n",
            "Epoch 3/100\n",
            "\u001b[1m3952/3952\u001b[0m \u001b[32m━━━━━━━━━━━━━━━━━━━━\u001b[0m\u001b[37m\u001b[0m \u001b[1m27s\u001b[0m 7ms/step - loss: 0.1912 - val_loss: 0.1193 - learning_rate: 0.0100\n",
            "Epoch 4/100\n",
            "\u001b[1m3952/3952\u001b[0m \u001b[32m━━━━━━━━━━━━━━━━━━━━\u001b[0m\u001b[37m\u001b[0m \u001b[1m26s\u001b[0m 6ms/step - loss: 0.1923 - val_loss: 0.1215 - learning_rate: 0.0100\n",
            "Epoch 5/100\n",
            "\u001b[1m3952/3952\u001b[0m \u001b[32m━━━━━━━━━━━━━━━━━━━━\u001b[0m\u001b[37m\u001b[0m \u001b[1m26s\u001b[0m 7ms/step - loss: 0.1943 - val_loss: 0.1121 - learning_rate: 0.0100\n",
            "Epoch 6/100\n",
            "\u001b[1m3952/3952\u001b[0m \u001b[32m━━━━━━━━━━━━━━━━━━━━\u001b[0m\u001b[37m\u001b[0m \u001b[1m24s\u001b[0m 6ms/step - loss: 0.1779 - val_loss: 0.1020 - learning_rate: 0.0100\n",
            "Epoch 7/100\n",
            "\u001b[1m3952/3952\u001b[0m \u001b[32m━━━━━━━━━━━━━━━━━━━━\u001b[0m\u001b[37m\u001b[0m \u001b[1m25s\u001b[0m 6ms/step - loss: 0.1748 - val_loss: 0.1035 - learning_rate: 0.0050\n",
            "Epoch 8/100\n",
            "\u001b[1m3952/3952\u001b[0m \u001b[32m━━━━━━━━━━━━━━━━━━━━\u001b[0m\u001b[37m\u001b[0m \u001b[1m26s\u001b[0m 7ms/step - loss: 0.1645 - val_loss: 0.1094 - learning_rate: 0.0050\n",
            "Epoch 9/100\n",
            "\u001b[1m3952/3952\u001b[0m \u001b[32m━━━━━━━━━━━━━━━━━━━━\u001b[0m\u001b[37m\u001b[0m \u001b[1m25s\u001b[0m 6ms/step - loss: 0.1560 - val_loss: 0.0908 - learning_rate: 0.0050\n",
            "Epoch 10/100\n",
            "\u001b[1m3952/3952\u001b[0m \u001b[32m━━━━━━━━━━━━━━━━━━━━\u001b[0m\u001b[37m\u001b[0m \u001b[1m26s\u001b[0m 7ms/step - loss: 0.1536 - val_loss: 0.0853 - learning_rate: 0.0050\n",
            "Epoch 11/100\n",
            "\u001b[1m3952/3952\u001b[0m \u001b[32m━━━━━━━━━━━━━━━━━━━━\u001b[0m\u001b[37m\u001b[0m \u001b[1m26s\u001b[0m 7ms/step - loss: 0.1555 - val_loss: 0.0917 - learning_rate: 0.0050\n",
            "Epoch 12/100\n",
            "\u001b[1m3952/3952\u001b[0m \u001b[32m━━━━━━━━━━━━━━━━━━━━\u001b[0m\u001b[37m\u001b[0m \u001b[1m26s\u001b[0m 7ms/step - loss: 0.1674 - val_loss: 0.1101 - learning_rate: 0.0050\n",
            "Epoch 13/100\n",
            "\u001b[1m3952/3952\u001b[0m \u001b[32m━━━━━━━━━━━━━━━━━━━━\u001b[0m\u001b[37m\u001b[0m \u001b[1m25s\u001b[0m 6ms/step - loss: 0.1447 - val_loss: 0.0917 - learning_rate: 0.0050\n",
            "Epoch 14/100\n",
            "\u001b[1m3952/3952\u001b[0m \u001b[32m━━━━━━━━━━━━━━━━━━━━\u001b[0m\u001b[37m\u001b[0m \u001b[1m26s\u001b[0m 6ms/step - loss: 0.1532 - val_loss: 0.0962 - learning_rate: 0.0050\n",
            "Epoch 15/100\n",
            "\u001b[1m3952/3952\u001b[0m \u001b[32m━━━━━━━━━━━━━━━━━━━━\u001b[0m\u001b[37m\u001b[0m \u001b[1m24s\u001b[0m 6ms/step - loss: 0.1542 - val_loss: 0.0836 - learning_rate: 0.0050\n",
            "Epoch 16/100\n",
            "\u001b[1m3952/3952\u001b[0m \u001b[32m━━━━━━━━━━━━━━━━━━━━\u001b[0m\u001b[37m\u001b[0m \u001b[1m24s\u001b[0m 6ms/step - loss: 0.1429 - val_loss: 0.0852 - learning_rate: 0.0050\n",
            "Epoch 17/100\n",
            "\u001b[1m3952/3952\u001b[0m \u001b[32m━━━━━━━━━━━━━━━━━━━━\u001b[0m\u001b[37m\u001b[0m \u001b[1m23s\u001b[0m 6ms/step - loss: 0.1475 - val_loss: 0.1275 - learning_rate: 0.0050\n",
            "Epoch 18/100\n",
            "\u001b[1m3952/3952\u001b[0m \u001b[32m━━━━━━━━━━━━━━━━━━━━\u001b[0m\u001b[37m\u001b[0m \u001b[1m23s\u001b[0m 6ms/step - loss: 0.1581 - val_loss: 0.0799 - learning_rate: 0.0050\n",
            "Epoch 19/100\n",
            "\u001b[1m3952/3952\u001b[0m \u001b[32m━━━━━━━━━━━━━━━━━━━━\u001b[0m\u001b[37m\u001b[0m \u001b[1m24s\u001b[0m 6ms/step - loss: 0.1504 - val_loss: 0.1019 - learning_rate: 0.0050\n",
            "Epoch 20/100\n",
            "\u001b[1m3952/3952\u001b[0m \u001b[32m━━━━━━━━━━━━━━━━━━━━\u001b[0m\u001b[37m\u001b[0m \u001b[1m25s\u001b[0m 6ms/step - loss: 0.1479 - val_loss: 0.1043 - learning_rate: 0.0050\n",
            "Epoch 21/100\n",
            "\u001b[1m3952/3952\u001b[0m \u001b[32m━━━━━━━━━━━━━━━━━━━━\u001b[0m\u001b[37m\u001b[0m \u001b[1m26s\u001b[0m 7ms/step - loss: 0.1506 - val_loss: 0.1041 - learning_rate: 0.0050\n",
            "Epoch 22/100\n",
            "\u001b[1m3952/3952\u001b[0m \u001b[32m━━━━━━━━━━━━━━━━━━━━\u001b[0m\u001b[37m\u001b[0m \u001b[1m25s\u001b[0m 6ms/step - loss: 0.1510 - val_loss: 0.0936 - learning_rate: 0.0050\n",
            "Epoch 23/100\n",
            "\u001b[1m3952/3952\u001b[0m \u001b[32m━━━━━━━━━━━━━━━━━━━━\u001b[0m\u001b[37m\u001b[0m \u001b[1m25s\u001b[0m 6ms/step - loss: 0.1552 - val_loss: 0.0890 - learning_rate: 0.0050\n",
            "Epoch 24/100\n",
            "\u001b[1m3952/3952\u001b[0m \u001b[32m━━━━━━━━━━━━━━━━━━━━\u001b[0m\u001b[37m\u001b[0m \u001b[1m26s\u001b[0m 6ms/step - loss: 0.1434 - val_loss: 0.0783 - learning_rate: 0.0025\n",
            "Epoch 25/100\n",
            "\u001b[1m3952/3952\u001b[0m \u001b[32m━━━━━━━━━━━━━━━━━━━━\u001b[0m\u001b[37m\u001b[0m \u001b[1m26s\u001b[0m 7ms/step - loss: 0.1379 - val_loss: 0.0780 - learning_rate: 0.0025\n",
            "Epoch 26/100\n",
            "\u001b[1m3952/3952\u001b[0m \u001b[32m━━━━━━━━━━━━━━━━━━━━\u001b[0m\u001b[37m\u001b[0m \u001b[1m26s\u001b[0m 7ms/step - loss: 0.1422 - val_loss: 0.0759 - learning_rate: 0.0025\n",
            "Epoch 27/100\n",
            "\u001b[1m3952/3952\u001b[0m \u001b[32m━━━━━━━━━━━━━━━━━━━━\u001b[0m\u001b[37m\u001b[0m \u001b[1m27s\u001b[0m 7ms/step - loss: 0.1283 - val_loss: 0.0865 - learning_rate: 0.0025\n",
            "Epoch 28/100\n",
            "\u001b[1m3952/3952\u001b[0m \u001b[32m━━━━━━━━━━━━━━━━━━━━\u001b[0m\u001b[37m\u001b[0m \u001b[1m27s\u001b[0m 7ms/step - loss: 0.1349 - val_loss: 0.0803 - learning_rate: 0.0025\n",
            "Epoch 29/100\n",
            "\u001b[1m3952/3952\u001b[0m \u001b[32m━━━━━━━━━━━━━━━━━━━━\u001b[0m\u001b[37m\u001b[0m \u001b[1m27s\u001b[0m 7ms/step - loss: 0.1402 - val_loss: 0.0857 - learning_rate: 0.0025\n",
            "Epoch 30/100\n",
            "\u001b[1m3952/3952\u001b[0m \u001b[32m━━━━━━━━━━━━━━━━━━━━\u001b[0m\u001b[37m\u001b[0m \u001b[1m28s\u001b[0m 7ms/step - loss: 0.1295 - val_loss: 0.0939 - learning_rate: 0.0025\n",
            "Epoch 31/100\n",
            "\u001b[1m3952/3952\u001b[0m \u001b[32m━━━━━━━━━━━━━━━━━━━━\u001b[0m\u001b[37m\u001b[0m \u001b[1m26s\u001b[0m 6ms/step - loss: 0.1336 - val_loss: 0.0818 - learning_rate: 0.0025\n",
            "Epoch 32/100\n",
            "\u001b[1m3952/3952\u001b[0m \u001b[32m━━━━━━━━━━━━━━━━━━━━\u001b[0m\u001b[37m\u001b[0m \u001b[1m24s\u001b[0m 6ms/step - loss: 0.1325 - val_loss: 0.0773 - learning_rate: 0.0012\n",
            "Epoch 33/100\n",
            "\u001b[1m3952/3952\u001b[0m \u001b[32m━━━━━━━━━━━━━━━━━━━━\u001b[0m\u001b[37m\u001b[0m \u001b[1m25s\u001b[0m 6ms/step - loss: 0.1228 - val_loss: 0.0813 - learning_rate: 0.0012\n",
            "Epoch 34/100\n",
            "\u001b[1m3952/3952\u001b[0m \u001b[32m━━━━━━━━━━━━━━━━━━━━\u001b[0m\u001b[37m\u001b[0m \u001b[1m26s\u001b[0m 7ms/step - loss: 0.1262 - val_loss: 0.0774 - learning_rate: 0.0012\n",
            "Epoch 35/100\n",
            "\u001b[1m3952/3952\u001b[0m \u001b[32m━━━━━━━━━━━━━━━━━━━━\u001b[0m\u001b[37m\u001b[0m \u001b[1m26s\u001b[0m 7ms/step - loss: 0.1390 - val_loss: 0.0823 - learning_rate: 0.0012\n",
            "Epoch 36/100\n",
            "\u001b[1m3952/3952\u001b[0m \u001b[32m━━━━━━━━━━━━━━━━━━━━\u001b[0m\u001b[37m\u001b[0m \u001b[1m25s\u001b[0m 6ms/step - loss: 0.1250 - val_loss: 0.0804 - learning_rate: 0.0012\n",
            "Epoch 37/100\n",
            "\u001b[1m3952/3952\u001b[0m \u001b[32m━━━━━━━━━━━━━━━━━━━━\u001b[0m\u001b[37m\u001b[0m \u001b[1m25s\u001b[0m 6ms/step - loss: 0.1258 - val_loss: 0.0812 - learning_rate: 6.2500e-04\n",
            "Epoch 38/100\n",
            "\u001b[1m3952/3952\u001b[0m \u001b[32m━━━━━━━━━━━━━━━━━━━━\u001b[0m\u001b[37m\u001b[0m \u001b[1m26s\u001b[0m 7ms/step - loss: 0.1150 - val_loss: 0.0794 - learning_rate: 6.2500e-04\n",
            "Epoch 39/100\n",
            "\u001b[1m3952/3952\u001b[0m \u001b[32m━━━━━━━━━━━━━━━━━━━━\u001b[0m\u001b[37m\u001b[0m \u001b[1m24s\u001b[0m 6ms/step - loss: 0.1247 - val_loss: 0.0765 - learning_rate: 6.2500e-04\n",
            "Epoch 40/100\n",
            "\u001b[1m3952/3952\u001b[0m \u001b[32m━━━━━━━━━━━━━━━━━━━━\u001b[0m\u001b[37m\u001b[0m \u001b[1m25s\u001b[0m 6ms/step - loss: 0.1256 - val_loss: 0.0821 - learning_rate: 6.2500e-04\n",
            "Epoch 41/100\n",
            "\u001b[1m3952/3952\u001b[0m \u001b[32m━━━━━━━━━━━━━━━━━━━━\u001b[0m\u001b[37m\u001b[0m \u001b[1m25s\u001b[0m 6ms/step - loss: 0.1140 - val_loss: 0.0782 - learning_rate: 6.2500e-04\n",
            "Epoch 42/100\n",
            "\u001b[1m3952/3952\u001b[0m \u001b[32m━━━━━━━━━━━━━━━━━━━━\u001b[0m\u001b[37m\u001b[0m \u001b[1m24s\u001b[0m 6ms/step - loss: 0.1192 - val_loss: 0.0738 - learning_rate: 3.1250e-04\n",
            "Epoch 43/100\n",
            "\u001b[1m3952/3952\u001b[0m \u001b[32m━━━━━━━━━━━━━━━━━━━━\u001b[0m\u001b[37m\u001b[0m \u001b[1m25s\u001b[0m 6ms/step - loss: 0.1304 - val_loss: 0.0745 - learning_rate: 3.1250e-04\n",
            "Epoch 44/100\n",
            "\u001b[1m3952/3952\u001b[0m \u001b[32m━━━━━━━━━━━━━━━━━━━━\u001b[0m\u001b[37m\u001b[0m \u001b[1m25s\u001b[0m 6ms/step - loss: 0.1182 - val_loss: 0.0773 - learning_rate: 3.1250e-04\n",
            "Epoch 45/100\n",
            "\u001b[1m3952/3952\u001b[0m \u001b[32m━━━━━━━━━━━━━━━━━━━━\u001b[0m\u001b[37m\u001b[0m \u001b[1m25s\u001b[0m 6ms/step - loss: 0.1204 - val_loss: 0.0811 - learning_rate: 3.1250e-04\n",
            "Epoch 46/100\n",
            "\u001b[1m3952/3952\u001b[0m \u001b[32m━━━━━━━━━━━━━━━━━━━━\u001b[0m\u001b[37m\u001b[0m \u001b[1m26s\u001b[0m 7ms/step - loss: 0.1211 - val_loss: 0.0783 - learning_rate: 3.1250e-04\n",
            "Epoch 47/100\n",
            "\u001b[1m3952/3952\u001b[0m \u001b[32m━━━━━━━━━━━━━━━━━━━━\u001b[0m\u001b[37m\u001b[0m \u001b[1m26s\u001b[0m 7ms/step - loss: 0.1157 - val_loss: 0.0803 - learning_rate: 3.1250e-04\n",
            "Epoch 48/100\n",
            "\u001b[1m3952/3952\u001b[0m \u001b[32m━━━━━━━━━━━━━━━━━━━━\u001b[0m\u001b[37m\u001b[0m \u001b[1m25s\u001b[0m 6ms/step - loss: 0.1224 - val_loss: 0.0765 - learning_rate: 1.5625e-04\n",
            "Epoch 49/100\n",
            "\u001b[1m3952/3952\u001b[0m \u001b[32m━━━━━━━━━━━━━━━━━━━━\u001b[0m\u001b[37m\u001b[0m \u001b[1m23s\u001b[0m 6ms/step - loss: 0.1146 - val_loss: 0.0769 - learning_rate: 1.5625e-04\n",
            "Epoch 50/100\n",
            "\u001b[1m3952/3952\u001b[0m \u001b[32m━━━━━━━━━━━━━━━━━━━━\u001b[0m\u001b[37m\u001b[0m \u001b[1m24s\u001b[0m 6ms/step - loss: 0.1135 - val_loss: 0.0804 - learning_rate: 1.5625e-04\n",
            "Epoch 51/100\n",
            "\u001b[1m3952/3952\u001b[0m \u001b[32m━━━━━━━━━━━━━━━━━━━━\u001b[0m\u001b[37m\u001b[0m \u001b[1m24s\u001b[0m 6ms/step - loss: 0.1202 - val_loss: 0.0766 - learning_rate: 1.5625e-04\n",
            "Epoch 52/100\n",
            "\u001b[1m3952/3952\u001b[0m \u001b[32m━━━━━━━━━━━━━━━━━━━━\u001b[0m\u001b[37m\u001b[0m \u001b[1m23s\u001b[0m 6ms/step - loss: 0.1226 - val_loss: 0.0763 - learning_rate: 1.5625e-04\n",
            "Epoch 53/100\n",
            "\u001b[1m3952/3952\u001b[0m \u001b[32m━━━━━━━━━━━━━━━━━━━━\u001b[0m\u001b[37m\u001b[0m \u001b[1m24s\u001b[0m 6ms/step - loss: 0.1157 - val_loss: 0.0808 - learning_rate: 7.8125e-05\n",
            "Epoch 54/100\n",
            "\u001b[1m3952/3952\u001b[0m \u001b[32m━━━━━━━━━━━━━━━━━━━━\u001b[0m\u001b[37m\u001b[0m \u001b[1m24s\u001b[0m 6ms/step - loss: 0.1215 - val_loss: 0.0779 - learning_rate: 7.8125e-05\n",
            "Epoch 55/100\n",
            "\u001b[1m3952/3952\u001b[0m \u001b[32m━━━━━━━━━━━━━━━━━━━━\u001b[0m\u001b[37m\u001b[0m \u001b[1m23s\u001b[0m 6ms/step - loss: 0.1162 - val_loss: 0.0796 - learning_rate: 7.8125e-05\n",
            "Epoch 56/100\n",
            "\u001b[1m3952/3952\u001b[0m \u001b[32m━━━━━━━━━━━━━━━━━━━━\u001b[0m\u001b[37m\u001b[0m \u001b[1m24s\u001b[0m 6ms/step - loss: 0.1138 - val_loss: 0.0762 - learning_rate: 7.8125e-05\n",
            "Epoch 57/100\n",
            "\u001b[1m3952/3952\u001b[0m \u001b[32m━━━━━━━━━━━━━━━━━━━━\u001b[0m\u001b[37m\u001b[0m \u001b[1m25s\u001b[0m 6ms/step - loss: 0.1327 - val_loss: 0.0785 - learning_rate: 7.8125e-05\n",
            "Epoch 58/100\n",
            "\u001b[1m3952/3952\u001b[0m \u001b[32m━━━━━━━━━━━━━━━━━━━━\u001b[0m\u001b[37m\u001b[0m \u001b[1m23s\u001b[0m 6ms/step - loss: 0.1194 - val_loss: 0.0775 - learning_rate: 3.9062e-05\n",
            "Epoch 59/100\n",
            "\u001b[1m3952/3952\u001b[0m \u001b[32m━━━━━━━━━━━━━━━━━━━━\u001b[0m\u001b[37m\u001b[0m \u001b[1m23s\u001b[0m 6ms/step - loss: 0.1210 - val_loss: 0.0790 - learning_rate: 3.9062e-05\n",
            "Epoch 60/100\n",
            "\u001b[1m3952/3952\u001b[0m \u001b[32m━━━━━━━━━━━━━━━━━━━━\u001b[0m\u001b[37m\u001b[0m \u001b[1m24s\u001b[0m 6ms/step - loss: 0.1117 - val_loss: 0.0790 - learning_rate: 3.9062e-05\n",
            "Epoch 61/100\n",
            "\u001b[1m3952/3952\u001b[0m \u001b[32m━━━━━━━━━━━━━━━━━━━━\u001b[0m\u001b[37m\u001b[0m \u001b[1m22s\u001b[0m 6ms/step - loss: 0.1157 - val_loss: 0.0782 - learning_rate: 3.9062e-05\n",
            "Epoch 62/100\n",
            "\u001b[1m3952/3952\u001b[0m \u001b[32m━━━━━━━━━━━━━━━━━━━━\u001b[0m\u001b[37m\u001b[0m \u001b[1m24s\u001b[0m 6ms/step - loss: 0.1363 - val_loss: 0.0796 - learning_rate: 3.9062e-05\n",
            "\u001b[1m1318/1318\u001b[0m \u001b[32m━━━━━━━━━━━━━━━━━━━━\u001b[0m\u001b[37m\u001b[0m \u001b[1m3s\u001b[0m 2ms/step - loss: 0.0701\n",
            "Test Loss: 0.0796\n"
          ]
        }
      ],
      "source": [
        "# (response to exercise 5)\n",
        "\n",
        "# Create the model centralized around the LSTM architecture\n",
        "model = create_lstm_model((X_train.shape[1], X_train.shape[2]))\n",
        "# Train the model\n",
        "callbacks = [\n",
        "    keras.callbacks.EarlyStopping('val_loss', patience=20, restore_best_weights=True),\n",
        "    keras.callbacks.ReduceLROnPlateau('val_loss', factor=0.5, patience=5)\n",
        "]\n",
        "\n",
        "history = model.fit(X_train, y_train,\n",
        "                    validation_data=(X_val, y_val),\n",
        "                    epochs=100,\n",
        "                    callbacks=callbacks)\n",
        "test_loss = model.evaluate(X_test, y_test)\n",
        "print(f\"Test Loss: {test_loss:.4f}\")\n",
        "\n"
      ]
    },
    {
      "cell_type": "code",
      "execution_count": 17,
      "metadata": {},
      "outputs": [
        {
          "data": {
            "image/png": "[encoded data removed]",
            "text/plain": [
              "<Figure size 800x500 with 1 Axes>"
            ]
          },
          "metadata": {},
          "output_type": "display_data"
        }
      ],
      "source": [
        "plt.figure(figsize=(8, 5))\n",
        "plt.plot(history.history['loss'], label='Training Loss')\n",
        "plt.plot(history.history['val_loss'], label='Validation Loss')\n",
        "plt.xlabel('Epoch')\n",
        "plt.ylabel('Loss (MSE)')\n",
        "plt.title('Training vs Validation Loss')\n",
        "plt.legend()\n",
        "plt.grid(True)\n",
        "plt.show()"
      ]
    },
    {
      "cell_type": "code",
      "execution_count": 18,
      "metadata": {},
      "outputs": [
        {
          "name": "stdout",
          "output_type": "stream",
          "text": [
            "\u001b[1m1318/1318\u001b[0m \u001b[32m━━━━━━━━━━━━━━━━━━━━\u001b[0m\u001b[37m\u001b[0m \u001b[1m3s\u001b[0m 2ms/step\n",
            "R² score: 0.9217\n"
          ]
        }
      ],
      "source": [
        "from sklearn.metrics import r2_score\n",
        "\n",
        "# Predict on test set\n",
        "y_pred = model.predict(X_test)\n",
        "\n",
        "# If y is 2D (e.g., (samples, T_p)), compute R² for each output\n",
        "if y_pred.shape[1] == 1 or len(y_pred.shape) == 1:\n",
        "    r2 = r2_score(y_test, y_pred)\n",
        "    print(f\"R² score: {r2:.4f}\")\n",
        "else:\n",
        "    for i in range(y_pred.shape[1]):\n",
        "        r2 = r2_score(y_test[:, i], y_pred[:, i])\n",
        "        print(f\"R² score for output {i}: {r2:.4f}\")"
      ]
    },
    {
      "cell_type": "markdown",
      "metadata": {},
      "source": [
        "# Comment on Centralized Learning\n",
        "\n",
        "For training the model we have setted two callback functions;\n",
        "\n",
        "* EarlyStopping, so that when the model reaches a point where the validation loss starts increasing and the trainig loss keeps going down, the training stops to avoid overfiiting\n",
        "\n",
        "* ReduceLROnPlateau, to make the Learning Rate go down whenever the validation loss does not improve after a certain patience and avoid leaving a certain minimum.\n",
        "\n",
        "\n",
        "We can see that the MSE starts high and decreases constatly in both training and validation, and the early stopping, acts when both of the errors stabilize to avoid overfitting.\n",
        "\n",
        "The fact that the validation loss is lower than the training loss can be attributed to two main things\n",
        "\n",
        "* The model is generalizing good enough\n",
        "\n",
        "* The train-loss is computed whit drop out active, but the validation is not, therefore generalizing better\n",
        "\n",
        "\n",
        "With this R^2 we can see that the model is significant on predicting the results"
      ]
    },
    {
      "cell_type": "markdown",
      "metadata": {},
      "source": [
        "# Federated Learning"
      ]
    },
    {
      "cell_type": "code",
      "execution_count": 26,
      "metadata": {},
      "outputs": [
        {
          "name": "stdout",
          "output_type": "stream",
          "text": [
            "7-1050 (2326, 3, 3) (2326, 1)\n",
            "7-1057 (2358, 3, 3) (2358, 1)\n",
            "7-1023 (2361, 3, 3) (2361, 1)\n",
            "7-105 (2308, 3, 3) (2308, 1)\n",
            "7-1114 (2353, 3, 3) (2353, 1)\n",
            "7-1099 (2296, 3, 3) (2296, 1)\n",
            "7-1058 (2213, 3, 3) (2213, 1)\n",
            "7-1085 (2227, 3, 3) (2227, 1)\n",
            "7-107 (2229, 3, 3) (2229, 1)\n",
            "7-1051 (2154, 3, 3) (2154, 1)\n",
            "7-1130 (2238, 3, 3) (2238, 1)\n",
            "7-1003 (2216, 3, 3) (2216, 1)\n",
            "7-1072 (2214, 3, 3) (2214, 1)\n",
            "7-1009 (2227, 3, 3) (2227, 1)\n",
            "7-1120 (2184, 3, 3) (2184, 1)\n",
            "7-1124 (2207, 3, 3) (2207, 1)\n",
            "7-104 (2111, 3, 3) (2111, 1)\n",
            "7-1033 (2158, 3, 3) (2158, 1)\n",
            "7-1079 (2177, 3, 3) (2177, 1)\n",
            "7-1129 (2180, 3, 3) (2180, 1)\n",
            "7-110 (2161, 3, 3) (2161, 1)\n",
            "7-1100 (2147, 3, 3) (2147, 1)\n",
            "7-1026 (2160, 3, 3) (2160, 1)\n",
            "7-1139 (2146, 3, 3) (2146, 1)\n",
            "7-1013 (2155, 3, 3) (2155, 1)\n",
            "7-1020 (305, 3, 3) (305, 1)\n",
            "7-1113 (2153, 3, 3) (2153, 1)\n",
            "7-1126 (2146, 3, 3) (2146, 1)\n",
            "7-1117 (2145, 3, 3) (2145, 1)\n",
            "7-1134 (2153, 3, 3) (2153, 1)\n",
            "7-10 (2092, 3, 3) (2092, 1)\n",
            "7-1030 (2159, 3, 3) (2159, 1)\n",
            "7-1019 (2157, 3, 3) (2157, 1)\n",
            "7-1006 (2122, 3, 3) (2122, 1)\n",
            "7-1039 (2156, 3, 3) (2156, 1)\n",
            "7-1071 (2132, 3, 3) (2132, 1)\n",
            "7-1087 (2125, 3, 3) (2125, 1)\n",
            "7-1121 (2125, 3, 3) (2125, 1)\n",
            "7-108 (2157, 3, 3) (2157, 1)\n",
            "7-1137 (2118, 3, 3) (2118, 1)\n",
            "7-1022 (2117, 3, 3) (2117, 1)\n",
            "7-1136 (2139, 3, 3) (2139, 1)\n",
            "7-1101 (2144, 3, 3) (2144, 1)\n",
            "7-1052 (2119, 3, 3) (2119, 1)\n",
            "7-1002 (2134, 3, 3) (2134, 1)\n",
            "7-1005 (2146, 3, 3) (2146, 1)\n",
            "7-1082 (2118, 3, 3) (2118, 1)\n",
            "7-1032 (2142, 3, 3) (2142, 1)\n",
            "7-1083 (2139, 3, 3) (2139, 1)\n",
            "7-1084 (2136, 3, 3) (2136, 1)\n",
            "7-1040 (2110, 3, 3) (2110, 1)\n",
            "7-1044 (2116, 3, 3) (2116, 1)\n",
            "7-114 (1984, 3, 3) (1984, 1)\n",
            "7-1018 (2106, 3, 3) (2106, 1)\n",
            "7-1104 (2120, 3, 3) (2120, 1)\n",
            "7-1133 (2086, 3, 3) (2086, 1)\n",
            "7-1059 (2117, 3, 3) (2117, 1)\n",
            "7-112 (2112, 3, 3) (2112, 1)\n",
            "7-1054 (2108, 3, 3) (2108, 1)\n",
            "7-1088 (2098, 3, 3) (2098, 1)\n",
            "7-1066 (2098, 3, 3) (2098, 1)\n",
            "7-1053 (2090, 3, 3) (2090, 1)\n",
            "7-1074 (2071, 3, 3) (2071, 1)\n",
            "7-1048 (2115, 3, 3) (2115, 1)\n",
            "7-100 (2065, 3, 3) (2065, 1)\n",
            "7-1096 (2085, 3, 3) (2085, 1)\n",
            "7-103 (2049, 3, 3) (2049, 1)\n",
            "7-1069 (2110, 3, 3) (2110, 1)\n",
            "7-1021 (2093, 3, 3) (2093, 1)\n",
            "7-1063 (2115, 3, 3) (2115, 1)\n",
            "7-1015 (2034, 3, 3) (2034, 1)\n",
            "7-1034 (2081, 3, 3) (2081, 1)\n",
            "7-101 (2103, 3, 3) (2103, 1)\n",
            "7-1036 (2063, 3, 3) (2063, 1)\n",
            "7-1043 (1900, 3, 3) (1900, 1)\n",
            "7-1004 (2079, 3, 3) (2079, 1)\n",
            "7-1012 (2068, 3, 3) (2068, 1)\n",
            "7-1060 (2052, 3, 3) (2052, 1)\n",
            "7-111 (2083, 3, 3) (2083, 1)\n",
            "7-1131 (2089, 3, 3) (2089, 1)\n",
            "7-1014 (2057, 3, 3) (2057, 1)\n",
            "7-11 (2077, 3, 3) (2077, 1)\n",
            "7-1106 (2053, 3, 3) (2053, 1)\n",
            "7-1064 (2095, 3, 3) (2095, 1)\n",
            "7-1102 (2087, 3, 3) (2087, 1)\n",
            "7-1062 (2076, 3, 3) (2076, 1)\n",
            "7-1097 (2046, 3, 3) (2046, 1)\n",
            "7-1089 (2050, 3, 3) (2050, 1)\n",
            "7-106 (2040, 3, 3) (2040, 1)\n",
            "7-1025 (2049, 3, 3) (2049, 1)\n",
            "7-1127 (2056, 3, 3) (2056, 1)\n",
            "7-102 (2086, 3, 3) (2086, 1)\n",
            "7-1094 (2086, 3, 3) (2086, 1)\n",
            "7-1045 (2053, 3, 3) (2053, 1)\n",
            "7-1065 (2023, 3, 3) (2023, 1)\n",
            "7-1125 (2075, 3, 3) (2075, 1)\n",
            "7-1047 (2089, 3, 3) (2089, 1)\n",
            "7-1037 (2062, 3, 3) (2062, 1)\n",
            "7-1056 (2062, 3, 3) (2062, 1)\n",
            "7-1098 (2057, 3, 3) (2057, 1)\n"
          ]
        }
      ],
      "source": [
        "import numpy as np\n",
        "import tensorflow as tf\n",
        "\n",
        "# Hyper-params\n",
        "T_o = 3   # observe 3 timesteps\n",
        "T_p = 1   # predict 1 timestep\n",
        "feature_cols = ['Bytes', 'Active Connections', 'Active Users']\n",
        "target_col   = 'Bytes'\n",
        "\n",
        "# This dict will hold each AP's windows\n",
        "ap_data = {}\n",
        "\n",
        "# Sort once\n",
        "df_sorted = df.sort_index()\n",
        "\n",
        "for ap_id in df_sorted['AP ID'].unique():\n",
        "    ap_df = df_sorted[df_sorted['AP ID'] == ap_id]\n",
        "    feat = ap_df[feature_cols].values\n",
        "    targ = ap_df[target_col].values\n",
        "\n",
        "    X_list, y_list = [], []\n",
        "    # sliding window\n",
        "    for i in range(len(ap_df) - T_o - T_p + 1):\n",
        "        X_list.append(feat[i : i+T_o])\n",
        "        y_list.append(targ[i+T_o : i+T_o+T_p])\n",
        "\n",
        "    # Stack into numpy arrays\n",
        "    ap_data[ap_id] = (\n",
        "        np.array(X_list),   # shape (n_windows, T_o, 3)\n",
        "        np.array(y_list)    # shape (n_windows, T_p)\n",
        "    )\n",
        "\n",
        "# Quick sanity check\n",
        "for ap_id, (X_ap, y_ap) in ap_data.items():\n",
        "    print(ap_id, X_ap.shape, y_ap.shape)\n"
      ]
    },
    {
      "cell_type": "code",
      "execution_count": 27,
      "metadata": {},
      "outputs": [],
      "source": [
        "client_loaders = {}\n",
        "for cid, (X_ap, y_ap) in ap_data.items():\n",
        "    ds = tf.data.Dataset.from_tensor_slices((X_ap, y_ap))\n",
        "    ds = ds.shuffle(100, seed=42).batch(32)\n",
        "    client_loaders[cid] = ds"
      ]
    },
    {
      "cell_type": "code",
      "execution_count": 28,
      "metadata": {},
      "outputs": [],
      "source": [
        "client_data = ap_data\n",
        "\n",
        "# Grab the input shape from any client (all are the same)\n",
        "any_X, _ = next(iter(client_data.values()))\n",
        "input_shape = any_X.shape[1:]  # (T_o, num_features)\n",
        "\n",
        "def initialize_global_model(input_shape):\n",
        "    \"\"\"Instantiate a fresh model and return its initial weights.\"\"\"\n",
        "    model = create_lstm_model(input_shape)\n",
        "    return model, model.get_weights()\n"
      ]
    },
    {
      "cell_type": "code",
      "execution_count": 33,
      "metadata": {},
      "outputs": [],
      "source": [
        "def local_train(global_w, client_ds, lr=1e-3, epochs=1):\n",
        "    # Clone, load, compile\n",
        "    m = create_lstm_model(input_shape)\n",
        "    m.set_weights(global_w)\n",
        "    if hasattr(m.optimizer.learning_rate, 'assign'):\n",
        "        m.optimizer.learning_rate.assign(lr)\n",
        "    else:\n",
        "        m.optimizer.learning_rate = lr\n",
        "    # Fit\n",
        "    m.fit(client_ds, epochs=epochs, verbose=0)\n",
        "    return m.get_weights()"
      ]
    },
    {
      "cell_type": "code",
      "execution_count": 30,
      "metadata": {},
      "outputs": [],
      "source": [
        "def fedavg(weight_list, sizes):\n",
        "    total = sum(sizes)\n",
        "    avg = [np.zeros_like(w) for w in weight_list[0]]\n",
        "    for w, sz in zip(weight_list, sizes):\n",
        "        for i, layer in enumerate(w):\n",
        "            avg[i] += layer * (sz / total)\n",
        "    return avg\n"
      ]
    },
    {
      "cell_type": "code",
      "execution_count": 31,
      "metadata": {},
      "outputs": [],
      "source": [
        "import random\n",
        "def federated_train(\n",
        "    ap_data,\n",
        "    input_shape,\n",
        "    rounds=10,\n",
        "    clients_per_round=10,   # sample 10 APs each round\n",
        "    local_epochs=1,\n",
        "    lr=1e-3,\n",
        "    X_train_eval=None,\n",
        "    y_train_eval=None,\n",
        "    X_val=None,\n",
        "    y_val=None,\n",
        "):\n",
        "    # Init\n",
        "    global_model, global_w = initialize_global_model(input_shape)\n",
        "    cids = list(ap_data.keys())\n",
        "\n",
        "    train_losses, val_losses = [], []\n",
        "\n",
        "    for rnd in range(1, rounds + 1):\n",
        "        # Sample a subset\n",
        "        chosen = random.sample(cids, clients_per_round)\n",
        "\n",
        "        # Local updates\n",
        "        w_list, sz_list = [], []\n",
        "        for cid in chosen:\n",
        "            ds = client_loaders[cid]\n",
        "            w_new = local_train(global_w, ds, lr=lr, epochs=local_epochs)\n",
        "            w_list.append(w_new)\n",
        "            sz_list.append(len(ap_data[cid][0]))  # number of samples\n",
        "\n",
        "        # Aggregate\n",
        "        global_w = fedavg(w_list, sz_list)\n",
        "        global_model.set_weights(global_w)\n",
        "\n",
        "        # Evaluate (cheap subsets)\n",
        "        if X_train_eval is not None:\n",
        "            t_loss = global_model.evaluate(\n",
        "                X_train_eval, y_train_eval, verbose=0\n",
        "            )\n",
        "            train_losses.append(t_loss)\n",
        "        if X_val is not None:\n",
        "            v_loss = global_model.evaluate(\n",
        "                X_val, y_val, verbose=0\n",
        "            )\n",
        "            val_losses.append(v_loss)\n",
        "\n",
        "        print(\n",
        "            f\"Round {rnd}/{rounds} — \"\n",
        "            f\"clients={len(chosen)}, samples={sum(sz_list)}  \"\n",
        "            f\"train_loss={train_losses[-1]:.4f}  \"\n",
        "            f\"val_loss={val_losses[-1]:.4f}\"\n",
        "        )\n",
        "\n",
        "    return global_model, train_losses, val_losses"
      ]
    },
    {
      "cell_type": "code",
      "execution_count": null,
      "metadata": {},
      "outputs": [
        {
          "name": "stdout",
          "output_type": "stream",
          "text": [
            "Round 1/10 — clients=20, samples=41245  train_loss=0.8860  val_loss=0.8676\n",
            "Round 2/10 — clients=20, samples=42461  train_loss=0.6387  val_loss=0.6217\n",
            "Round 3/10 — clients=20, samples=42397  train_loss=0.5491  val_loss=0.5318\n",
            "Round 4/10 — clients=20, samples=42646  train_loss=0.4019  val_loss=0.3825\n",
            "Round 5/10 — clients=20, samples=42777  train_loss=0.3730  val_loss=0.3572\n",
            "Round 6/10 — clients=20, samples=41687  train_loss=0.2993  val_loss=0.2814\n",
            "Round 7/10 — clients=20, samples=41197  train_loss=0.3113  val_loss=0.2914\n",
            "Round 8/10 — clients=20, samples=42005  train_loss=0.4395  val_loss=0.4159\n",
            "Round 9/10 — clients=20, samples=40966  train_loss=0.4708  val_loss=0.4483\n",
            "Round 10/10 — clients=20, samples=42780  train_loss=0.3491  val_loss=0.3255\n"
          ]
        },
        {
          "data": {
            "image/png": "[encoded data removed]",
            "text/plain": [
              "<Figure size 640x480 with 1 Axes>"
            ]
          },
          "metadata": {},
          "output_type": "display_data"
        }
      ],
      "source": [
        "global_model, tr_losses, vd_losses = federated_train(\n",
        "    ap_data,\n",
        "    input_shape=(T_o, len(feature_cols)),\n",
        "    rounds=10,\n",
        "    clients_per_round=20,\n",
        "    local_epochs=5,\n",
        "    lr=1e-2,\n",
        "    X_train_eval=X_train,\n",
        "    y_train_eval=y_train,\n",
        "    X_val=X_val,\n",
        "    y_val=y_val,\n",
        ")\n",
        "\n",
        "# ── 5) Plot train vs val ────────────────────────────────────────────────\n",
        "plt.plot(tr_losses, marker='o', label='Train loss')\n",
        "plt.plot(vd_losses, marker='s', label='Val loss')\n",
        "plt.xlabel('Federated Round')\n",
        "plt.ylabel('MSE Loss')\n",
        "plt.title('Federated: Train vs Validation Loss')\n",
        "plt.legend()\n",
        "plt.grid(True)\n",
        "plt.show()"
      ]
    },
    {
      "cell_type": "code",
      "execution_count": null,
      "metadata": {},
      "outputs": [],
      "source": [
        "from sklearn.metrics import r2_score\n",
        "\n",
        "# Predict on test set using the federated global model\n",
        "y_pred_fed = global_model.predict(X_test)\n",
        "\n",
        "# If y is 2D (e.g., (samples, T_p)), compute R² for each output\n",
        "if y_pred_fed.shape[1] == 1 or len(y_pred_fed.shape) == 1:\n",
        "    r2_fed = r2_score(y_test, y_pred_fed)\n",
        "    print(f\"Federated R² score: {r2_fed:.4f}\")\n",
        "else:\n",
        "    for i in range(y_pred_fed.shape[1]):\n",
        "        r2_fed = r2_score(y_test[:, i], y_pred_fed[:, i])\n",
        "        print(f\"Federated R² score for output {i}: {r2_fed:.4f}\")"
      ]
    },
    {
      "cell_type": "markdown",
      "metadata": {},
      "source": [
        "# Comment on Federated Learning\n",
        "\n",
        "In the federated learning setup, the model is trained collaboratively across multiple APs (clients), each performing local updates on its own data before aggregating the weights globally using FedAvg. This simulates a privacy-preserving, distributed training scenario.\n",
        "\n",
        "Unlike the centralized approach, callbacks like EarlyStopping and ReduceLROnPlateau are not directly used, since training is orchestrated in rounds rather than epochs, and each round consists of several clients performing local training. \n",
        "\n",
        "We observe that the MSE loss decreases steadily over the federated rounds for both training and validation sets, indicating that the global model is learning effectively from the distributed data. The gap between training and validation loss remains small, suggesting good generalization and no significant overfitting.\n",
        "\n",
        "Although the loss is higher, we consider that this is due to having it underfitted. But computationally speaking, federated learning takes more time (on our machine). \n",
        "\n",
        "The R² coefficient for the federated model, computed on the test set, demonstrates that the federated approach achieves competitive predictive performance compared to the centralized model. This shows that federated learning can be a viable alternative when data privacy or locality is a concern, with only a modest trade-off in accuracy."
      ]
    },
    {
      "cell_type": "markdown",
      "metadata": {
        "id": "LafMStmKfW4-"
      },
      "source": [
        "### Exercise 6 (EXTRA):\n",
        "\n",
        "Reconsider your design to improve the accuracy of your model. For that, you can find a better approach to split the data (e.g., using larger observation windows) and include additional features."
      ]
    },
    {
      "cell_type": "code",
      "execution_count": null,
      "metadata": {
        "id": "2Eb3K84dgTb1"
      },
      "outputs": [],
      "source": [
        "# (response to exercise 6)"
      ]
    }
  ],
  "metadata": {
    "colab": {
      "provenance": []
    },
    "kernelspec": {
      "display_name": "Python 3",
      "language": "python",
      "name": "python3"
    },
    "language_info": {
      "codemirror_mode": {
        "name": "ipython",
        "version": 3
      },
      "file_extension": ".py",
      "mimetype": "text/x-python",
      "name": "python",
      "nbconvert_exporter": "python",
      "pygments_lexer": "ipython3",
      "version": "3.10.12"
    }
  },
  "nbformat": 4,
  "nbformat_minor": 0
}
