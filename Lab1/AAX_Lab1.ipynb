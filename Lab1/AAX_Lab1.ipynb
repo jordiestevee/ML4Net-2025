{
  "cells": [
    {
      "cell_type": "markdown",
      "metadata": {
        "id": "ShbB8CxBMSLH"
      },
      "source": [
        "#ML4Net - Lab 1\n",
        "\n",
        "## Team members\n",
        "\n",
        "Marc Mallol 268923 | Jordi Esteve (NIA 2) | Albert Jané (NIA 3)\n",
        "\n",
        "## Description\n",
        "\n",
        "In this lab, you are going to get introduced into Multi-Armed Bandits (MABs) and Wi-Fi simulations. More specifically, you are going to implement a MAB algorithm that performs channel allocation in an Overlapping Basic Service Set (OBSS), i.e., in a scenario where multiple independent BSSs coexist.\n",
        "\n",
        "## Instructions\n",
        "\n",
        "*   Follow the steps from this Notebook and complete the proposed exercises.\n",
        "*   Deliver the completed Notebook by uploading it to your Github repository.\n",
        "*   Submission deadline: 18 May 2025 (EoB)."
      ]
    },
    {
      "cell_type": "markdown",
      "metadata": {
        "id": "Lqio72iAuxNJ"
      },
      "source": [
        "## Setting up the environment"
      ]
    },
    {
      "cell_type": "markdown",
      "metadata": {},
      "source": [
        "# IMPORTATNT !!!!!!  ALBERT I JORDI\n",
        "\n",
        "Abans de res fares, el set-up està preparat per utilitzar google colab, però amb uns canvis podem utilitzar-ho en local\n",
        "\n",
        "Però per fer-ho correr heu de correr el Visual Studio amb la màquina de Linux (wsl), si no tot us petarà.\n",
        "Per fer-ho és sencill, aneu a la terminal del VS, i obriu el wsl, escriviu `wsl`\n",
        "\n",
        "Després ara amb la termina de linux escriviu `code .`\n",
        "\n",
        "I se us obrirà una nova pestanya del VS, on a d'alt hauria de posar `ML4Net-2025 [WSL: Ubuntu]`\n",
        "\n",
        "Suposo que s'haurà d'entregar amb colab però, així que s'haurà de traduir els paths i tal, però suposo que serà un moment.\n",
        "\n",
        "Llavors tot okey, podeu seguir, si algo envieu-me un whats"
      ]
    },
    {
      "cell_type": "code",
      "execution_count": 4,
      "metadata": {},
      "outputs": [
        {
          "name": "stdout",
          "output_type": "stream",
          "text": [
            "ZIP already exists; skipping download.\n",
            "Extracting /mnt/c/Users/Marc/Documents/Uni/3r/3r Trimestre/MLNetworks/Labs/ML4Net-2025/Lab1/Lab1/Komondor-lightweight.zip → /mnt/c/Users/Marc/Documents/Uni/3r/3r Trimestre/MLNetworks/Labs/ML4Net-2025/Lab1/Lab1 …\n"
          ]
        },
        {
          "ename": "PermissionError",
          "evalue": "[Errno 13] Permission denied: '/mnt/c/Users/Marc/Documents/Uni/3r/3r Trimestre/MLNetworks/Labs/ML4Net-2025/Lab1/Lab1/input/input_nodes.csv'",
          "output_type": "error",
          "traceback": [
            "\u001b[0;31m---------------------------------------------------------------------------\u001b[0m",
            "\u001b[0;31mPermissionError\u001b[0m                           Traceback (most recent call last)",
            "Cell \u001b[0;32mIn[4], line 24\u001b[0m\n\u001b[1;32m     22\u001b[0m \u001b[38;5;28mprint\u001b[39m(\u001b[38;5;124mf\u001b[39m\u001b[38;5;124m\"\u001b[39m\u001b[38;5;124mExtracting \u001b[39m\u001b[38;5;132;01m{\u001b[39;00mzip_fp\u001b[38;5;132;01m}\u001b[39;00m\u001b[38;5;124m → \u001b[39m\u001b[38;5;132;01m{\u001b[39;00mlab_dir\u001b[38;5;132;01m}\u001b[39;00m\u001b[38;5;124m …\u001b[39m\u001b[38;5;124m\"\u001b[39m)\n\u001b[1;32m     23\u001b[0m \u001b[38;5;28;01mwith\u001b[39;00m zipfile\u001b[38;5;241m.\u001b[39mZipFile(zip_fp, \u001b[38;5;124m'\u001b[39m\u001b[38;5;124mr\u001b[39m\u001b[38;5;124m'\u001b[39m) \u001b[38;5;28;01mas\u001b[39;00m z:\n\u001b[0;32m---> 24\u001b[0m     \u001b[43mz\u001b[49m\u001b[38;5;241;43m.\u001b[39;49m\u001b[43mextractall\u001b[49m\u001b[43m(\u001b[49m\u001b[43mlab_dir\u001b[49m\u001b[43m)\u001b[49m\n\u001b[1;32m     26\u001b[0m \u001b[38;5;66;03m# 4) Build\u001b[39;00m\n\u001b[1;32m     27\u001b[0m main_dir \u001b[38;5;241m=\u001b[39m os\u001b[38;5;241m.\u001b[39mpath\u001b[38;5;241m.\u001b[39mjoin(lab_dir, \u001b[38;5;124m\"\u001b[39m\u001b[38;5;124mmain\u001b[39m\u001b[38;5;124m\"\u001b[39m)\n",
            "File \u001b[0;32m~/miniconda3/envs/CompBioMed25/lib/python3.8/zipfile.py:1659\u001b[0m, in \u001b[0;36mZipFile.extractall\u001b[0;34m(self, path, members, pwd)\u001b[0m\n\u001b[1;32m   1656\u001b[0m     path \u001b[38;5;241m=\u001b[39m os\u001b[38;5;241m.\u001b[39mfspath(path)\n\u001b[1;32m   1658\u001b[0m \u001b[38;5;28;01mfor\u001b[39;00m zipinfo \u001b[38;5;129;01min\u001b[39;00m members:\n\u001b[0;32m-> 1659\u001b[0m     \u001b[38;5;28;43mself\u001b[39;49m\u001b[38;5;241;43m.\u001b[39;49m\u001b[43m_extract_member\u001b[49m\u001b[43m(\u001b[49m\u001b[43mzipinfo\u001b[49m\u001b[43m,\u001b[49m\u001b[43m \u001b[49m\u001b[43mpath\u001b[49m\u001b[43m,\u001b[49m\u001b[43m \u001b[49m\u001b[43mpwd\u001b[49m\u001b[43m)\u001b[49m\n",
            "File \u001b[0;32m~/miniconda3/envs/CompBioMed25/lib/python3.8/zipfile.py:1713\u001b[0m, in \u001b[0;36mZipFile._extract_member\u001b[0;34m(self, member, targetpath, pwd)\u001b[0m\n\u001b[1;32m   1709\u001b[0m         os\u001b[38;5;241m.\u001b[39mmkdir(targetpath)\n\u001b[1;32m   1710\u001b[0m     \u001b[38;5;28;01mreturn\u001b[39;00m targetpath\n\u001b[1;32m   1712\u001b[0m \u001b[38;5;28;01mwith\u001b[39;00m \u001b[38;5;28mself\u001b[39m\u001b[38;5;241m.\u001b[39mopen(member, pwd\u001b[38;5;241m=\u001b[39mpwd) \u001b[38;5;28;01mas\u001b[39;00m source, \\\n\u001b[0;32m-> 1713\u001b[0m      \u001b[38;5;28;43mopen\u001b[39;49m\u001b[43m(\u001b[49m\u001b[43mtargetpath\u001b[49m\u001b[43m,\u001b[49m\u001b[43m \u001b[49m\u001b[38;5;124;43m\"\u001b[39;49m\u001b[38;5;124;43mwb\u001b[39;49m\u001b[38;5;124;43m\"\u001b[39;49m\u001b[43m)\u001b[49m \u001b[38;5;28;01mas\u001b[39;00m target:\n\u001b[1;32m   1714\u001b[0m     shutil\u001b[38;5;241m.\u001b[39mcopyfileobj(source, target)\n\u001b[1;32m   1716\u001b[0m \u001b[38;5;28;01mreturn\u001b[39;00m targetpath\n",
            "\u001b[0;31mPermissionError\u001b[0m: [Errno 13] Permission denied: '/mnt/c/Users/Marc/Documents/Uni/3r/3r Trimestre/MLNetworks/Labs/ML4Net-2025/Lab1/Lab1/input/input_nodes.csv'"
          ]
        }
      ],
      "source": [
        "# ┌──────────────────────────────────────────────────────────────────┐\n",
        "# │              Notebook Setup Cell for Lab1 (All-in-One)         │\n",
        "# └──────────────────────────────────────────────────────────────────┘\n",
        "\n",
        "import os, sys, urllib.request, zipfile, platform, subprocess\n",
        "\n",
        "# 1) Define your Lab1 directory (relative to notebook)\n",
        "lab_dir = os.path.join(os.getcwd(), \"Lab1\")\n",
        "os.makedirs(lab_dir, exist_ok=True)\n",
        "\n",
        "# 2) Download ZIP if needed\n",
        "zip_url = \"https://github.com/fwilhelmi/fwilhelmi.github.io/raw/refs/heads/master/files/Komondor-lightweight.zip\"\n",
        "zip_fp  = os.path.join(lab_dir, \"Komondor-lightweight.zip\")\n",
        "\n",
        "if not os.path.exists(zip_fp):\n",
        "    print(f\"Downloading Komondor to {zip_fp}…\")\n",
        "    urllib.request.urlretrieve(zip_url, zip_fp)\n",
        "else:\n",
        "    print(\"ZIP already exists; skipping download.\")\n",
        "\n",
        "# 3) Unzip\n",
        "print(f\"Extracting {zip_fp} → {lab_dir} …\")\n",
        "with zipfile.ZipFile(zip_fp, 'r') as z:\n",
        "    z.extractall(lab_dir)\n",
        "\n",
        "# 4) Build\n",
        "main_dir = os.path.join(lab_dir, \"main\")\n",
        "if platform.system() != \"Windows\":\n",
        "    print(\"Setting POSIX permissions and building…\")\n",
        "    subprocess.run([\"chmod\", \"-R\", \"777\", lab_dir], check=True)\n",
        "    subprocess.run([\"bash\", \"-lc\", f\"cd '{main_dir}' && ./build_local\"], check=True)\n",
        "else:\n",
        "    print(\"Windows detected: please open a POSIX shell (WSL/Git-bash) and run:\")\n",
        "    print(f\"    cd \\\"{main_dir}\\\" && ./build_local\")\n",
        "\n",
        "print(\"\\n✅ Setup complete! Your Lab1 directory is:\", lab_dir)\n"
      ]
    },
    {
      "cell_type": "markdown",
      "metadata": {
        "id": "hfR6f_lHpklt"
      },
      "source": [
        "1. Connect your Google Drive"
      ]
    },
    {
      "cell_type": "code",
      "execution_count": null,
      "metadata": {
        "id": "Nl_xYKv2oYRb"
      },
      "outputs": [
        {
          "data": {
            "text/plain": [
              "\"from google.colab import drive\\ndrive.mount('/content/drive')\""
            ]
          },
          "execution_count": 2,
          "metadata": {},
          "output_type": "execute_result"
        }
      ],
      "source": [
        "\"\"\"from google.colab import drive\n",
        "drive.mount('/content/drive')\"\"\""
      ]
    },
    {
      "cell_type": "markdown",
      "metadata": {
        "id": "RQxCHlkswbru"
      },
      "source": [
        "2. Download the Simulator's source code"
      ]
    },
    {
      "cell_type": "code",
      "execution_count": null,
      "metadata": {
        "collapsed": true,
        "id": "o6I9dNnpwbUB"
      },
      "outputs": [
        {
          "data": {
            "text/plain": [
              "'!wget https://github.com/fwilhelmi/fwilhelmi.github.io/raw/refs/heads/master/files/Komondor-lightweight.zip'"
            ]
          },
          "execution_count": 3,
          "metadata": {},
          "output_type": "execute_result"
        }
      ],
      "source": [
        "\"\"\"!wget https://github.com/fwilhelmi/fwilhelmi.github.io/raw/refs/heads/master/files/Komondor-lightweight.zip\"\"\""
      ]
    },
    {
      "cell_type": "markdown",
      "metadata": {
        "id": "-5ZtSumzuZCy"
      },
      "source": [
        "3. Define the main path of the code"
      ]
    },
    {
      "cell_type": "code",
      "execution_count": null,
      "metadata": {
        "id": "VYfdaJF-qr5w"
      },
      "outputs": [
        {
          "data": {
            "text/plain": [
              "'mypath=\"drive/MyDrive/AAX/Lab1\" '"
            ]
          },
          "execution_count": 4,
          "metadata": {},
          "output_type": "execute_result"
        }
      ],
      "source": [
        "\"\"\"mypath=\"drive/MyDrive/AAX/Lab1\" \"\"\""
      ]
    },
    {
      "cell_type": "markdown",
      "metadata": {
        "id": "ISnLhobTwh7l"
      },
      "source": [
        "4. Extract the source code"
      ]
    },
    {
      "cell_type": "code",
      "execution_count": null,
      "metadata": {
        "collapsed": true,
        "id": "rgEgC4fZwiLf"
      },
      "outputs": [
        {
          "data": {
            "text/plain": [
              "'mkdir $mypath; cp Komondor-lightweight.zip $mypath; cd $mypath; unzip Komondor-lightweight.zip'"
            ]
          },
          "execution_count": 5,
          "metadata": {},
          "output_type": "execute_result"
        }
      ],
      "source": [
        "\"\"\"mkdir $mypath; cp Komondor-lightweight.zip $mypath; cd $mypath; unzip Komondor-lightweight.zip\"\"\""
      ]
    },
    {
      "cell_type": "markdown",
      "metadata": {
        "id": "30-DDXzeueND"
      },
      "source": [
        "5. Give permissions to run the code"
      ]
    },
    {
      "cell_type": "code",
      "execution_count": null,
      "metadata": {
        "id": "yCl17szbpsT7"
      },
      "outputs": [
        {
          "data": {
            "text/plain": [
              "'!cd $mypath/; chmod -R 777 *'"
            ]
          },
          "execution_count": 6,
          "metadata": {},
          "output_type": "execute_result"
        }
      ],
      "source": [
        "\"\"\"!cd $mypath/; chmod -R 777 *\"\"\""
      ]
    },
    {
      "cell_type": "markdown",
      "metadata": {
        "id": "k9S0SI-Aupbc"
      },
      "source": [
        "6. Compile the code"
      ]
    },
    {
      "cell_type": "code",
      "execution_count": null,
      "metadata": {
        "id": "3fRQAmsEqXV4"
      },
      "outputs": [
        {
          "data": {
            "text/plain": [
              "'!cd $mypath/main; ./build_local'"
            ]
          },
          "execution_count": 7,
          "metadata": {},
          "output_type": "execute_result"
        }
      ],
      "source": [
        "\"\"\"!cd $mypath/main; ./build_local\"\"\""
      ]
    },
    {
      "cell_type": "markdown",
      "metadata": {
        "id": "97kVtaWOutFD"
      },
      "source": [
        "## How to run simulations\n",
        "\n",
        "Komondor can be run by calling its compiled main file (\"komondor_main\") and indicating the value for different flags.\n",
        "\n",
        "Next, you will see two different ways of running Komondor, depending on whether MAB Agents are instantiated or not.\n",
        "\n",
        "In any case, **it is important to know** that:\n",
        "\n",
        "\n",
        "*   Any input files used by the simulator will be located in the `/input` folder.\n",
        "*   Any output files generated by the simulator will be located in the `/output` folder.\n",
        "\n",
        "Apart from that, Komondor generates a set of console logs that give meaningful information.\n"
      ]
    },
    {
      "cell_type": "markdown",
      "metadata": {},
      "source": []
    },
    {
      "cell_type": "markdown",
      "metadata": {
        "id": "4fG8P-dx5AFw"
      },
      "source": [
        "### 1) Simulations without agents\n",
        "\n",
        "To simulate specific scenarios (described using \"input node\" files) **without agents**, one must indicate the following flags:"
      ]
    },
    {
      "cell_type": "code",
      "execution_count": null,
      "metadata": {
        "id": "h8mGwDsyri8u"
      },
      "outputs": [],
      "source": [
        "\"\"\"# DEFINE SIMULATION ARGUMENTS (NO AGENTS)\n",
        "\n",
        "# Path of the file that describes the Wi-Fi nodes\n",
        "INPUT_FILE_NODES='../input/input_nodes.csv'\n",
        "\n",
        "# Path of the file where output logs are going to be written\n",
        "OUTPUT_FILE_LOGS='../output/logs_test.txt'\n",
        "\n",
        "# Path of the file where output logs are going to be written\n",
        "SIMULATION_CODE='AAX-LAB1'\n",
        "\n",
        "# Flag to indicate whether \"NODE LOGS\" will be written into output files (1) or not (0)\n",
        "FLAG_SAVE_NODE_LOGS=1\n",
        "\n",
        "# Flag to indicate whether \"SYSTEM LOGS\" will be printed in the console (1) or not (0)\n",
        "FLAG_PRINT_SYSTEM_LOGS=1\n",
        "\n",
        "# Flag to indicate whether \"NODE LOGS\" will be printed in the console (1) or not (0)\n",
        "FLAG_PRINT_NODE_LOGS=1\n",
        "\n",
        "# Total simulated time (in seconds)\n",
        "SIM_TIME=100\n",
        "\n",
        "# Value of the random seed that initializes the random number generator\n",
        "SEED=7\"\"\""
      ]
    },
    {
      "cell_type": "code",
      "execution_count": null,
      "metadata": {
        "collapsed": true,
        "id": "Ug3Vnyk_qBe5"
      },
      "outputs": [
        {
          "data": {
            "text/plain": [
              "'!cd $mypath/main; ./komondor_main $INPUT_FILE_NODES $OUTPUT_FILE_LOGS $SIMULATION_CODE $FLAG_SAVE_NODE_LOGS $FLAG_PRINT_SYSTEM_LOGS $FLAG_PRINT_NODE_LOGS $SIM_TIME $SEED'"
            ]
          },
          "execution_count": 9,
          "metadata": {},
          "output_type": "execute_result"
        }
      ],
      "source": [
        "# RUN THE SIMULATION\n",
        "\n",
        "\"\"\"!cd $mypath/main; ./komondor_main $INPUT_FILE_NODES $OUTPUT_FILE_LOGS $SIMULATION_CODE $FLAG_SAVE_NODE_LOGS $FLAG_PRINT_SYSTEM_LOGS $FLAG_PRINT_NODE_LOGS $SIM_TIME $SEED\"\"\""
      ]
    },
    {
      "cell_type": "code",
      "execution_count": 5,
      "metadata": {},
      "outputs": [
        {
          "name": "stdout",
          "output_type": "stream",
          "text": [
            "Running simulation:\n",
            " > /mnt/c/Users/Marc/Documents/Uni/3r/3r Trimestre/MLNetworks/Labs/ML4Net-2025/Lab1/Lab1/main/komondor_main /mnt/c/Users/Marc/Documents/Uni/3r/3r Trimestre/MLNetworks/Labs/ML4Net-2025/Lab1/Lab1/input/input_nodes.csv /mnt/c/Users/Marc/Documents/Uni/3r/3r Trimestre/MLNetworks/Labs/ML4Net-2025/Lab1/Lab1/output/logs_test.txt AAX-LAB1 1 1 1 100 7 \n",
            "\n",
            "\n",
            "*************************************************************************************\n",
            " KOMONDOR Wireless Network Simulator\n",
            " Copyright (C) 2017-2022, and GNU GPL'd, by Sergio Barrachina & Francesc Wilhelmi\n",
            "  - GitHub repository: https://github.com/wn-upf/Komondor\n",
            "*************************************************************************************\n",
            "\n",
            "\n",
            " FULL configuration entered per console (AGENTS DISABLED).\n",
            " Komondor input configuration:\n",
            "  - nodes_input_filename: /mnt/c/Users/Marc/Documents/Uni/3r/3r Trimestre/MLNetworks/Labs/ML4Net-2025/Lab1/Lab1/input/input_nodes.csv\n",
            "  - agents_enabled: 0\n",
            "  - script_output_filename: /mnt/c/Users/Marc/Documents/Uni/3r/3r Trimestre/MLNetworks/Labs/ML4Net-2025/Lab1/Lab1/output/logs_test.txt\n",
            "  - simulation_code: AAX-LAB1\n",
            "  - save_node_logs: 1\n",
            "  - print_system_logs: 1\n",
            "  - print_node_logs: 1\n",
            "  - sim_time: 100.000000 s\n",
            "  - seed: 7\n",
            "\n",
            " Creating output files\n",
            "  - Simulation output file 'output/logs_console_AAX-LAB1.txt' created!\n",
            "\n",
            " Reading system configuration file '../config_models'...\n",
            "  - System environment properly set!\n",
            "\n",
            " Generating nodes DETERMINISTICALLY through NODES input file...\n",
            "  - Reading nodes input file '/mnt/c/Users/Marc/Documents/Uni/3r/3r Trimestre/MLNetworks/Labs/ML4Net-2025/Lab1/Lab1/input/input_nodes.csv'...\n",
            "    · Num. of WLANs detected: 2\n",
            "    · Generating nodes...\n",
            "    · Nodes generated!\n",
            "  - System configuration: \n",
            "    · total_nodes_number = 4\n",
            "    · pdf_backoff = 0\n",
            "    · pdf_tx_time = 0\n",
            "    · path_loss_model = 4\n",
            "    · adjacent_channel_model = 0\n",
            "    · collisions_model = 0\n",
            "\n",
            "  - Wlans generated!\n",
            "    · WLAN A:\n",
            "       + wlan_id: 0\n",
            "       + num_stas: 1\n",
            "       + ap_id: 0\n",
            "       + list of STAs IDs: 1  \n",
            "    · WLAN B:\n",
            "       + wlan_id: 1\n",
            "       + num_stas: 1\n",
            "       + ap_id: 2\n",
            "       + list of STAs IDs: 3  \n",
            "\n",
            "  - Nodes generated!\n",
            "\n",
            "    · Node AP_A info:\n",
            "       + node_id = 0\n",
            "       + node_type = 0\n",
            "       + position = (0.00, 0.00, 0.00)\n",
            "       + current_primary_channel = 0 (range = [0 - 0])\n",
            "       + current_dcb_policy = 4\n",
            "       + tx_power_default = 31622776601.683792 pW (15.000000 dBm)\n",
            "       + sensitivity_default = 6.309573 pW (-82.000000 dBm)\n",
            "       + spatial_reuse_enabled = 0\n",
            "       + wlan:\n",
            "          * wlan code = A\n",
            "          * wlan id = 0\n",
            "          * wlan AP id = 0\n",
            "          * Identifiers of STAs in WLAN (total number of STAs = 1): 1  \n",
            "       + backoff_type = 0\n",
            "       + cw_adaptation = 0\n",
            "       + [cw_min_default - cw_max_default] = [0-15]\n",
            "       + cw_stage_max = 5\n",
            "       + central_frequency = 5000000000.000000 Hz (5.000000 GHz)\n",
            "       + capture_effect = 10.000000 [linear] (10.000000 dB)\n",
            "       + Constant PER = 0.000000\n",
            "\n",
            "    · Node STA_A1 info:\n",
            "       + node_id = 1\n",
            "       + node_type = 1\n",
            "       + position = (0.00, 4.00, 0.00)\n",
            "       + current_primary_channel = 0 (range = [0 - 0])\n",
            "       + current_dcb_policy = 4\n",
            "       + tx_power_default = 31622776601.683792 pW (15.000000 dBm)\n",
            "       + sensitivity_default = 6.309573 pW (-82.000000 dBm)\n",
            "       + spatial_reuse_enabled = 0\n",
            "       + backoff_type = 0\n",
            "       + cw_adaptation = 0\n",
            "       + [cw_min_default - cw_max_default] = [0-15]\n",
            "       + cw_stage_max = 5\n",
            "       + central_frequency = 5000000000.000000 Hz (5.000000 GHz)\n",
            "       + capture_effect = 10.000000 [linear] (10.000000 dB)\n",
            "       + Constant PER = 0.000000\n",
            "\n",
            "    · Node AP_B info:\n",
            "       + node_id = 2\n",
            "       + node_type = 0\n",
            "       + position = (5.00, 0.00, 0.00)\n",
            "       + current_primary_channel = 0 (range = [0 - 0])\n",
            "       + current_dcb_policy = 4\n",
            "       + tx_power_default = 31622776601.683792 pW (15.000000 dBm)\n",
            "       + sensitivity_default = 6.309573 pW (-82.000000 dBm)\n",
            "       + spatial_reuse_enabled = 0\n",
            "       + wlan:\n",
            "          * wlan code = B\n",
            "          * wlan id = 1\n",
            "          * wlan AP id = 2\n",
            "          * Identifiers of STAs in WLAN (total number of STAs = 1): 3  \n",
            "       + backoff_type = 0\n",
            "       + cw_adaptation = 0\n",
            "       + [cw_min_default - cw_max_default] = [0-15]\n",
            "       + cw_stage_max = 5\n",
            "       + central_frequency = 5000000000.000000 Hz (5.000000 GHz)\n",
            "       + capture_effect = 10.000000 [linear] (10.000000 dB)\n",
            "       + Constant PER = 0.000000\n",
            "\n",
            "    · Node STA_B1 info:\n",
            "       + "
          ]
        },
        {
          "ename": "KeyboardInterrupt",
          "evalue": "",
          "output_type": "error",
          "traceback": [
            "\u001b[0;31m---------------------------------------------------------------------------\u001b[0m",
            "\u001b[0;31mKeyboardInterrupt\u001b[0m                         Traceback (most recent call last)",
            "Cell \u001b[0;32mIn[5], line 34\u001b[0m\n\u001b[1;32m     32\u001b[0m \u001b[38;5;28mprint\u001b[39m(\u001b[38;5;124m\"\u001b[39m\u001b[38;5;124mRunning simulation:\u001b[39m\u001b[38;5;130;01m\\n\u001b[39;00m\u001b[38;5;124m >\u001b[39m\u001b[38;5;124m\"\u001b[39m, \u001b[38;5;124m\"\u001b[39m\u001b[38;5;124m \u001b[39m\u001b[38;5;124m\"\u001b[39m\u001b[38;5;241m.\u001b[39mjoin(cmd), \u001b[38;5;124m\"\u001b[39m\u001b[38;5;130;01m\\n\u001b[39;00m\u001b[38;5;124m\"\u001b[39m)\n\u001b[1;32m     33\u001b[0m \u001b[38;5;66;03m# 4) Launch it\u001b[39;00m\n\u001b[0;32m---> 34\u001b[0m res \u001b[38;5;241m=\u001b[39m \u001b[43msubprocess\u001b[49m\u001b[38;5;241;43m.\u001b[39;49m\u001b[43mrun\u001b[49m\u001b[43m(\u001b[49m\u001b[43mcmd\u001b[49m\u001b[43m,\u001b[49m\u001b[43m \u001b[49m\u001b[43mcwd\u001b[49m\u001b[38;5;241;43m=\u001b[39;49m\u001b[43mmain_dir\u001b[49m\u001b[43m)\u001b[49m\n\u001b[1;32m     36\u001b[0m \u001b[38;5;28;01mif\u001b[39;00m res\u001b[38;5;241m.\u001b[39mreturncode \u001b[38;5;241m==\u001b[39m \u001b[38;5;241m0\u001b[39m:\n\u001b[1;32m     37\u001b[0m     \u001b[38;5;28mprint\u001b[39m(\u001b[38;5;124m\"\u001b[39m\u001b[38;5;124m✅ Done! See logs at\u001b[39m\u001b[38;5;124m\"\u001b[39m, output_txt)\n",
            "File \u001b[0;32m~/miniconda3/envs/CompBioMed25/lib/python3.8/subprocess.py:495\u001b[0m, in \u001b[0;36mrun\u001b[0;34m(input, capture_output, timeout, check, *popenargs, **kwargs)\u001b[0m\n\u001b[1;32m    493\u001b[0m \u001b[38;5;28;01mwith\u001b[39;00m Popen(\u001b[38;5;241m*\u001b[39mpopenargs, \u001b[38;5;241m*\u001b[39m\u001b[38;5;241m*\u001b[39mkwargs) \u001b[38;5;28;01mas\u001b[39;00m process:\n\u001b[1;32m    494\u001b[0m     \u001b[38;5;28;01mtry\u001b[39;00m:\n\u001b[0;32m--> 495\u001b[0m         stdout, stderr \u001b[38;5;241m=\u001b[39m \u001b[43mprocess\u001b[49m\u001b[38;5;241;43m.\u001b[39;49m\u001b[43mcommunicate\u001b[49m\u001b[43m(\u001b[49m\u001b[38;5;28;43minput\u001b[39;49m\u001b[43m,\u001b[49m\u001b[43m \u001b[49m\u001b[43mtimeout\u001b[49m\u001b[38;5;241;43m=\u001b[39;49m\u001b[43mtimeout\u001b[49m\u001b[43m)\u001b[49m\n\u001b[1;32m    496\u001b[0m     \u001b[38;5;28;01mexcept\u001b[39;00m TimeoutExpired \u001b[38;5;28;01mas\u001b[39;00m exc:\n\u001b[1;32m    497\u001b[0m         process\u001b[38;5;241m.\u001b[39mkill()\n",
            "File \u001b[0;32m~/miniconda3/envs/CompBioMed25/lib/python3.8/subprocess.py:1020\u001b[0m, in \u001b[0;36mPopen.communicate\u001b[0;34m(self, input, timeout)\u001b[0m\n\u001b[1;32m   1018\u001b[0m         stderr \u001b[38;5;241m=\u001b[39m \u001b[38;5;28mself\u001b[39m\u001b[38;5;241m.\u001b[39mstderr\u001b[38;5;241m.\u001b[39mread()\n\u001b[1;32m   1019\u001b[0m         \u001b[38;5;28mself\u001b[39m\u001b[38;5;241m.\u001b[39mstderr\u001b[38;5;241m.\u001b[39mclose()\n\u001b[0;32m-> 1020\u001b[0m     \u001b[38;5;28;43mself\u001b[39;49m\u001b[38;5;241;43m.\u001b[39;49m\u001b[43mwait\u001b[49m\u001b[43m(\u001b[49m\u001b[43m)\u001b[49m\n\u001b[1;32m   1021\u001b[0m \u001b[38;5;28;01melse\u001b[39;00m:\n\u001b[1;32m   1022\u001b[0m     \u001b[38;5;28;01mif\u001b[39;00m timeout \u001b[38;5;129;01mis\u001b[39;00m \u001b[38;5;129;01mnot\u001b[39;00m \u001b[38;5;28;01mNone\u001b[39;00m:\n",
            "File \u001b[0;32m~/miniconda3/envs/CompBioMed25/lib/python3.8/subprocess.py:1083\u001b[0m, in \u001b[0;36mPopen.wait\u001b[0;34m(self, timeout)\u001b[0m\n\u001b[1;32m   1081\u001b[0m     endtime \u001b[38;5;241m=\u001b[39m _time() \u001b[38;5;241m+\u001b[39m timeout\n\u001b[1;32m   1082\u001b[0m \u001b[38;5;28;01mtry\u001b[39;00m:\n\u001b[0;32m-> 1083\u001b[0m     \u001b[38;5;28;01mreturn\u001b[39;00m \u001b[38;5;28;43mself\u001b[39;49m\u001b[38;5;241;43m.\u001b[39;49m\u001b[43m_wait\u001b[49m\u001b[43m(\u001b[49m\u001b[43mtimeout\u001b[49m\u001b[38;5;241;43m=\u001b[39;49m\u001b[43mtimeout\u001b[49m\u001b[43m)\u001b[49m\n\u001b[1;32m   1084\u001b[0m \u001b[38;5;28;01mexcept\u001b[39;00m \u001b[38;5;167;01mKeyboardInterrupt\u001b[39;00m:\n\u001b[1;32m   1085\u001b[0m     \u001b[38;5;66;03m# https://bugs.python.org/issue25942\u001b[39;00m\n\u001b[1;32m   1086\u001b[0m     \u001b[38;5;66;03m# The first keyboard interrupt waits briefly for the child to\u001b[39;00m\n\u001b[1;32m   1087\u001b[0m     \u001b[38;5;66;03m# exit under the common assumption that it also received the ^C\u001b[39;00m\n\u001b[1;32m   1088\u001b[0m     \u001b[38;5;66;03m# generated SIGINT and will exit rapidly.\u001b[39;00m\n\u001b[1;32m   1089\u001b[0m     \u001b[38;5;28;01mif\u001b[39;00m timeout \u001b[38;5;129;01mis\u001b[39;00m \u001b[38;5;129;01mnot\u001b[39;00m \u001b[38;5;28;01mNone\u001b[39;00m:\n",
            "File \u001b[0;32m~/miniconda3/envs/CompBioMed25/lib/python3.8/subprocess.py:1822\u001b[0m, in \u001b[0;36mPopen._wait\u001b[0;34m(self, timeout)\u001b[0m\n\u001b[1;32m   1820\u001b[0m \u001b[38;5;28;01mif\u001b[39;00m \u001b[38;5;28mself\u001b[39m\u001b[38;5;241m.\u001b[39mreturncode \u001b[38;5;129;01mis\u001b[39;00m \u001b[38;5;129;01mnot\u001b[39;00m \u001b[38;5;28;01mNone\u001b[39;00m:\n\u001b[1;32m   1821\u001b[0m     \u001b[38;5;28;01mbreak\u001b[39;00m  \u001b[38;5;66;03m# Another thread waited.\u001b[39;00m\n\u001b[0;32m-> 1822\u001b[0m (pid, sts) \u001b[38;5;241m=\u001b[39m \u001b[38;5;28;43mself\u001b[39;49m\u001b[38;5;241;43m.\u001b[39;49m\u001b[43m_try_wait\u001b[49m\u001b[43m(\u001b[49m\u001b[38;5;241;43m0\u001b[39;49m\u001b[43m)\u001b[49m\n\u001b[1;32m   1823\u001b[0m \u001b[38;5;66;03m# Check the pid and loop as waitpid has been known to\u001b[39;00m\n\u001b[1;32m   1824\u001b[0m \u001b[38;5;66;03m# return 0 even without WNOHANG in odd situations.\u001b[39;00m\n\u001b[1;32m   1825\u001b[0m \u001b[38;5;66;03m# http://bugs.python.org/issue14396.\u001b[39;00m\n\u001b[1;32m   1826\u001b[0m \u001b[38;5;28;01mif\u001b[39;00m pid \u001b[38;5;241m==\u001b[39m \u001b[38;5;28mself\u001b[39m\u001b[38;5;241m.\u001b[39mpid:\n",
            "File \u001b[0;32m~/miniconda3/envs/CompBioMed25/lib/python3.8/subprocess.py:1780\u001b[0m, in \u001b[0;36mPopen._try_wait\u001b[0;34m(self, wait_flags)\u001b[0m\n\u001b[1;32m   1778\u001b[0m \u001b[38;5;250m\u001b[39m\u001b[38;5;124;03m\"\"\"All callers to this function MUST hold self._waitpid_lock.\"\"\"\u001b[39;00m\n\u001b[1;32m   1779\u001b[0m \u001b[38;5;28;01mtry\u001b[39;00m:\n\u001b[0;32m-> 1780\u001b[0m     (pid, sts) \u001b[38;5;241m=\u001b[39m \u001b[43mos\u001b[49m\u001b[38;5;241;43m.\u001b[39;49m\u001b[43mwaitpid\u001b[49m\u001b[43m(\u001b[49m\u001b[38;5;28;43mself\u001b[39;49m\u001b[38;5;241;43m.\u001b[39;49m\u001b[43mpid\u001b[49m\u001b[43m,\u001b[49m\u001b[43m \u001b[49m\u001b[43mwait_flags\u001b[49m\u001b[43m)\u001b[49m\n\u001b[1;32m   1781\u001b[0m \u001b[38;5;28;01mexcept\u001b[39;00m \u001b[38;5;167;01mChildProcessError\u001b[39;00m:\n\u001b[1;32m   1782\u001b[0m     \u001b[38;5;66;03m# This happens if SIGCLD is set to be ignored or waiting\u001b[39;00m\n\u001b[1;32m   1783\u001b[0m     \u001b[38;5;66;03m# for child processes has otherwise been disabled for our\u001b[39;00m\n\u001b[1;32m   1784\u001b[0m     \u001b[38;5;66;03m# process.  This child is dead, we can't get the status.\u001b[39;00m\n\u001b[1;32m   1785\u001b[0m     pid \u001b[38;5;241m=\u001b[39m \u001b[38;5;28mself\u001b[39m\u001b[38;5;241m.\u001b[39mpid\n",
            "\u001b[0;31mKeyboardInterrupt\u001b[0m: "
          ]
        }
      ],
      "source": [
        "# ┌───────────────────────────────────────────────────────────────┐\n",
        "# │        Komondor Simulation (Python-cell version)            │\n",
        "# └───────────────────────────────────────────────────────────────┘\n",
        "\n",
        "import os\n",
        "import subprocess\n",
        "from pathlib import Path\n",
        "\n",
        "# 1) Define paths\n",
        "repo_root   = Path.cwd()                 # wherever your notebook lives\n",
        "lab1        = repo_root / \"Lab1\"\n",
        "main_dir    = lab1 / \"main\"\n",
        "input_csv   = lab1 / \"input\" / \"input_nodes.csv\"\n",
        "output_txt  = lab1 / \"output\" / \"logs_test.txt\"\n",
        "\n",
        "# 2) Make sure output folder exists\n",
        "output_txt.parent.mkdir(parents=True, exist_ok=True)\n",
        "\n",
        "# 3) Build up the command\n",
        "cmd = [\n",
        "    str(main_dir / \"komondor_main\"),\n",
        "    str(input_csv),\n",
        "    str(output_txt),\n",
        "    \"AAX-LAB1\",         # SIMULATION_CODE\n",
        "    \"1\",                # FLAG_SAVE_NODE_LOGS\n",
        "    \"1\",                # FLAG_PRINT_SYSTEM_LOGS\n",
        "    \"1\",                # FLAG_PRINT_NODE_LOGS\n",
        "    \"100\",              # SIM_TIME\n",
        "    \"7\",                # SEED\n",
        "]\n",
        "\n",
        "print(\"Running simulation:\\n >\", \" \".join(cmd), \"\\n\")\n",
        "# 4) Launch it\n",
        "res = subprocess.run(cmd, cwd=main_dir)\n",
        "\n",
        "if res.returncode == 0:\n",
        "    print(\"✅ Done! See logs at\", output_txt)\n",
        "else:\n",
        "    print(\"❌ Simulation exited with code\", res.returncode)\n"
      ]
    },
    {
      "cell_type": "markdown",
      "metadata": {
        "id": "Ur2NxoeE5Ebn"
      },
      "source": [
        "### 2) Simulations with agents (used for keeping track of temporary performance)\n",
        "\n",
        "To simulate specific scenarios (described using \"input node\" files) **with agents**, one must indicate the following flags:"
      ]
    },
    {
      "cell_type": "code",
      "execution_count": null,
      "metadata": {
        "id": "GJk7fPVV5Eun"
      },
      "outputs": [],
      "source": [
        "\"\"\"# DEFINE SIMULATION ARGUMENTS (WITH AGENTS FOR MONITORING PERFORMANCE)\n",
        "\n",
        "# Path of the file that describes the Wi-Fi nodes\n",
        "INPUT_FILE_NODES='../input/input_nodes.csv'\n",
        "\n",
        "# Path of the file that describes the agents associated with nodes\n",
        "INPUT_FILE_AGENTS='../input/agents_monitoring.csv'\n",
        "\n",
        "# Path of the file where output logs are going to be written\n",
        "OUTPUT_FILE_LOGS='../output/logs_test_agents.txt'\n",
        "\n",
        "# Path of the file where output logs are going to be written\n",
        "SIMULATION_CODE='AAX-LAB1-AGENTS'\n",
        "\n",
        "# Flag to indicate whether \"NODE LOGS\" will be written into output files (1) or not (0)\n",
        "FLAG_SAVE_NODE_LOGS=0\n",
        "\n",
        "# Flag to indicate whether \"AGENT LOGS\" will be written into output files (1) or not (0)\n",
        "FLAG_SAVE_AGENT_LOGS=0\n",
        "\n",
        "# Flag to indicate whether \"SYSTEM LOGS\" will be printed in the console (1) or not (0)\n",
        "FLAG_PRINT_SYSTEM_LOGS=1\n",
        "\n",
        "# Flag to indicate whether \"NODE LOGS\" will be printed in the console (1) or not (0)\n",
        "FLAG_PRINT_NODE_LOGS=1\n",
        "\n",
        "# Flag to indicate whether \"AGENT LOGS\" will be printed in the console (1) or not (0)\n",
        "FLAG_PRINT_AGENT_LOGS=1\n",
        "\n",
        "# Total simulated time (in seconds)\n",
        "SIM_TIME=100\n",
        "\n",
        "# Value of the random seed that initializes the random number generator\n",
        "SEED=7\"\"\""
      ]
    },
    {
      "cell_type": "markdown",
      "metadata": {
        "id": "fHH1CUelPB4-"
      },
      "source": [
        "Run the simulation"
      ]
    },
    {
      "cell_type": "code",
      "execution_count": null,
      "metadata": {
        "collapsed": true,
        "id": "3qYLIgN95djf"
      },
      "outputs": [
        {
          "name": "stdout",
          "output_type": "stream",
          "text": [
            "/bin/bash: line 1: cd: /main: No such file or directory\n",
            "/bin/bash: line 1: ./komondor_main: No such file or directory\n"
          ]
        }
      ],
      "source": [
        "\"\"\"!cd $mypath/main; ./komondor_main $INPUT_FILE_NODES $INPUT_FILE_AGENTS $OUTPUT_FILE_LOGS $SIMULATION_CODE $FLAG_SAVE_NODE_LOGS $FLAG_SAVE_AGENT_LOGS $FLAG_PRINT_SYSTEM_LOGS $FLAG_PRINT_NODE_LOGS $FLAG_PRINT_AGENT_LOGS $SIM_TIME $SEED\"\"\""
      ]
    },
    {
      "cell_type": "code",
      "execution_count": null,
      "metadata": {},
      "outputs": [
        {
          "name": "stdout",
          "output_type": "stream",
          "text": [
            "Running natively:\n",
            "  /mnt/c/Users/Marc/Documents/Uni/3r/3r Trimestre/MLNetworks/Labs/ML4Net-2025/Lab1/Lab1/main/komondor_main /mnt/c/Users/Marc/Documents/Uni/3r/3r Trimestre/MLNetworks/Labs/ML4Net-2025/Lab1/Lab1/input/input_nodes.csv /mnt/c/Users/Marc/Documents/Uni/3r/3r Trimestre/MLNetworks/Labs/ML4Net-2025/Lab1/Lab1/input/agents_monitoring.csv /mnt/c/Users/Marc/Documents/Uni/3r/3r Trimestre/MLNetworks/Labs/ML4Net-2025/Lab1/Lab1/output/logs_test_agents.txt AAX-LAB1-AGENTS 0 0 1 1 1 100 7 \n",
            "\n",
            "\n",
            "*************************************************************************************\n",
            " KOMONDOR Wireless Network Simulator\n",
            " Copyright (C) 2017-2022, and GNU GPL'd, by Sergio Barrachina & Francesc Wilhelmi\n",
            "  - GitHub repository: https://github.com/wn-upf/Komondor\n",
            "*************************************************************************************\n",
            "\n",
            "\n",
            " FULL configuration entered per console (AGENTS ENABLED).\n",
            " Komondor input configuration:\n",
            "  - nodes_input_filename: /mnt/c/Users/Marc/Documents/Uni/3r/3r Trimestre/MLNetworks/Labs/ML4Net-2025/Lab1/Lab1/input/input_nodes.csv\n",
            "  - agents_enabled: 1\n",
            "  - agents_input_filename: /mnt/c/Users/Marc/Documents/Uni/3r/3r Trimestre/MLNetworks/Labs/ML4Net-2025/Lab1/Lab1/input/agents_monitoring.csv\n",
            "  - script_output_filename: /mnt/c/Users/Marc/Documents/Uni/3r/3r Trimestre/MLNetworks/Labs/ML4Net-2025/Lab1/Lab1/output/logs_test_agents.txt\n",
            "  - simulation_code: AAX-LAB1-AGENTS\n",
            "  - save_node_logs: 0\n",
            "  - print_system_logs: 1\n",
            "  - print_node_logs: 1\n",
            "  - sim_time: 100.000000 s\n",
            "  - seed: 7\n",
            "\n",
            " Creating output files\n",
            "  - Simulation output file 'output/logs_console_AAX-LAB1-AGENTS.txt' created!\n",
            "\n",
            " Reading system configuration file '../config_models'...\n",
            "  - System environment properly set!\n",
            "\n",
            " Generating nodes DETERMINISTICALLY through NODES input file...\n",
            "  - Reading nodes input file '/mnt/c/Users/Marc/Documents/Uni/3r/3r Trimestre/MLNetworks/Labs/ML4Net-2025/Lab1/Lab1/input/input_nodes.csv'...\n",
            "    · Num. of WLANs detected: 2\n",
            "    · Generating nodes...\n",
            "    · Nodes generated!\n",
            " Generating agents...\n",
            "  - Reading agents input file '/mnt/c/Users/Marc/Documents/Uni/3r/3r Trimestre/MLNetworks/Labs/ML4Net-2025/Lab1/Lab1/input/agents_monitoring.csv'...\n",
            "    · Num. of agents (WLANs): 2/2\n",
            "       + Setting action space...\n",
            "       + Action space set!\n",
            "       + Setting agents parameters...\n",
            "       + Agents parameters set!\n",
            "  - System configuration: \n",
            "    · total_nodes_number = 4\n",
            "    · pdf_backoff = 0\n",
            "    · pdf_tx_time = 0\n",
            "    · path_loss_model = 4\n",
            "    · adjacent_channel_model = 0\n",
            "    · collisions_model = 0\n",
            "\n",
            "  - Wlans generated!\n",
            "    · WLAN A:\n",
            "       + wlan_id: 0\n",
            "       + num_stas: 1\n",
            "       + ap_id: 0\n",
            "       + list of STAs IDs: 1  \n",
            "    · WLAN B:\n",
            "       + wlan_id: 1\n",
            "       + num_stas: 1\n",
            "       + ap_id: 2\n",
            "       + list of STAs IDs: 3  \n",
            "\n",
            "  - Nodes generated!\n",
            "\n",
            "    · Node AP_A info:\n",
            "       + node_id = 0\n",
            "       + node_type = 0\n",
            "       + position = (0.00, 0.00, 0.00)\n",
            "       + current_primary_channel = 0 (range = [0 - 0])\n",
            "       + current_dcb_policy = 4\n",
            "       + tx_power_default = 31622776601.683792 pW (15.000000 dBm)\n",
            "       + sensitivity_default = 6.309573 pW (-82.000000 dBm)\n",
            "       + spatial_reuse_enabled = 0\n",
            "       + wlan:\n",
            "          * wlan code = A\n",
            "          * wlan id = 0\n",
            "          * wlan AP id = 0\n",
            "          * Identifiers of STAs in WLAN (total number of STAs = 1): 1  \n",
            "       + backoff_type = 0\n",
            "       + cw_adaptation = 0\n",
            "       + [cw_min_default - cw_max_default] = [0-15]\n",
            "       + cw_stage_max = 5\n",
            "       + central_frequency = 5000000000.000000 Hz (5.000000 GHz)\n",
            "       + capture_effect = 10.000000 [linear] (10.000000 dB)\n",
            "       + Constant PER = 0.000000\n",
            "\n",
            "    · Node STA_A1 info:\n",
            "       + node_id = 1\n",
            "       + node_type = 1\n",
            "       + position = (0.00, 4.00, 0.00)\n",
            "       + current_primary_channel = 0 (range = [0 - 0])\n",
            "       + current_dcb_policy = 4\n",
            "       + tx_power_default = 31622776601.683792 pW (15.000000 dBm)\n",
            "       + sensitivity_default = 6.309573 pW (-82.000000 dBm)\n",
            "       + spatial_reuse_enabled = 0\n",
            "       + backoff_type = 0\n",
            "       + cw_adaptation = 0\n",
            "       + [cw_min_default - cw_max_default] = [0-15]\n",
            "       + cw_stage_max = 5\n",
            "       + central_frequency = 5000000000.000000 Hz (5.000000 GHz)\n",
            "       + capture_effect = 10.000000 [linear] (10.000000 dB)\n",
            "       + Constant PER = 0.000000\n",
            "\n",
            "    · Node AP_B info:\n",
            "       + node_id = 2\n",
            "       + node_type = 0\n",
            "       + position = (5.00, 0.00, 0.00)\n",
            "       + current_primary_channel = 0 (range = [0 - 0])\n",
            "       + current_dcb_policy = 4\n",
            "       + tx_power_default = 31622776601.683792 pW (15.000000 dBm)\n",
            "       + sensitivity_default = 6.309573 pW (-82.000000 dBm)\n",
            "       + spatial_reuse_enabled = 0\n",
            "       + wlan:\n",
            "          * wlan code = B\n",
            "          * wlan id = 1\n",
            "          * wlan AP id = 2\n",
            "          * Identifiers of STAs in WLAN (total number of STAs = 1): 3  \n",
            "       + backoff_type = 0\n",
            "       + cw_adaptation = 0\n",
            "       + [cw_min_default - cw_max_default] = [0-15]\n",
            "       + cw_stage_max = 5\n",
            "       + central_frequency = 5000000000.000000 Hz (5.000000 GHz)\n",
            "       + capture_effect = 10.000000 [linear] (10.000000 dB)\n",
            "       + Constant PER = 0.000000\n",
            "\n",
            "    · Node STA_B1 info:\n",
            "       + node_id = 3\n",
            "       + node_type = 1\n",
            "       + position = (5.00, 4.00, 0.00)\n",
            "       + current_primary_channel = 0 (range = [0 - 0])\n",
            "       + current_dcb_policy = 4\n",
            "       + tx_power_default = 31622776601.683792 pW (15.000000 dBm)\n",
            "       + sensitivity_default = 6.309573 pW (-82.000000 dBm)\n",
            "       + spatial_reuse_enabled = 0\n",
            "       + backoff_type = 0\n",
            "       + cw_adaptation = 0\n",
            "       + [cw_min_default - cw_max_default] = [0-15]\n",
            "       + cw_stage_max = 5\n",
            "       + central_frequency = 5000000000.000000 Hz (5.000000 GHz)\n",
            "       + capture_effect = 10.000000 [linear] (10.000000 dB)\n",
            "       + Constant PER = 0.000000\n",
            "\n",
            "  - Agents generated!\n",
            "\n",
            "    · Agent 0 info:\n",
            "       + wlan_code = A\n",
            "       + num_stas = 1\n",
            "       + agent_centralized = 0\n",
            "       + time_between_requests = 0.500000\n",
            "       + type_of_reward = 2\n",
            "       + initial_reward = 0.000000\n",
            "       + list_of_channels: 0  \n",
            "       + list_of_pd_values: 6.309573 pW (-82.000000 dBm)  \n",
            "       + list_of_tx_power_values: 31622776601.683792 pW (15.000000 dBm)  \n",
            "       + list_of_max_bandwidth: 1  \n",
            "       + learning_mechanism: 0\n",
            "       + action_selection_strategy: 0\n",
            "       + save_agent_logs: 0\n",
            "       + print_agent_logs: 1\n",
            "\n",
            "    · Agent 1 info:\n",
            "       + wlan_code = B\n",
            "       + num_stas = 1\n",
            "       + agent_centralized = 0\n",
            "       + time_between_requests = 0.500000\n",
            "       + type_of_reward = 2\n",
            "       + initial_reward = 0.000000\n",
            "       + list_of_channels: 0  \n",
            "       + list_of_pd_values: 6.309573 pW (-82.000000 dBm)  \n",
            "       + list_of_tx_power_values: 31622776601.683792 pW (15.000000 dBm)  \n",
            "       + list_of_max_bandwidth: 1  \n",
            "       + learning_mechanism: 0\n",
            "       + action_selection_strategy: 0\n",
            "       + save_agent_logs: 0\n",
            "       + print_agent_logs: 1\n",
            "\n",
            "  - Validating input files...\n",
            "    · Input files validated!\n",
            "------------------------------------------\n",
            " SIMULATION 'AAX-LAB1-AGENTS' STARTED\n",
            " PROGRESS BAR:\n",
            "* 0 % *\n",
            "* 5 % *\n",
            "* 10 % *\n",
            "* 15 % *\n",
            "* 20 % *\n",
            "* 25 % *\n",
            "* 30 % *\n",
            "* 35 % *\n",
            "* 40 % *\n",
            "* 45 % *\n",
            "* 50 % *\n",
            "* 55 % *\n",
            "* 60 % *\n",
            "* 65 % *\n",
            "* 70 % *\n",
            "* 75 % *\n",
            "* 80 % *\n",
            "* 85 % *\n",
            "* 90 % *\n",
            "* 95 % *\n",
            "* 100 % *\n",
            "------- AP_A (N0) ------\n",
            "  - Throughput = 21.208560 Mbps (93.02 pkt/s)\n",
            "  - Average delay from 176738 measurements = 0.005636 s (5.64 ms)\n",
            "  - Average rho = 0.000000 (0.00 %)\n",
            "    · 0/0\n",
            "  - Average utilization = 0.000000 (0.00 %)\n",
            "    · 0/0\n",
            "  - RTS/CTS sent/lost = 9303/0  (0.00 % lost)\n",
            "    · RTS lost due to slotted BO = 0 (0.000000 %)\n",
            "  - Data packets sent = 9303 - ACKed = 9302 -  Lost = 0  (0.000000 % lost)\n",
            "  - Frames ACKed = 176738, Av. frames sent per packet = 19.00\n",
            "  - Buffer: packets generated = 0 (0.00 pkt/s) - Packets dropped = 0  (0.000000 % drop ratio)\n",
            "  - Buffer: num bursts = 0\n",
            "  - num_tx_init_tried = 9303 - num_tx_init_not_possible = 0 (0.000000 % failed)\n",
            "  - Airtime = 50.94 s (50.94 %) - Successful airtime = 50.94 s (50.94 %)\n",
            "    · Successful airtime in channels of width N:\n",
            "    · - 1: 50.937752 s (50.94 %)\n",
            "    · Total Airtime / Successful airtime per channel:\n",
            "    · - 0: 51.28 s (51.28 %) / 50.94 s (50.94 %)\n",
            "    · - 1: 0.00 s (0.00 %) / 0.00 s (0.00 %)\n",
            "    · - 2: 0.00 s (0.00 %) / 0.00 s (0.00 %)\n",
            "    · - 3: 0.00 s (0.00 %) / 0.00 s (0.00 %)\n",
            "    · - 4: 0.00 s (0.00 %) / 0.00 s (0.00 %)\n",
            "    · - 5: 0.00 s (0.00 %) / 0.00 s (0.00 %)\n",
            "    · - 6: 0.00 s (0.00 %) / 0.00 s (0.00 %)\n",
            "    · - 7: 0.00 s (0.00 %) / 0.00 s (0.00 %)\n",
            "    · Average bandwidth used for transmitting = 10.26 MHz / 20 MHz (51.28 %)\n",
            "    · Number of tx trials per number of channels:\n",
            "    · - 1: 9303 (100.00 %)\n",
            "    · - 2: 0 (0.00 %)\n",
            "    · - 4: 0 (0.00 %)\n",
            "    �� - 8: 0 (0.00 %)\n",
            "  - num_tx_init_not_possible = 0\n",
            "  - times_went_to_nav = 8209\n",
            "  - time_in_nav = 46.265920 (46.27 % of the total time)\n",
            "  - average_waiting_time = 0.005114 (568.187000 slots)\n",
            "  - Expected BO = 0.000067 (7.495109 slots)\n",
            "  - Per-STA report:\n",
            "    · Throughput: {21.21 Mbps}\n",
            "    · RTS/CTS sent/lost: {9303/0 (0.00 %)}\n",
            "    · Data packets sent/lost: {9303/0 (0.00 %)}\n",
            "\n",
            "------- AP_B (N2) ------\n",
            "  - Throughput = 21.144720 Mbps (92.74 pkt/s)\n",
            "  - Average delay from 176206 measurements = 0.005636 s (5.64 ms)\n",
            "  - Average rho = 0.000000 (0.00 %)\n",
            "    · 0/0\n",
            "  - Average utilization = 0.000000 (0.00 %)\n",
            "    · 0/0\n",
            "  - RTS/CTS sent/lost = 9274/0  (0.00 % lost)\n",
            "    · RTS lost due to slotted BO = 0 (0.000000 %)\n",
            "  - Data packets sent = 9274 - ACKed = 9274 -  Lost = 0  (0.000000 % lost)\n",
            "  - Frames ACKed = 176206, Av. frames sent per packet = 19.00\n",
            "  - Buffer: packets generated = 0 (0.00 pkt/s) - Packets dropped = 0  (0.000000 % drop ratio)\n",
            "  - Buffer: num bursts = 0\n",
            "  - num_tx_init_tried = 9274 - num_tx_init_not_possible = 0 (0.000000 % failed)\n",
            "  - Airtime = 50.78 s (50.78 %) - Successful airtime = 50.78 s (50.78 %)\n",
            "    · Successful airtime in channels of width N:\n",
            "    · - 1: 50.784424 s (50.78 %)\n",
            "    · Total Airtime / Successful airtime per channel:\n",
            "    · - 0: 51.12 s (51.12 %) / 50.78 s (50.78 %)\n",
            "    · - 1: 0.00 s (0.00 %) / 0.00 s (0.00 %)\n",
            "    · - 2: 0.00 s (0.00 %) / 0.00 s (0.00 %)\n",
            "    · - 3: 0.00 s (0.00 %) / 0.00 s (0.00 %)\n",
            "    · - 4: 0.00 s (0.00 %) / 0.00 s (0.00 %)\n",
            "    · - 5: 0.00 s (0.00 %) / 0.00 s (0.00 %)\n",
            "    · - 6: 0.00 s (0.00 %) / 0.00 s (0.00 %)\n",
            "    · - 7: 0.00 s (0.00 %) / 0.00 s (0.00 %)\n",
            "    · Average bandwidth used for transmitting = 10.22 MHz / 20 MHz (51.12 %)\n",
            "    · Number of tx trials per number of channels:\n",
            "    · - 1: 9274 (100.00 %)\n",
            "    · - 2: 0 (0.00 %)\n",
            "    · - 4: 0 (0.00 %)\n",
            "    · - 8: 0 (0.00 %)\n",
            "  - num_tx_init_not_possible = 0\n",
            "  - times_went_to_nav = 8238\n",
            "  - time_in_nav = 46.423728 (46.42 % of the total time)\n",
            "  - average_waiting_time = 0.005147 (571.852934 slots)\n",
            "  - Expected BO = 0.000068 (7.521078 slots)\n",
            "  - Per-STA report:\n",
            "    · Throughput: {21.14 Mbps}\n",
            "    · RTS/CTS sent/lost: {9274/0 (0.00 %)}\n",
            "    · Data packets sent/lost: {9274/0 (0.00 %)}\n",
            "\n",
            "\n",
            "------- Agent A0 ------\n",
            "\n",
            "------- Agent A1 ------\n",
            "\n",
            " STOP KOMONDOR SIMULATION '' (seed 7) SIMULATION '' FINISHED\n",
            "------------------------------------------\n",
            "# -------------------------------------------------------------------------\n",
            "# CostSimEng with SimpleQueue, stopped at 100.000000\n",
            "# 235525 events processed in 0.366 seconds, event processing rate: 642973\n",
            "✅ Done! Agent‐enabled logs → /mnt/c/Users/Marc/Documents/Uni/3r/3r Trimestre/MLNetworks/Labs/ML4Net-2025/Lab1/Lab1/output/logs_test_agents.txt\n"
          ]
        }
      ],
      "source": [
        "# ┌───────────────────────────────────────────────────────────────────────────┐\n",
        "# │  Komondor Simulation with Agents (auto‐WSL on Windows, native elsewhere) │\n",
        "# └───────────────────────────────────────────────────────────────────────────┘\n",
        "\n",
        "import os, subprocess, platform\n",
        "from pathlib import Path\n",
        "\n",
        "# 1) Define repo structure\n",
        "repo_root    = Path.cwd()                          # where this notebook lives\n",
        "lab1         = repo_root / \"Lab1\"\n",
        "main_dir     = lab1 / \"main\"\n",
        "input_nodes  = lab1 / \"input\"  / \"input_nodes.csv\"\n",
        "input_agents = lab1 / \"input\"  / \"agents_monitoring.csv\"\n",
        "output_logs  = lab1 / \"output\" / \"logs_test_agents.txt\"\n",
        "\n",
        "# ensure output folder exists\n",
        "output_logs.parent.mkdir(parents=True, exist_ok=True)\n",
        "\n",
        "# helper to map Windows paths to WSL\n",
        "def to_wsl(p: Path) -> str:\n",
        "    pu = p.as_posix()      # \"C:/Users/…\"\n",
        "    drive, rest = pu.split(\":\",1)\n",
        "    return f\"/mnt/{drive.lower()}{rest}\"\n",
        "\n",
        "# build & run\n",
        "if platform.system() == \"Windows\":\n",
        "    # invoke under WSL\n",
        "    wmain   = to_wsl(main_dir)\n",
        "    wnodes  = to_wsl(input_nodes)\n",
        "    wagents = to_wsl(input_agents)\n",
        "    wout    = to_wsl(output_logs)\n",
        "    bash_cmd = (\n",
        "        f\"cd '{wmain}' && \"\n",
        "        f\"./komondor_main {wnodes} {wagents} {wout} \"\n",
        "        f\"AAX-LAB1-AGENTS 0 0 1 1 1 100 7\"\n",
        "    )\n",
        "    print(\"Running in WSL:\\n  wsl bash -lc\", bash_cmd, \"\\n\")\n",
        "    res = subprocess.run([\"wsl\",\"bash\",\"-lc\", bash_cmd])\n",
        "else:\n",
        "    # run natively\n",
        "    cmd = [\n",
        "      str(main_dir/\"komondor_main\"),\n",
        "      str(input_nodes),\n",
        "      str(input_agents),\n",
        "      str(output_logs),\n",
        "      \"AAX-LAB1-AGENTS\",  # SIMULATION_CODE\n",
        "      \"0\",  # FLAG_SAVE_NODE_LOGS\n",
        "      \"0\",  # FLAG_SAVE_AGENT_LOGS\n",
        "      \"1\",  # FLAG_PRINT_SYSTEM_LOGS\n",
        "      \"1\",  # FLAG_PRINT_NODE_LOGS\n",
        "      \"1\",  # FLAG_PRINT_AGENT_LOGS\n",
        "      \"100\",# SIM_TIME\n",
        "      \"7\"   # SEED\n",
        "    ]\n",
        "    print(\"Running natively:\\n \", \" \".join(cmd), \"\\n\")\n",
        "    res = subprocess.run(cmd, cwd=main_dir)\n",
        "\n",
        "if res.returncode == 0:\n",
        "    print(\"✅ Done! Agent‐enabled logs →\", output_logs)\n",
        "else:\n",
        "    print(\"❌ Error (code:\", res.returncode,\")\")\n"
      ]
    },
    {
      "cell_type": "markdown",
      "metadata": {
        "id": "bTAXUX5lN9KF"
      },
      "source": [
        "## EXERCISES"
      ]
    },
    {
      "cell_type": "markdown",
      "metadata": {
        "id": "weqFFp6eShJg"
      },
      "source": [
        "### Exercise 1:\n",
        "Run the simulator (without agents) for the provided input nodes file (`/input/input_nodes.csv`). Before running the simulation, activate the flag that allows saving node logs into a file. After running the simulation, use the information from the log files of each node (e.g., AP_A, STA_A1, AP_B, STA_B1) to plot the scenario. To make the plot, consider the position of the nodes, the channel used, and the power strength that each node perceives from each other node in the deployment.\n",
        "\n",
        "*Note: To know the power strength perceived by a given device (e.g., AP A) from any other devices (e.g., STA A1, AP B, STA B1), check the logs of that node and identify the cases where other nodes are detected to start/stop a transmission.*"
      ]
    },
    {
      "cell_type": "code",
      "execution_count": 6,
      "metadata": {
        "id": "o3tirZCOSkNC"
      },
      "outputs": [
        {
          "name": "stdout",
          "output_type": "stream",
          "text": [
            "Launching natively:\n",
            "  /mnt/c/Users/Marc/Documents/Uni/3r/3r Trimestre/MLNetworks/Labs/ML4Net-2025/Lab1/Lab1/main/komondor_main /mnt/c/Users/Marc/Documents/Uni/3r/3r Trimestre/MLNetworks/Labs/ML4Net-2025/Lab1/Lab1/input/input_nodes.csv /mnt/c/Users/Marc/Documents/Uni/3r/3r Trimestre/MLNetworks/Labs/ML4Net-2025/Lab1/Lab1/output/logs_noagents.txt AAX-LAB1 1 1 1 100 7 \n",
            "\n",
            "\n",
            "*************************************************************************************\n",
            " KOMONDOR Wireless Network Simulator\n",
            " Copyright (C) 2017-2022, and GNU GPL'd, by Sergio Barrachina & Francesc Wilhelmi\n",
            "  - GitHub repository: https://github.com/wn-upf/Komondor\n",
            "*************************************************************************************\n",
            "\n",
            "\n",
            " FULL configuration entered per console (AGENTS DISABLED).\n",
            " Komondor input configuration:\n",
            "  - nodes_input_filename: /mnt/c/Users/Marc/Documents/Uni/3r/3r Trimestre/MLNetworks/Labs/ML4Net-2025/Lab1/Lab1/input/input_nodes.csv\n",
            "  - agents_enabled: 0\n",
            "  - script_output_filename: /mnt/c/Users/Marc/Documents/Uni/3r/3r Trimestre/MLNetworks/Labs/ML4Net-2025/Lab1/Lab1/output/logs_noagents.txt\n",
            "  - simulation_code: AAX-LAB1\n",
            "  - save_node_logs: 1\n",
            "  - print_system_logs: 1\n",
            "  - print_node_logs: 1\n",
            "  - sim_time: 100.000000 s\n",
            "  - seed: 7\n",
            "\n",
            " Creating output files\n",
            "  - Simulation output file 'output/logs_console_AAX-LAB1.txt' created!\n",
            "\n",
            " Reading system configuration file '../config_models'...\n",
            "  - System environment properly set!\n",
            "\n",
            " Generating nodes DETERMINISTICALLY through NODES input file...\n",
            "  - Reading nodes input file '/mnt/c/Users/Marc/Documents/Uni/3r/3r Trimestre/MLNetworks/Labs/ML4Net-2025/Lab1/Lab1/input/input_nodes.csv'...\n",
            "    · Num. of WLANs detected: 2\n",
            "    · Generating nodes...\n",
            "    · Nodes generated!\n",
            "  - System configuration: \n",
            "    · total_nodes_number = 4\n",
            "    · pdf_backoff = 0\n",
            "    · pdf_tx_time = 0\n",
            "    · path_loss_model = 4\n",
            "    · adjacent_channel_model = 0\n",
            "    · collisions_model = 0\n",
            "\n",
            "  - Wlans generated!\n",
            "    · WLAN A:\n",
            "       + wlan_id: 0\n",
            "       + num_stas: 1\n",
            "       + ap_id: 0\n",
            "       + list of STAs IDs: 1  \n",
            "    · WLAN B:\n",
            "       + wlan_id: 1\n",
            "       + num_stas: 1\n",
            "       + ap_id: 2\n",
            "       + list of STAs IDs: 3  \n",
            "\n",
            "  - Nodes generated!\n",
            "\n",
            "    · Node AP_A info:\n",
            "       + node_id = 0\n",
            "       + node_type = 0\n",
            "       + position = (0.00, 0.00, 0.00)\n",
            "       + current_primary_channel = 0 (range = [0 - 0])\n",
            "       + current_dcb_policy = 4\n",
            "       + tx_power_default = 31622776601.683792 pW (15.000000 dBm)\n",
            "       + sensitivity_default = 6.309573 pW (-82.000000 dBm)\n",
            "       + spatial_reuse_enabled = 0\n",
            "       + wlan:\n",
            "          * wlan code = A\n",
            "          * wlan id = 0\n",
            "          * wlan AP id = 0\n",
            "          * Identifiers of STAs in WLAN (total number of STAs = 1): 1  \n",
            "       + backoff_type = 0\n",
            "       + cw_adaptation = 0\n",
            "       + [cw_min_default - cw_max_default] = [0-15]\n",
            "       + cw_stage_max = 5\n",
            "       + central_frequency = 5000000000.000000 Hz (5.000000 GHz)\n",
            "       + capture_effect = 10.000000 [linear] (10.000000 dB)\n",
            "       + Constant PER = 0.000000\n",
            "\n",
            "    · Node STA_A1 info:\n",
            "       + node_id = 1\n",
            "       + node_type = 1\n",
            "       + position = (0.00, 4.00, 0.00)\n",
            "       + current_primary_channel = 0 (range = [0 - 0])\n",
            "       + current_dcb_policy = 4\n",
            "       + tx_power_default = 31622776601.683792 pW (15.000000 dBm)\n",
            "       + sensitivity_default = 6.309573 pW (-82.000000 dBm)\n",
            "       + spatial_reuse_enabled = 0\n",
            "       + backoff_type = 0\n",
            "       + cw_adaptation = 0\n",
            "       + [cw_min_default - cw_max_default] = [0-15]\n",
            "       + cw_stage_max = 5\n",
            "       + central_frequency = 5000000000.000000 Hz (5.000000 GHz)\n",
            "       + capture_effect = 10.000000 [linear] (10.000000 dB)\n",
            "       + Constant PER = 0.000000\n",
            "\n",
            "    · Node AP_B info:\n",
            "       + node_id = 2\n",
            "       + node_type = 0\n",
            "       + position = (5.00, 0.00, 0.00)\n",
            "       + current_primary_channel = 0 (range = [0 - 0])\n",
            "       + current_dcb_policy = 4\n",
            "       + tx_power_default = 31622776601.683792 pW (15.000000 dBm)\n",
            "       + sensitivity_default = 6.309573 pW (-82.000000 dBm)\n",
            "       + spatial_reuse_enabled = 0\n",
            "       + wlan:\n",
            "          * wlan code = B\n",
            "          * wlan id = 1\n",
            "          * wlan AP id = 2\n",
            "          * Identifiers of STAs in WLAN (total number of STAs = 1): 3  \n",
            "       + backoff_type = 0\n",
            "       + cw_adaptation = 0\n",
            "       + [cw_min_default - cw_max_default] = [0-15]\n",
            "       + cw_stage_max = 5\n",
            "       + central_frequency = 5000000000.000000 Hz (5.000000 GHz)\n",
            "       + capture_effect = 10.000000 [linear] (10.000000 dB)\n",
            "       + Constant PER = 0.000000\n",
            "\n",
            "    · Node STA_B1 info:\n",
            "       + node_id = 3\n",
            "       + node_type = 1\n",
            "       + position = (5.00, 4.00, 0.00)\n",
            "       + current_primary_channel = 0 (range = [0 - 0])\n",
            "       + current_dcb_policy = 4\n",
            "       + tx_power_default = 31622776601.683792 pW (15.000000 dBm)\n",
            "       + sensitivity_default = 6.309573 pW (-82.000000 dBm)\n",
            "       + spatial_reuse_enabled = 0\n",
            "       + backoff_type = 0\n",
            "       + cw_adaptation = 0\n",
            "       + [cw_min_default - cw_max_default] = [0-15]\n",
            "       + cw_stage_max = 5\n",
            "       + central_frequency = 5000000000.000000 Hz (5.000000 GHz)\n",
            "       + capture_effect = 10.000000 [linear] (10.000000 dB)\n",
            "       + Constant PER = 0.000000\n",
            "\n",
            "  - Validating input files...\n",
            "    · Input files validated!\n",
            "------------------------------------------\n",
            " SIMULATION 'AAX-LAB1' STARTED\n",
            " PROGRESS BAR:\n",
            "* 0 % *\n",
            "* 5 % *\n",
            "* 10 % *\n",
            "* 15 % *\n",
            "* 20 % *\n",
            "* 25 % *\n",
            "* 30 % *\n",
            "* 35 % *\n",
            "* 40 % *\n",
            "* 45 % *\n",
            "* 50 % *\n",
            "* 55 % *\n",
            "* 60 % *\n",
            "* 65 % *\n",
            "* 70 % *\n",
            "* 75 % *\n",
            "* 80 % *\n",
            "* 85 % *\n",
            "* 90 % *\n",
            "* 95 % *\n",
            "* 100 % *\n",
            "------- AP_A (N0) ------\n",
            "  - Throughput = 21.208560 Mbps (93.02 pkt/s)\n",
            "  - Average delay from 176738 measurements = 0.005636 s (5.64 ms)\n",
            "  - Average rho = 0.000000 (0.00 %)\n",
            "    · 0/0\n",
            "  - Average utilization = 0.000000 (0.00 %)\n",
            "    · 0/0\n",
            "  - RTS/CTS sent/lost = 9303/0  (0.00 % lost)\n",
            "    · RTS lost due to slotted BO = 0 (0.000000 %)\n",
            "  - Data packets sent = 9303 - ACKed = 9302 -  Lost = 0  (0.000000 % lost)\n",
            "  - Frames ACKed = 176738, Av. frames sent per packet = 19.00\n",
            "  - Buffer: packets generated = 0 (0.00 pkt/s) - Packets dropped = 0  (0.000000 % drop ratio)\n",
            "  - Buffer: num bursts = 0\n",
            "  - num_tx_init_tried = 9303 - num_tx_init_not_possible = 0 (0.000000 % failed)\n",
            "  - Airtime = 50.94 s (50.94 %) - Successful airtime = 50.94 s (50.94 %)\n",
            "    · Successful airtime in channels of width N:\n",
            "    · - 1: 50.937752 s (50.94 %)\n",
            "    · Total Airtime / Successful airtime per channel:\n",
            "    · - 0: 51.28 s (51.28 %) / 50.94 s (50.94 %)\n",
            "    · - 1: 0.00 s (0.00 %) / 0.00 s (0.00 %)\n",
            "    · - 2: 0.00 s (0.00 %) / 0.00 s (0.00 %)\n",
            "    · - 3: 0.00 s (0.00 %) / 0.00 s (0.00 %)\n",
            "    · - 4: 0.00 s (0.00 %) / 0.00 s (0.00 %)\n",
            "    · - 5: 0.00 s (0.00 %) / 0.00 s (0.00 %)\n",
            "    · - 6: 0.00 s (0.00 %) / 0.00 s (0.00 %)\n",
            "    · - 7: 0.00 s (0.00 %) / 0.00 s (0.00 %)\n",
            "    · Average bandwidth used for transmitting = 10.26 MHz / 20 MHz (51.28 %)\n",
            "    · Number of tx trials per number of channels:\n",
            "    · - 1: 9303 (100.00 %)\n",
            "    · - 2: 0 (0.00 %)\n",
            "    · - 4: 0 (0.00 %)\n",
            "    · - 8: 0 (0.00 %)\n",
            "  - num_tx_init_not_possible = 0\n",
            "  - times_went_to_nav = 8209\n",
            "  - time_in_nav = 46.265920 (46.27 % of the total time)\n",
            "  - average_waiting_time = 0.005114 (568.187000 slots)\n",
            "  - Expected BO = 0.000067 (7.495109 slots)\n",
            "  - Per-STA report:\n",
            "    · Throughput: {21.21 Mbps}\n",
            "    · RTS/CTS sent/lost: {9303/0 (0.00 %)}\n",
            "    · Data packets sent/lost: {9303/0 (0.00 %)}\n",
            "\n",
            "------- AP_B (N2) ------\n",
            "  - Throughput = 21.144720 Mbps (92.74 pkt/s)\n",
            "  - Average delay from 176206 measurements = 0.005636 s (5.64 ms)\n",
            "  - Average rho = 0.000000 (0.00 %)\n",
            "    · 0/0\n",
            "  - Average utilization = 0.000000 (0.00 %)\n",
            "    · 0/0\n",
            "  - RTS/CTS sent/lost = 9274/0  (0.00 % lost)\n",
            "    · RTS lost due to slotted BO = 0 (0.000000 %)\n",
            "  - Data packets sent = 9274 - ACKed = 9274 -  Lost = 0  (0.000000 % lost)\n",
            "  - Frames ACKed = 176206, Av. frames sent per packet = 19.00\n",
            "  - Buffer: packets generated = 0 (0.00 pkt/s) - Packets dropped = 0  (0.000000 % drop ratio)\n",
            "  - Buffer: num bursts = 0\n",
            "  - num_tx_init_tried = 9274 - num_tx_init_not_possible = 0 (0.000000 % failed)\n",
            "  - Airtime = 50.78 s (50.78 %) - Successful airtime = 50.78 s (50.78 %)\n",
            "    · Successful airtime in channels of width N:\n",
            "    · - 1: 50.784424 s (50.78 %)\n",
            "    · Total Airtime / Successful airtime per channel:\n",
            "    · - 0: 51.12 s (51.12 %) / 50.78 s (50.78 %)\n",
            "    · - 1: 0.00 s (0.00 %) / 0.00 s (0.00 %)\n",
            "    · - 2: 0.00 s (0.00 %) / 0.00 s (0.00 %)\n",
            "    · - 3: 0.00 s (0.00 %) / 0.00 s (0.00 %)\n",
            "    · - 4: 0.00 s (0.00 %) / 0.00 s (0.00 %)\n",
            "    · - 5: 0.00 s (0.00 %) / 0.00 s (0.00 %)\n",
            "    · - 6: 0.00 s (0.00 %) / 0.00 s (0.00 %)\n",
            "    · - 7: 0.00 s (0.00 %) / 0.00 s (0.00 %)\n",
            "    · Average bandwidth used for transmitting = 10.22 MHz / 20 MHz (51.12 %)\n",
            "    · Number of tx trials per number of channels:\n",
            "    · - 1: 9274 (100.00 %)\n",
            "    · - 2: 0 (0.00 %)\n",
            "    · - 4: 0 (0.00 %)\n",
            "    · - 8: 0 (0.00 %)\n",
            "  - num_tx_init_not_possible = 0\n",
            "  - times_went_to_nav = 8238\n",
            "  - time_in_nav = 46.423728 (46.42 % of the total time)\n",
            "  - average_waiting_time = 0.005147 (571.852934 slots)\n",
            "  - Expected BO = 0.000068 (7.521078 slots)\n",
            "  - Per-STA report:\n",
            "    · Throughput: {21.14 Mbps}\n",
            "    · RTS/CTS sent/lost: {9274/0 (0.00 %)}\n",
            "    · Data packets sent/lost: {9274/0 (0.00 %)}\n",
            "\n",
            "\n",
            " STOP KOMONDOR SIMULATION '' (seed 7) SIMULATION '' FINISHED\n",
            "------------------------------------------\n",
            "# -------------------------------------------------------------------------\n",
            "# CostSimEng with SimpleQueue, stopped at 100.000000\n",
            "# 235127 events processed in 47.932 seconds, event processing rate: 4905\n",
            "✅ Simulation complete; node logs are in /mnt/c/Users/Marc/Documents/Uni/3r/3r Trimestre/MLNetworks/Labs/ML4Net-2025/Lab1/Lab1/output\n"
          ]
        }
      ],
      "source": [
        "# (response to exercise 1)\n",
        "\n",
        "import os, subprocess, platform\n",
        "from pathlib import Path\n",
        "\n",
        "# ── adjust if your notebook lives elsewhere ────────────────────────┐\n",
        "repo_root  = Path.cwd()  \n",
        "lab1       = repo_root / \"Lab1\"\n",
        "main_dir   = lab1 / \"main\"\n",
        "input_csv  = lab1 / \"input\"  / \"input_nodes.csv\"\n",
        "output_txt = lab1 / \"output\" / \"logs_noagents.txt\"\n",
        "# ────────────────────────────────────────────────────────────────────┘\n",
        "\n",
        "# make sure output folder exists\n",
        "output_txt.parent.mkdir(parents=True, exist_ok=True)\n",
        "\n",
        "# helper to convert Windows paths → WSL\n",
        "def to_wsl(p: Path) -> str:\n",
        "    pu = p.as_posix()              # e.g. \"C:/…\"\n",
        "    drive, rest = pu.split(\":\", 1)\n",
        "    return f\"/mnt/{drive.lower()}{rest}\"\n",
        "\n",
        "# build & dispatch\n",
        "if platform.system() == \"Windows\":\n",
        "    wmain  = to_wsl(main_dir)\n",
        "    wnodes = to_wsl(input_csv)\n",
        "    wout   = to_wsl(output_txt)\n",
        "    bash = (\n",
        "        f\"cd '{wmain}' && \"\n",
        "        f\"./komondor_main {wnodes} {wout} \"\n",
        "        f\"AAX-LAB1   \"  # SIM_CODE\n",
        "        f\"1  1  1  \"    # SAVE_NODE_LOGS=1, PRINT_SYS=1, PRINT_NODE=1\n",
        "        f\"100  7\"       # SIM_TIME, SEED\n",
        "    )\n",
        "    print(\"Launching under WSL:\\n  wsl bash -lc\", bash, \"\\n\")\n",
        "    res = subprocess.run([\"wsl\",\"bash\",\"-lc\", bash])\n",
        "else:\n",
        "    cmd = [\n",
        "      str(main_dir/\"komondor_main\"),\n",
        "      str(input_csv),\n",
        "      str(output_txt),\n",
        "      \"AAX-LAB1\", \"1\", \"1\", \"1\", \"100\", \"7\"\n",
        "    ]\n",
        "    print(\"Launching natively:\\n \", \" \".join(cmd), \"\\n\")\n",
        "    res = subprocess.run(cmd, cwd=main_dir)\n",
        "\n",
        "if res.returncode!=0:\n",
        "    raise RuntimeError(f\"Simulation failed (exit {res.returncode})\")\n",
        "print(\"✅ Simulation complete; node logs are in\", lab1/\"output\")\n",
        "\n"
      ]
    },
    {
      "cell_type": "code",
      "execution_count": 13,
      "metadata": {},
      "outputs": [
        {
          "ename": "RuntimeError",
          "evalue": "No detection events found—check your outdir and regex!",
          "output_type": "error",
          "traceback": [
            "\u001b[0;31m---------------------------------------------------------------------------\u001b[0m",
            "\u001b[0;31mRuntimeError\u001b[0m                              Traceback (most recent call last)",
            "Cell \u001b[0;32mIn[13], line 54\u001b[0m\n\u001b[1;32m     52\u001b[0m df \u001b[38;5;241m=\u001b[39m pd\u001b[38;5;241m.\u001b[39mDataFrame(records)\n\u001b[1;32m     53\u001b[0m \u001b[38;5;28;01mif\u001b[39;00m df\u001b[38;5;241m.\u001b[39mempty:\n\u001b[0;32m---> 54\u001b[0m     \u001b[38;5;28;01mraise\u001b[39;00m \u001b[38;5;167;01mRuntimeError\u001b[39;00m(\u001b[38;5;124m\"\u001b[39m\u001b[38;5;124mNo detection events found—check your outdir and regex!\u001b[39m\u001b[38;5;124m\"\u001b[39m)\n\u001b[1;32m     56\u001b[0m \u001b[38;5;66;03m# 6) Plot positions + arrows + labels\u001b[39;00m\n\u001b[1;32m     57\u001b[0m plt\u001b[38;5;241m.\u001b[39mfigure(figsize\u001b[38;5;241m=\u001b[39m(\u001b[38;5;241m6\u001b[39m,\u001b[38;5;241m6\u001b[39m))\n",
            "\u001b[0;31mRuntimeError\u001b[0m: No detection events found—check your outdir and regex!"
          ]
        }
      ],
      "source": [
        "import re\n",
        "import pandas as pd\n",
        "import matplotlib.pyplot as plt\n",
        "from pathlib import Path\n",
        "\n",
        "# ────────────────────────────────────────────────────────────────────────\n",
        "# 1) Load node positions (from the inner Lab1/input folder)\n",
        "nodes = pd.read_csv(\"Lab1/input/input_nodes.csv\", sep=\";\")\n",
        "\n",
        "# 2) Point at the inner Lab1/output folder\n",
        "outdir = Path(\"Lab1/output\")\n",
        "\n",
        "# 3) Map Komondor’s internal N‐IDs → your node codes\n",
        "id_map = {\"N0\":\"AP_A\", \"N1\":\"STA_A1\", \"N2\":\"AP_B\", \"N3\":\"STA_B1\"}\n",
        "\n",
        "records = []\n",
        "\n",
        "# 4) Parse each node’s log file\n",
        "for receiver in nodes[\"node_code\"]:\n",
        "    # look for logs_output__*_<node>.txt under Lab1/output\n",
        "    matches = list(outdir.glob(f\"logs_output__*_{receiver}.txt\"))\n",
        "    if not matches:\n",
        "        print(f\"⚠️  No log file found for {receiver} in {outdir}/\")\n",
        "        continue\n",
        "    logf = matches[0]\n",
        "    lines = logf.read_text().splitlines()\n",
        "\n",
        "    last_tx = None\n",
        "    for line in lines:\n",
        "        # a) catch the “sends … transmit power of XX dBm” line\n",
        "        m0 = re.search(\n",
        "            r\"InportSomeNodeStartTX\\(\\):\\s+(N\\d+).*transmit power of\\s*([\\d\\.]+)\\s*dBm.*range\\s*(\\d+)-\\d+\",\n",
        "            line\n",
        "        )\n",
        "        if m0:\n",
        "            last_tx = (m0.group(1), float(m0.group(2)), int(m0.group(3)))\n",
        "            continue\n",
        "\n",
        "        # b) catch the “- N# has started a TX … in channels C - D” confirmation\n",
        "        m1 = re.search(r\"-\\s+(N\\d+)\\s+has started a TX.*in channels\\s*(\\d+)\\s*-\\s*\\d+\", line)\n",
        "        if m1 and last_tx and m1.group(1) == last_tx[0]:\n",
        "            nid, pwr, ch = last_tx\n",
        "            records.append({\n",
        "                \"receiver\":    receiver,\n",
        "                \"transmitter\": id_map[nid],\n",
        "                \"power_dBm\":   pwr,\n",
        "                \"channel\":     ch\n",
        "            })\n",
        "            last_tx = None\n",
        "\n",
        "# 5) Build DataFrame & sanity check\n",
        "df = pd.DataFrame(records)\n",
        "if df.empty:\n",
        "    raise RuntimeError(\"No detection events found—check your outdir and regex!\")\n",
        "\n",
        "# 6) Plot positions + arrows + labels\n",
        "plt.figure(figsize=(6,6))\n",
        "for _, row in nodes.iterrows():\n",
        "    sym = \"s\" if row[\"node_type\"]==0 else \"o\"\n",
        "    plt.scatter(row[\"x(m)\"], row[\"y(m)\"], s=200, marker=sym, label=row[\"node_code\"])\n",
        "    plt.text(row[\"x(m)\"]+0.1, row[\"y(m)\"]+0.1, row[\"node_code\"])\n",
        "\n",
        "for _, ev in df.iterrows():\n",
        "    rx = nodes.set_index(\"node_code\").loc[ev[\"receiver\"]]\n",
        "    tx = nodes.set_index(\"node_code\").loc[ev[\"transmitter\"]]\n",
        "    plt.annotate(\"\", xy=(rx[\"x(m)\"], rx[\"y(m)\"]),\n",
        "                      xytext=(tx[\"x(m)\"], tx[\"y(m)\"]),\n",
        "                      arrowprops=dict(arrowstyle=\"->\", lw=1))\n",
        "    mx, my = (rx[\"x(m)\"]+tx[\"x(m)\"])/2, (rx[\"y(m)\"]+tx[\"y(m)\"])/2\n",
        "    plt.text(mx, my, f\"{ev['power_dBm']:.1f} dBm\\nch {ev['channel']}\",\n",
        "             fontsize=9, ha=\"center\")\n",
        "\n",
        "plt.title(\"Node Positions & Perceived RX Power\")\n",
        "plt.xlabel(\"x (m)\"); plt.ylabel(\"y (m)\")\n",
        "plt.legend(); plt.grid(True); plt.tight_layout()\n",
        "plt.show()\n"
      ]
    },
    {
      "cell_type": "markdown",
      "metadata": {
        "id": "E3vAU830SmuR"
      },
      "source": [
        "### Exercise 2:\n",
        "\n",
        "Run the simulator (this time, with agents in \"monitor\" mode) for the provided input nodes file (`/input/input_nodes.csv`). The input agents file to be used is provided as (`/input/agents_monitoring.csv`). Ensure that the agent logs are saved into files by setting the corresponding flag to 1. After running the simulation, use the agent log files to plot the temporary throughput obtained by each AP."
      ]
    },
    {
      "cell_type": "code",
      "execution_count": null,
      "metadata": {
        "id": "PTjjIcWDS3yC"
      },
      "outputs": [],
      "source": [
        "# (response to exercise 2)"
      ]
    },
    {
      "cell_type": "markdown",
      "metadata": {
        "id": "7hgfWEriSpMa"
      },
      "source": [
        "### Exercise 3:\n",
        "\n",
        "Copy the `agents_monitoring.csv` file, rename it as `agents_egreedy.csv`, and modify it as follows:\n",
        "- Indicate the possible \"channel actions\" by indicating `0,1` in the column 'actions channels' of each agent.\n",
        "- Set the colum \"learning mechanism\" to `1`(which stands for multi-armed bandits) for each agent.\n",
        "- Set the column \"selected strategy\" to `1` (which stands for ɛ-greedy) for each agent.\n",
        "\n",
        "Then, run the simulation using `agents_egreedy.csv` and plot the temporary throughput obtained by each AP, as done in Exercise 2. In addition, read the console logs from Komondor and explain the displayed agent logs.\n",
        "\n",
        "**Important:** In case of experiencing a run-time error, check that the fields in the 'agents' file are separated by a semicolon (`;`)."
      ]
    },
    {
      "cell_type": "code",
      "execution_count": null,
      "metadata": {
        "id": "IGlaJ3jrS4qK"
      },
      "outputs": [],
      "source": [
        "# (response to exercise 3)"
      ]
    },
    {
      "cell_type": "markdown",
      "metadata": {
        "id": "zGXDiQQEZ5vL"
      },
      "source": [
        "### Exercise 4:\n",
        "Create another input agents file (name it `agents_ml4net.csv`), but this time set the column \"selected_strategy\" (the last one) to 5.\n",
        "\n",
        "The mechanism (as it is currently implemented) will just select actions randomly. For that reason, you have to define your own action-selection strategy by completing the code in `/learning_modules/network_optimization_methods/multi_armed_bandits.h`. More specifically, you will have to complete the function `PickArmML4Net()`, which contains all the logic. You can get inspiration from the other implemented MAB algorithms (e.g., UCB, Thompson sampling).\n",
        "\n",
        "**IMPORTANT:** If you modify the source code, you will have to re-compile it (see step 6 in \"Setting up the environment\") before running new simulations."
      ]
    },
    {
      "cell_type": "code",
      "execution_count": null,
      "metadata": {
        "id": "PqgnnqflZ8R3"
      },
      "outputs": [],
      "source": [
        "# (response to exercise 4)"
      ]
    },
    {
      "cell_type": "markdown",
      "metadata": {
        "id": "YjKy6Cy5e74Q"
      },
      "source": [
        "### Exercise 5:\n",
        "\n",
        "Run a simulation to test your action-selection strategy. Compare it to ɛ-greedy (Exercise 3) by plotting the temporary throughput obtained by each of the mechanisms."
      ]
    },
    {
      "cell_type": "code",
      "execution_count": null,
      "metadata": {
        "id": "8AhYwVhNfWGA"
      },
      "outputs": [],
      "source": [
        "# (response to exercise 5)"
      ]
    },
    {
      "cell_type": "markdown",
      "metadata": {
        "id": "LafMStmKfW4-"
      },
      "source": [
        "### Exercise 6:\n",
        "\n",
        "Now, modify the \"input_nodes.csv\" and the input agent files (`agents_egreedy.csv` and `agents_ml4net.csv`) to add a third BSS, which must use the same configuration as the other BSSs but whose AP and STA must be placed at (10,0,0) m and (10,4,0) m, respectively. In the agents file, you will also have to add a third column so that the third BSS gets an agent enrolled.\n",
        "\n",
        "Run N=5 simulations (using different random seeds) for each action-selection strategy and plot the average throughput obtained by each BSS across the different simulations for each approach."
      ]
    },
    {
      "cell_type": "code",
      "execution_count": null,
      "metadata": {
        "id": "2Eb3K84dgTb1"
      },
      "outputs": [],
      "source": [
        "# (response to exercise 6)"
      ]
    }
  ],
  "metadata": {
    "colab": {
      "collapsed_sections": [
        "7hgfWEriSpMa",
        "zGXDiQQEZ5vL",
        "YjKy6Cy5e74Q",
        "LafMStmKfW4-"
      ],
      "provenance": []
    },
    "kernelspec": {
      "display_name": "CompBioMed25",
      "language": "python",
      "name": "python3"
    },
    "language_info": {
      "codemirror_mode": {
        "name": "ipython",
        "version": 3
      },
      "file_extension": ".py",
      "mimetype": "text/x-python",
      "name": "python",
      "nbconvert_exporter": "python",
      "pygments_lexer": "ipython3",
      "version": "3.8.20"
    }
  },
  "nbformat": 4,
  "nbformat_minor": 0
}
