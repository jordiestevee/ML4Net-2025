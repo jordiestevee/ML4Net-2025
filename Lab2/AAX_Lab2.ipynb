{
  "cells": [
    {
      "cell_type": "markdown",
      "metadata": {
        "id": "ShbB8CxBMSLH"
      },
      "source": [
        "#ML4Net - Lab 2\n",
        "\n",
        "## Team members\n",
        "\n",
        "Albert Jané Lardiés 268537 | Marc Mallol Canelada 268923 | Jordi Esteve Claramunt (NIA 3)\n",
        "\n",
        "## Description\n",
        "\n",
        "In this lab, you will implement an ML model that detects congestion in Wi-Fi networks. In particular, you will desing and implement a supervised learning model (e.g., linear regression, multi-layer perceptron, neural network), which you will train using a dataset that was generated using the ns-3 simulator.\n",
        "\n",
        "Each row in the dataset is organized as (x1, x2, ..., x26, y1, y2, ..., y26, s, r, l), where:\n",
        "\n",
        "* `x1, x2..., x26, y1, y2, ..., y26` represent the histogram of the Inter-Frame Space (IFS) values for M frames that accessed the medium in a 60 seconds observation sample.\n",
        "  * `x26` represents the maximum IFS duration (in ms) in the considered M frames whereas `x1` is `x26`/26\n",
        "  * The remaining `xi` values are buckets at uniform spacing between `x1` and `x26`.\n",
        "  * For i>1, the values of `yi` represent the IFS histogram count (in percentage) for a corresponding bucket interval between `xi`-1 and `xi`.\n",
        "  * In the case of `y1`, the bucket interval is between 0 and `x1`\n",
        "* `s` is the average IFS duration (in ms)\n",
        "* `r` is the percentage of frame collisions\n",
        "* `l` is the label, where 1 indicates that the network is saturated, and 0, that it is not\n",
        "\n",
        "Original dataset: https://ieee-dataport.org/documents/dataset-identification-saturated-and-unsaturated-wi-fi-networks\n",
        "\n",
        "## Instructions\n",
        "\n",
        "*   Follow the steps from this Notebook and complete the proposed exercises.\n",
        "*   Deliver the completed Notebook by uploading it to your Github repository.\n",
        "*   Submission deadline: 1 June 2025 (EoB)."
      ]
    },
    {
      "cell_type": "markdown",
      "metadata": {
        "id": "Lqio72iAuxNJ"
      },
      "source": [
        "## Setting up the environment"
      ]
    },
    {
      "cell_type": "markdown",
      "metadata": {},
      "source": [
        "> **Author's Note:**  \n",
        "> Following the approach we used in our previous lab, we have decided to run this notebook locally with a connected GitHub repository.  \n",
        "> We find this workflow more comfortable and efficient, especially when we need to make edits collaboratively.  \n",
        ">\n",
        "> As a result, the following code cells include a setup that differs from the one provided in the original Lab 2 template.\n"
      ]
    },
    {
      "cell_type": "code",
      "execution_count": 1,
      "metadata": {},
      "outputs": [
        {
          "name": "stdout",
          "output_type": "stream",
          "text": [
            "Downloading dataset...\n",
            "Download complete.\n",
            "Extracting dataset...\n",
            "Extraction complete.\n",
            "Setup complete. Files are in: c:\\Users\\alber\\Documents\\GitHub\\ML4Net-2025\\Lab2\\dataset_Lab2\n"
          ]
        }
      ],
      "source": [
        "# ┌──────────────────────────────────────────────────────────────────┐\n",
        "# │              Notebook Setup Cell for Lab2 (All-in-One)         │\n",
        "# └──────────────────────────────────────────────────────────────────┘\n",
        "\n",
        "import os\n",
        "import zipfile\n",
        "import requests\n",
        "\n",
        "# Get the directory where the notebook or script is located\n",
        "notebook_dir = os.path.dirname(os.path.abspath(__file__)) if '__file__' in globals() else os.getcwd()\n",
        "\n",
        "# Define path to store dataset\n",
        "mypath = os.path.join(notebook_dir, \"dataset_Lab2\")\n",
        "zip_filename = \"dataset_Lab2.zip\"\n",
        "zip_filepath = os.path.join(notebook_dir, zip_filename)\n",
        "\n",
        "# Dataset URL\n",
        "dataset_url = \"https://github.com/fwilhelmi/fwilhelmi.github.io/raw/refs/heads/master/files/dataset_Lab2.zip\"\n",
        "\n",
        "# Step 1: Create the dataset directory\n",
        "os.makedirs(mypath, exist_ok=True)\n",
        "\n",
        "# Step 2: Download the dataset zip if it doesn't already exist\n",
        "if not os.path.exists(zip_filepath):\n",
        "    print(\"Downloading dataset...\")\n",
        "    response = requests.get(dataset_url)\n",
        "    with open(zip_filepath, \"wb\") as f:\n",
        "        f.write(response.content)\n",
        "    print(\"Download complete.\")\n",
        "else:\n",
        "    print(\"Dataset zip already exists.\")\n",
        "\n",
        "# Step 3: Unzip the dataset (only if not already extracted)\n",
        "if not any(fname.endswith(\".py\") or fname.endswith(\".ipynb\") for fname in os.listdir(mypath)):\n",
        "    print(\"Extracting dataset...\")\n",
        "    with zipfile.ZipFile(zip_filepath, 'r') as zip_ref:\n",
        "        zip_ref.extractall(mypath)\n",
        "    print(\"Extraction complete.\")\n",
        "else:\n",
        "    print(\"Dataset already extracted.\")\n",
        "\n",
        "# Optional: Remove the zip file\n",
        "os.remove(zip_filepath)\n",
        "\n",
        "print(f\"Setup complete. Files are in: {mypath}\")\n"
      ]
    },
    {
      "cell_type": "markdown",
      "metadata": {
        "id": "97kVtaWOutFD"
      },
      "source": [
        "## Visualizing the data\n",
        "\n",
        "\n"
      ]
    },
    {
      "cell_type": "code",
      "execution_count": 2,
      "metadata": {
        "id": "Rn9zlRDcenHJ"
      },
      "outputs": [
        {
          "name": "stdout",
          "output_type": "stream",
          "text": [
            "       0       1       2       3       4       5       6       7       8   \\\n",
            "0  0.0065  0.0130  0.0195  0.0260  0.0325  0.0390  0.0455  0.0520  0.0585   \n",
            "1  0.0263  0.0526  0.0789  0.1052  0.1316  0.1579  0.1842  0.2105  0.2368   \n",
            "2  0.0176  0.0352  0.0528  0.0704  0.0881  0.1057  0.1233  0.1409  0.1585   \n",
            "3  0.0222  0.0444  0.0666  0.0888  0.1110  0.1332  0.1554  0.1776  0.1998   \n",
            "4  0.0189  0.0379  0.0568  0.0758  0.0947  0.1137  0.1326  0.1516  0.1705   \n",
            "\n",
            "       9   ...      45      46      47      48      49      50      51  \\\n",
            "0  0.0650  ...  0.0316  0.0368  0.0312  0.0000  0.0316  0.0364  0.0304   \n",
            "1  0.2631  ...  0.0316  0.0368  0.0312  0.0000  0.0316  0.0364  0.0304   \n",
            "2  0.1761  ...  0.0316  0.0368  0.0312  0.0312  0.0316  0.0299  0.0304   \n",
            "3  0.2220  ...  0.0316  0.0307  0.0312  0.0000  0.0360  0.0364  0.0304   \n",
            "4  0.1895  ...  0.0316  0.0368  0.0312  0.0000  0.0316  0.0364  0.0304   \n",
            "\n",
            "       52      53  54  \n",
            "0  0.0604  0.9960   1  \n",
            "1  0.0604  0.9960   1  \n",
            "2  0.0604  0.9957   1  \n",
            "3  0.0604  0.9900   1  \n",
            "4  0.0604  0.9862   1  \n",
            "\n",
            "[5 rows x 55 columns]\n"
          ]
        },
        {
          "data": {
            "image/png": "[encoded data removed]",
            "text/plain": [
              "<Figure size 1000x600 with 1 Axes>"
            ]
          },
          "metadata": {},
          "output_type": "display_data"
        }
      ],
      "source": [
        "import matplotlib.pyplot as plt\n",
        "import numpy as np\n",
        "import pandas as pd\n",
        "\n",
        "def plot_ifs_histogram(data_row):\n",
        "    \"\"\"\n",
        "    Plots the Inter-Frame Space (IFS) histogram from a single row of the dataset.\n",
        "\n",
        "    Args:\n",
        "        data_row (list or numpy.ndarray): A list or array representing a single row\n",
        "                                          in the format (x1, ..., x26, y1, ..., y26, s, r, l).\n",
        "    \"\"\"\n",
        "\n",
        "    # Get IFS values and the corresponding counts\n",
        "    x_values = np.array(data_row[:26])\n",
        "    y_counts = np.array(data_row[26:52])\n",
        "\n",
        "    # Calculate the bin edges based on x_values\n",
        "    bin_edges = [0] + list(x_values)\n",
        "\n",
        "    # Create the histogram plot\n",
        "    plt.figure(figsize=(10, 6))\n",
        "    plt.bar(bin_edges[:-1], y_counts, width=np.diff(bin_edges)[0], align='edge', alpha=0.7)\n",
        "\n",
        "    # Add labels and title\n",
        "    plt.xlabel(\"IFS Duration (ms)\")\n",
        "    plt.ylabel(\"Counts\")\n",
        "    plt.title(\"Inter-Frame Space (IFS) Histogram\")\n",
        "    plt.grid(axis='y', linestyle='--')\n",
        "\n",
        "    # Show the plot\n",
        "    plt.show()\n",
        "\n",
        "# Example usage\n",
        "\n",
        "# -> Read the data file\n",
        "file_name = mypath + '/train_data.csv'\n",
        "train_data_df = pd.read_csv(file_name, header=None)\n",
        "print(train_data_df.head())\n",
        "\n",
        "# -> Get a sample from the dataset and plot it\n",
        "row_index = 1\n",
        "sample_data = train_data_df.iloc[row_index].values\n",
        "plot_ifs_histogram(sample_data)"
      ]
    },
    {
      "cell_type": "markdown",
      "metadata": {
        "id": "bTAXUX5lN9KF"
      },
      "source": [
        "## EXERCISES"
      ]
    },
    {
      "cell_type": "markdown",
      "metadata": {
        "id": "weqFFp6eShJg"
      },
      "source": [
        "### Exercise 1:\n",
        "Define an approach for training and validating the model you are going to train with the proposed data. Then, perform the split accordingly."
      ]
    },
    {
      "cell_type": "markdown",
      "metadata": {},
      "source": [
        "### Response\n",
        "\n",
        "\n",
        "Since this is a **supervised binary classification** task (`l ∈ {0, 1}`), we start by loading the `train_data.csv` and `test_data.csv` datasets.\n",
        "\n",
        "Even though a test set is already provided, we will **further split the training dataset** into:\n",
        "- A **training subset** (80%)\n",
        "- A **validation subset** (20%)\n",
        "\n",
        "This allows us to evaluate model generalization during development and hyperparameter tuning.\n",
        "\n",
        "We will perform a **stratified split** to preserve the proportion of saturated (`l=1`) and non-saturated (`l=0`) classes across both subsets.  \n",
        "This is important in binary classification tasks where class imbalance may bias the model.\n",
        "\n",
        "The **test set will remain untouched** until the final evaluation in Exercise 6.\n",
        "\n",
        "\n",
        "\n"
      ]
    },
    {
      "cell_type": "code",
      "execution_count": 14,
      "metadata": {
        "id": "o3tirZCOSkNC"
      },
      "outputs": [
        {
          "name": "stdout",
          "output_type": "stream",
          "text": [
            "Train set size: (16000, 54), Validation set size: (4000, 54)\n",
            "Training class distribution:\n",
            "l\n",
            "0    0.500062\n",
            "1    0.499937\n",
            "Name: proportion, dtype: float64\n",
            "Validation class distribution:\n",
            "l\n",
            "1    0.5\n",
            "0    0.5\n",
            "Name: proportion, dtype: float64\n"
          ]
        }
      ],
      "source": [
        "# (response to exercise 1)\n",
        "import pandas as pd\n",
        "from sklearn.model_selection import train_test_split\n",
        "\n",
        "# Generate the column names\n",
        "x_cols = [f'x{i+1}' for i in range(26)]\n",
        "y_cols = [f'y{i+1}' for i in range(26)]\n",
        "other_cols = ['s', 'r', 'l']\n",
        "all_cols = x_cols + y_cols + other_cols\n",
        "\n",
        "# Load the CSVs with custom column names\n",
        "train_df = pd.read_csv(\"dataset_Lab2/train_data.csv\", header=None, names=all_cols)\n",
        "test_df = pd.read_csv(\"dataset_Lab2/test_data.csv\", header=None, names=all_cols)\n",
        "\n",
        "# Separate features and label\n",
        "X = train_df.drop(columns=['l'])\n",
        "y = train_df['l']\n",
        "\n",
        "# Split into train and validation (80% train / 20% validation)\n",
        "X_train, X_val, y_train, y_val = train_test_split(\n",
        "    X, y, test_size=0.2, random_state=42, stratify=y\n",
        ")\n",
        "\n",
        "print(f\"Train set size: {X_train.shape}, Validation set size: {X_val.shape}\")\n",
        "print(\"Training class distribution:\")\n",
        "print(y_train.value_counts(normalize=True))\n",
        "print(\"Validation class distribution:\")\n",
        "print(y_val.value_counts(normalize=True))\n",
        "\n"
      ]
    },
    {
      "cell_type": "markdown",
      "metadata": {
        "id": "E3vAU830SmuR"
      },
      "source": [
        "### Exercise 2:\n",
        "\n",
        "Define your ML model, so that it can be called for training and test. Examples of approaches that you could use (but not limited to):\n",
        "\n",
        "*   Logistic Regression\n",
        "*   K-Nearest Neighbors (KNN)\n",
        "*   Decision Trees or Random Forests\n",
        "*   Convolutional Neural Network (CNN)"
      ]
    },
    {
      "cell_type": "markdown",
      "metadata": {},
      "source": [
        "### Response"
      ]
    },
    {
      "cell_type": "markdown",
      "metadata": {},
      "source": [
        "\n",
        "### ✅ Model Selection and Justification\n",
        "\n",
        "Given the characteristics of the problem:\n",
        "\n",
        "- This is a **binary classification** task (`l ∈ {0, 1}`)\n",
        "- The dataset is **tabular** and of moderate size\n",
        "- Later exercises (e.g., Exercise 4) explicitly require us to **track the evolution of training and validation loss over time**\n",
        "\n",
        "We choose to implement a **Multi-Layer Perceptron (MLP)** using **PyTorch**.\n",
        "\n",
        "This model is appropriate because:\n",
        "\n",
        "- It can **model non-linear decision boundaries**, unlike simpler models such as logistic regression\n",
        "- It gives us full **control over the training process**, which allows us to manually track and visualize training/validation losses epoch-by-epoch\n",
        "- It is lightweight and efficient enough to train on small-to-medium datasets without overfitting (when regularized properly)\n",
        "\n",
        "---\n",
        "\n",
        "### 🧱 Model Architecture\n",
        "\n",
        "The selected architecture is a simple feedforward neural network with:\n",
        "\n",
        "- **Input layer:** Matches the number of input features (54 in our case)\n",
        "- **Hidden layers:** Two fully connected layers with ReLU activations\n",
        "- **Output layer:** A single neuron with sigmoid activation, producing a probability in [0, 1]\n",
        "\n",
        "\n"
      ]
    },
    {
      "cell_type": "code",
      "execution_count": 20,
      "metadata": {},
      "outputs": [
        {
          "name": "stdout",
          "output_type": "stream",
          "text": [
            "Collecting torch\n",
            "  Using cached torch-2.7.0-cp312-cp312-win_amd64.whl.metadata (29 kB)\n",
            "Collecting filelock (from torch)\n",
            "  Using cached filelock-3.18.0-py3-none-any.whl.metadata (2.9 kB)\n",
            "Requirement already satisfied: typing-extensions>=4.10.0 in c:\\users\\alber\\appdata\\local\\programs\\python\\python312\\lib\\site-packages (from torch) (4.13.2)\n",
            "Requirement already satisfied: sympy>=1.13.3 in c:\\users\\alber\\appdata\\local\\programs\\python\\python312\\lib\\site-packages (from torch) (1.14.0)\n",
            "Collecting networkx (from torch)\n",
            "  Using cached networkx-3.5-py3-none-any.whl.metadata (6.3 kB)\n",
            "Collecting jinja2 (from torch)\n",
            "  Using cached jinja2-3.1.6-py3-none-any.whl.metadata (2.9 kB)\n",
            "Collecting fsspec (from torch)\n",
            "  Using cached fsspec-2025.5.1-py3-none-any.whl.metadata (11 kB)\n",
            "Collecting setuptools (from torch)\n",
            "  Using cached setuptools-80.9.0-py3-none-any.whl.metadata (6.6 kB)\n",
            "Requirement already satisfied: mpmath<1.4,>=1.1.0 in c:\\users\\alber\\appdata\\local\\programs\\python\\python312\\lib\\site-packages (from sympy>=1.13.3->torch) (1.3.0)\n",
            "Collecting MarkupSafe>=2.0 (from jinja2->torch)\n",
            "  Using cached MarkupSafe-3.0.2-cp312-cp312-win_amd64.whl.metadata (4.1 kB)\n",
            "Using cached torch-2.7.0-cp312-cp312-win_amd64.whl (212.5 MB)\n",
            "Using cached filelock-3.18.0-py3-none-any.whl (16 kB)\n",
            "Using cached fsspec-2025.5.1-py3-none-any.whl (199 kB)\n",
            "Using cached jinja2-3.1.6-py3-none-any.whl (134 kB)\n",
            "Using cached networkx-3.5-py3-none-any.whl (2.0 MB)\n",
            "Using cached setuptools-80.9.0-py3-none-any.whl (1.2 MB)\n",
            "Using cached MarkupSafe-3.0.2-cp312-cp312-win_amd64.whl (15 kB)\n",
            "Installing collected packages: setuptools, networkx, MarkupSafe, fsspec, filelock, jinja2, torch\n",
            "Successfully installed MarkupSafe-3.0.2 filelock-3.18.0 fsspec-2025.5.1 jinja2-3.1.6 networkx-3.5 setuptools-80.9.0 torch-2.7.0\n",
            "Note: you may need to restart the kernel to use updated packages.\n"
          ]
        },
        {
          "name": "stderr",
          "output_type": "stream",
          "text": [
            "  WARNING: The scripts torchfrtrace.exe and torchrun.exe are installed in 'c:\\Users\\alber\\AppData\\Local\\Programs\\Python\\Python312\\Scripts' which is not on PATH.\n",
            "  Consider adding this directory to PATH or, if you prefer to suppress this warning, use --no-warn-script-location.\n",
            "\n",
            "[notice] A new release of pip is available: 24.0 -> 25.1.1\n",
            "[notice] To update, run: python.exe -m pip install --upgrade pip\n"
          ]
        }
      ],
      "source": [
        "pip install torch"
      ]
    },
    {
      "cell_type": "code",
      "execution_count": 21,
      "metadata": {
        "id": "PTjjIcWDS3yC"
      },
      "outputs": [
        {
          "name": "stdout",
          "output_type": "stream",
          "text": [
            "Using device: cpu\n",
            "MLPClassifier(\n",
            "  (fc1): Linear(in_features=54, out_features=64, bias=True)\n",
            "  (fc2): Linear(in_features=64, out_features=32, bias=True)\n",
            "  (output): Linear(in_features=32, out_features=1, bias=True)\n",
            ")\n"
          ]
        }
      ],
      "source": [
        "\n",
        "import torch\n",
        "import torch.nn as nn\n",
        "import torch.nn.functional as F\n",
        "\n",
        "# Set device (GPU if available)\n",
        "device = torch.device(\"cuda\" if torch.cuda.is_available() else \"cpu\")\n",
        "print(f\"Using device: {device}\")\n",
        "\n",
        "# Define the MLP model\n",
        "class MLPClassifier(nn.Module):\n",
        "    def __init__(self, input_dim):\n",
        "        super(MLPClassifier, self).__init__()\n",
        "        self.fc1 = nn.Linear(input_dim, 64)\n",
        "        self.fc2 = nn.Linear(64, 32)\n",
        "        self.output = nn.Linear(32, 1)  # Binary classification\n",
        "\n",
        "    def forward(self, x):\n",
        "        x = F.relu(self.fc1(x))\n",
        "        x = F.relu(self.fc2(x))\n",
        "        x = torch.sigmoid(self.output(x))  # Probabilities in [0, 1]\n",
        "        return x\n",
        "\n",
        "# Instantiate model\n",
        "input_dim = X_train.shape[1]  # 54 features\n",
        "model = MLPClassifier(input_dim).to(device)\n",
        "print(model)\n"
      ]
    },
    {
      "cell_type": "markdown",
      "metadata": {
        "id": "7hgfWEriSpMa"
      },
      "source": [
        "### Exercise 3:\n",
        "\n",
        "Define the hyperparameters that you will use to train the model."
      ]
    },
    {
      "cell_type": "markdown",
      "metadata": {},
      "source": [
        "### Response\n",
        "\n",
        "To effectively train our MLP model, we need to define several key hyperparameters that control the learning process:\n",
        "\n",
        "- **Loss Function**:  \n",
        "  We use **Binary Cross-Entropy Loss** (`BCELoss`) because our task is binary classification (`l ∈ {0, 1}`), and the model outputs probabilities through a sigmoid activation.\n",
        "\n",
        "- **Optimizer**:  \n",
        "  We choose the **Adam optimizer**, which is widely used in deep learning due to its efficiency and adaptive learning rate capabilities.\n",
        "\n",
        "- **Learning Rate**:  \n",
        "  Set to **0.001**, which is a common default value that offers a good balance between convergence speed and stability.\n",
        "\n",
        "- **Number of Epochs**:  \n",
        "  Set to **50** to allow the model to learn gradually and give us the opportunity to observe the evolution of loss over time.\n",
        "\n",
        "- **Batch Size**:  \n",
        "  We set the batch size to **32**, which is standard for many small and medium datasets, ensuring stable gradient updates without excessive memory usage.\n",
        "\n",
        "> ℹ️ These hyperparameters were already initialized in the code for Exercise 2, and we will use them consistently in the training procedure in the next exercise. They can be fine-tuned later based on performance.\n",
        "\n"
      ]
    },
    {
      "cell_type": "code",
      "execution_count": 22,
      "metadata": {
        "id": "PqgnnqflZ8R3"
      },
      "outputs": [],
      "source": [
        "\n",
        "\n",
        "import torch\n",
        "import torch.nn as nn\n",
        "import torch.optim as optim\n",
        "\n",
        "# Define hyperparameters for training\n",
        "learning_rate = 0.001\n",
        "num_epochs = 50\n",
        "batch_size = 32\n",
        "\n",
        "# Loss function for binary classification\n",
        "criterion = nn.BCELoss()\n",
        "\n",
        "# Optimizer for training the model\n",
        "optimizer = optim.Adam(model.parameters(), lr=learning_rate)\n",
        "\n"
      ]
    },
    {
      "cell_type": "markdown",
      "metadata": {
        "id": "zGXDiQQEZ5vL"
      },
      "source": [
        "### Exercise 4:\n",
        "Train the model and show the procedure (e.g., evolution of the training/validation loss)."
      ]
    },
    {
      "cell_type": "markdown",
      "metadata": {},
      "source": [
        "### Response\n",
        "\n",
        "In this exercise, we train our Multi-Layer Perceptron (MLP) model on the training data while monitoring the evolution of the **training loss** and **validation loss** over epochs.\n",
        "\n",
        "- **Training loss** tells us how well the model fits the training data.\n",
        "- **Validation loss** measures the model's ability to generalize to unseen data during training.\n",
        "- Monitoring both helps detect overfitting (validation loss increasing while training loss decreases) or underfitting (both losses remain high).\n",
        "\n",
        "We will train the model for a fixed number of epochs, compute losses after each epoch, and plot their evolution to understand the learning dynamics.\n",
        "\n",
        "\n",
        "\n"
      ]
    },
    {
      "cell_type": "code",
      "execution_count": 23,
      "metadata": {
        "id": "8AhYwVhNfWGA"
      },
      "outputs": [
        {
          "name": "stdout",
          "output_type": "stream",
          "text": [
            "Epoch 1/50 — Train Loss: 0.2025 — Val Loss: 0.1421\n",
            "Epoch 2/50 — Train Loss: 0.1079 — Val Loss: 0.1013\n",
            "Epoch 3/50 — Train Loss: 0.0904 — Val Loss: 0.0911\n",
            "Epoch 4/50 — Train Loss: 0.0829 — Val Loss: 0.0807\n",
            "Epoch 5/50 — Train Loss: 0.0744 — Val Loss: 0.0773\n",
            "Epoch 6/50 — Train Loss: 0.0734 — Val Loss: 0.0728\n",
            "Epoch 7/50 — Train Loss: 0.0674 — Val Loss: 0.0745\n",
            "Epoch 8/50 — Train Loss: 0.0676 — Val Loss: 0.0673\n",
            "Epoch 9/50 — Train Loss: 0.0667 — Val Loss: 0.0701\n",
            "Epoch 10/50 — Train Loss: 0.0621 — Val Loss: 0.0665\n",
            "Epoch 11/50 — Train Loss: 0.0607 — Val Loss: 0.0840\n",
            "Epoch 12/50 — Train Loss: 0.0629 — Val Loss: 0.0805\n",
            "Epoch 13/50 — Train Loss: 0.0598 — Val Loss: 0.0809\n",
            "Epoch 14/50 — Train Loss: 0.0595 — Val Loss: 0.0652\n",
            "Epoch 15/50 — Train Loss: 0.0573 — Val Loss: 0.0675\n",
            "Epoch 16/50 — Train Loss: 0.0578 — Val Loss: 0.0706\n",
            "Epoch 17/50 — Train Loss: 0.0556 — Val Loss: 0.0768\n",
            "Epoch 18/50 — Train Loss: 0.0572 — Val Loss: 0.0600\n",
            "Epoch 19/50 — Train Loss: 0.0573 — Val Loss: 0.0707\n",
            "Epoch 20/50 — Train Loss: 0.0549 — Val Loss: 0.0563\n",
            "Epoch 21/50 — Train Loss: 0.0549 — Val Loss: 0.0573\n",
            "Epoch 22/50 — Train Loss: 0.0569 — Val Loss: 0.0664\n",
            "Epoch 23/50 — Train Loss: 0.0550 — Val Loss: 0.0660\n",
            "Epoch 24/50 — Train Loss: 0.0533 — Val Loss: 0.0615\n",
            "Epoch 25/50 — Train Loss: 0.0530 — Val Loss: 0.0581\n",
            "Epoch 26/50 — Train Loss: 0.0531 — Val Loss: 0.0544\n",
            "Epoch 27/50 — Train Loss: 0.0518 — Val Loss: 0.0553\n",
            "Epoch 28/50 — Train Loss: 0.0515 — Val Loss: 0.0545\n",
            "Epoch 29/50 — Train Loss: 0.0518 — Val Loss: 0.0542\n",
            "Epoch 30/50 — Train Loss: 0.0510 — Val Loss: 0.0522\n",
            "Epoch 31/50 — Train Loss: 0.0504 — Val Loss: 0.0525\n",
            "Epoch 32/50 — Train Loss: 0.0479 — Val Loss: 0.0548\n",
            "Epoch 33/50 — Train Loss: 0.0502 — Val Loss: 0.0707\n",
            "Epoch 34/50 — Train Loss: 0.0461 — Val Loss: 0.0555\n",
            "Epoch 35/50 — Train Loss: 0.0498 — Val Loss: 0.0595\n",
            "Epoch 36/50 — Train Loss: 0.0460 — Val Loss: 0.0538\n",
            "Epoch 37/50 — Train Loss: 0.0448 — Val Loss: 0.0524\n",
            "Epoch 38/50 — Train Loss: 0.0459 — Val Loss: 0.0505\n",
            "Epoch 39/50 — Train Loss: 0.0439 — Val Loss: 0.0474\n",
            "Epoch 40/50 — Train Loss: 0.0421 — Val Loss: 0.0672\n",
            "Epoch 41/50 — Train Loss: 0.0426 — Val Loss: 0.0515\n",
            "Epoch 42/50 — Train Loss: 0.0417 — Val Loss: 0.0451\n",
            "Epoch 43/50 — Train Loss: 0.0421 — Val Loss: 0.0473\n",
            "Epoch 44/50 — Train Loss: 0.0405 — Val Loss: 0.0522\n",
            "Epoch 45/50 — Train Loss: 0.0390 — Val Loss: 0.0532\n",
            "Epoch 46/50 — Train Loss: 0.0394 — Val Loss: 0.0555\n",
            "Epoch 47/50 — Train Loss: 0.0396 — Val Loss: 0.0576\n",
            "Epoch 48/50 — Train Loss: 0.0380 — Val Loss: 0.0402\n",
            "Epoch 49/50 — Train Loss: 0.0372 — Val Loss: 0.0433\n",
            "Epoch 50/50 — Train Loss: 0.0370 — Val Loss: 0.0483\n"
          ]
        },
        {
          "data": {
            "image/png": "[encoded data removed]",
            "text/plain": [
              "<Figure size 800x500 with 1 Axes>"
            ]
          },
          "metadata": {},
          "output_type": "display_data"
        }
      ],
      "source": [
        "import numpy as np\n",
        "from torch.utils.data import TensorDataset, DataLoader\n",
        "\n",
        "# Convert numpy arrays to PyTorch tensors\n",
        "X_train_tensor = torch.tensor(X_train.values, dtype=torch.float32)\n",
        "y_train_tensor = torch.tensor(y_train.values, dtype=torch.float32).view(-1, 1)\n",
        "X_val_tensor = torch.tensor(X_val.values, dtype=torch.float32)\n",
        "y_val_tensor = torch.tensor(y_val.values, dtype=torch.float32).view(-1, 1)\n",
        "\n",
        "# Create DataLoader for training data\n",
        "train_dataset = TensorDataset(X_train_tensor, y_train_tensor)\n",
        "train_loader = DataLoader(train_dataset, batch_size=batch_size, shuffle=True)\n",
        "\n",
        "# Validation data (no batching needed)\n",
        "val_dataset = TensorDataset(X_val_tensor, y_val_tensor)\n",
        "\n",
        "# Store loss values for plotting\n",
        "train_losses = []\n",
        "val_losses = []\n",
        "\n",
        "for epoch in range(num_epochs):\n",
        "    model.train()\n",
        "    running_train_loss = 0.0\n",
        "\n",
        "    for inputs, targets in train_loader:\n",
        "        optimizer.zero_grad()\n",
        "        outputs = model(inputs)\n",
        "        loss = criterion(outputs, targets)\n",
        "        loss.backward()\n",
        "        optimizer.step()\n",
        "        running_train_loss += loss.item() * inputs.size(0)\n",
        "\n",
        "    epoch_train_loss = running_train_loss / len(train_loader.dataset)\n",
        "    train_losses.append(epoch_train_loss)\n",
        "\n",
        "    # Evaluate on validation set\n",
        "    model.eval()\n",
        "    with torch.no_grad():\n",
        "        val_outputs = model(X_val_tensor)\n",
        "        val_loss = criterion(val_outputs, y_val_tensor).item()\n",
        "        val_losses.append(val_loss)\n",
        "\n",
        "    print(f\"Epoch {epoch+1}/{num_epochs} — Train Loss: {epoch_train_loss:.4f} — Val Loss: {val_loss:.4f}\")\n",
        "\n",
        "# Plot training and validation loss\n",
        "import matplotlib.pyplot as plt\n",
        "\n",
        "plt.figure(figsize=(8,5))\n",
        "plt.plot(range(1, num_epochs+1), train_losses, label='Training Loss')\n",
        "plt.plot(range(1, num_epochs+1), val_losses, label='Validation Loss')\n",
        "plt.xlabel('Epoch')\n",
        "plt.ylabel('Loss')\n",
        "plt.title('Training and Validation Loss over Epochs')\n",
        "plt.legend()\n",
        "plt.grid(True)\n",
        "plt.show()\n"
      ]
    },
    {
      "cell_type": "markdown",
      "metadata": {},
      "source": [
        "### 📊 Analysis of Training and Validation Loss\n",
        "\n",
        "The training procedure over 50 epochs demonstrates a clear and consistent **downward trend** in both training and validation loss, which indicates that the model is effectively learning and generalizing.\n",
        "\n",
        "**Key observations:**\n",
        "\n",
        "- **Initial improvement (Epochs 1–10):**  \n",
        "  Both training and validation loss decrease rapidly during the first few epochs. This suggests that the model quickly learns meaningful patterns from the data.\n",
        "\n",
        "- **Stable convergence (Epochs 10–30):**  \n",
        "  After the initial drop, the losses plateau with mild fluctuations. This behavior is typical and expected as the model fine-tunes its weights.\n",
        "\n",
        "- **Low overfitting risk:**  \n",
        "  The validation loss closely follows the training loss across all epochs, and there is no sign of divergence. This indicates **minimal overfitting** and good generalization to unseen data.\n",
        "\n",
        "- **Final loss values:**  \n",
        "  - Final **training loss**: 0.0370  \n",
        "  - Final **validation loss**: 0.0483  \n",
        "  These low values suggest that the model fits the data well and is likely performing accurately in distinguishing between saturated and non-saturated network conditions.\n",
        "\n",
        "> ✅ The model shows stable learning behavior and is ready for further evaluation and possible deployment. We can now proceed with performance evaluation (Exercise 5) and testing on the unseen dataset (Exercise 6).\n"
      ]
    },
    {
      "cell_type": "markdown",
      "metadata": {
        "id": "Uy_SulYKeEn4"
      },
      "source": [
        "### Exercise 5:\n",
        "\n",
        "Select and define the most appropriate evaluation metric(s). Discuss the appropriateness of your evaluation metrics for the binary classification problem we are considering."
      ]
    },
    {
      "cell_type": "markdown",
      "metadata": {},
      "source": [
        "### Response\n",
        "\n",
        "To assess the performance of our binary classifier, we select several **evaluation metrics** that capture different aspects of model performance. Since this is a **binary classification task** (`label ∈ {0, 1}`), we focus on metrics that go beyond simple accuracy to account for possible class imbalances and differing costs of false positives vs. false negatives.\n",
        "\n",
        "---\n",
        "\n",
        "#### 📌 Selected Metrics\n",
        "\n",
        "1. **Accuracy**\n",
        "   - **Definition**: Proportion of correct predictions among total predictions.\n",
        "   - **Usefulness**: Gives a general idea of overall performance but can be misleading if classes are imbalanced.\n",
        "\n",
        "2. **Precision**\n",
        "   - **Definition**: Proportion of predicted positives that are actually positive.\n",
        "   - **Usefulness**: Important when the cost of false positives is high. For example, we want to avoid incorrectly flagging a network as saturated if it’s not.\n",
        "\n",
        "3. **Recall (Sensitivity)**\n",
        "   - **Definition**: Proportion of actual positives that are correctly identified.\n",
        "   - **Usefulness**: Critical when missing a true positive (i.e., not detecting a saturated network) is costly or dangerous.\n",
        "\n",
        "4. **F1-Score**\n",
        "   - **Definition**: Harmonic mean of precision and recall.\n",
        "   - **Usefulness**: A balanced measure when we care about both false positives and false negatives.\n",
        "\n",
        "5. **ROC-AUC (Receiver Operating Characteristic – Area Under the Curve)**\n",
        "   - **Definition**: Measures the ability of the model to discriminate between the two classes across all thresholds.\n",
        "   - **Usefulness**: Especially helpful in evaluating binary classifiers regardless of class distribution or decision threshold.\n",
        "\n",
        "---\n",
        "\n",
        "#### 🧠 We have choosen these metrics because...\n",
        "\n",
        "- Our task involves **detecting saturated network conditions**, which may not be equally distributed compared to non-saturated ones.\n",
        "- We want to ensure **high recall** (to catch as many true saturated cases as possible), while maintaining **reasonable precision** (to avoid excessive false alarms).\n",
        "- The **F1-score** provides a robust single-number summary.\n",
        "- **ROC-AUC** gives a threshold-independent evaluation of classifier discrimination capability.\n",
        "\n",
        "> ✅ By combining these metrics, we obtain a **holistic view** of the model's performance, both in terms of correctness and risk mitigation.\n",
        "\n"
      ]
    },
    {
      "cell_type": "code",
      "execution_count": 24,
      "metadata": {
        "id": "TB4TAqiAeNXk"
      },
      "outputs": [],
      "source": [
        "\n",
        "\n",
        "from sklearn.metrics import accuracy_score, precision_score, recall_score, f1_score, roc_auc_score\n",
        "\n",
        "# These functions will be used in Exercise 6 to evaluate the model's performance on the test set\n",
        "# No need to apply them now — just define that they are ready to be used\n"
      ]
    },
    {
      "cell_type": "markdown",
      "metadata": {
        "id": "LafMStmKfW4-"
      },
      "source": [
        "### Exercise 6:\n",
        "\n",
        "Evaluate your trained model on the test set, using the evaluation metrics that you have proposed. Remember that the test data should have not been seen by the model, so that we can properly estimate of its generalization capabilities."
      ]
    },
    {
      "cell_type": "code",
      "execution_count": null,
      "metadata": {
        "id": "2Eb3K84dgTb1"
      },
      "outputs": [],
      "source": [
        "# (response to exercise 6)"
      ]
    }
  ],
  "metadata": {
    "colab": {
      "provenance": []
    },
    "kernelspec": {
      "display_name": "Python 3",
      "name": "python3"
    },
    "language_info": {
      "codemirror_mode": {
        "name": "ipython",
        "version": 3
      },
      "file_extension": ".py",
      "mimetype": "text/x-python",
      "name": "python",
      "nbconvert_exporter": "python",
      "pygments_lexer": "ipython3",
      "version": "3.12.3"
    }
  },
  "nbformat": 4,
  "nbformat_minor": 0
}
