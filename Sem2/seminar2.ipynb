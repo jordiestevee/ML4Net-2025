{
 "cells": [
  {
   "cell_type": "markdown",
   "id": "5ff6d2df",
   "metadata": {},
   "source": [
    "PART 1"
   ]
  },
  {
   "cell_type": "code",
   "execution_count": 3,
   "id": "5146f2d1",
   "metadata": {},
   "outputs": [],
   "source": [
    "def plot_skeleton_from_csv(index, skeleton_file, label_file):\n",
    "    import pandas as pd\n",
    "    import numpy as np\n",
    "    import matplotlib.pyplot as plt\n",
    "\n",
    "    skeleton_df = pd.read_csv(skeleton_file)\n",
    "    label_df = pd.read_csv(label_file)\n",
    "\n",
    "    row = skeleton_df.iloc[index]\n",
    "    label = label_df.iloc[index]['label']\n",
    "\n",
    "    # Reshape flattened coords into (num_joints, 2)\n",
    "    coords = row.values.astype(float).reshape(-1, 2)\n",
    "    \n",
    "    # Now plot\n",
    "    plot_skeleton(coords, label)\n"
   ]
  },
  {
   "cell_type": "code",
   "execution_count": 1,
   "id": "fe3f7833",
   "metadata": {},
   "outputs": [],
   "source": [
    "def plot_avg_csi_amplitude(csv_file='Train_feaures.csv'):\n",
    "    import pandas as pd\n",
    "    import matplotlib.pyplot as plt\n",
    "\n",
    "    df = pd.read_csv(csv_file)\n",
    "    csi_cols = [col for col in df.columns if 'CSI' in col or col.startswith('subcarrier')]\n",
    "    avg_csi = df[csi_cols].abs().mean()\n",
    "\n",
    "    plt.figure()\n",
    "    plt.plot(avg_csi.values)\n",
    "    plt.xlabel(\"Subcarrier Index\")\n",
    "    plt.ylabel(\"Average CSI Amplitude\")\n",
    "    plt.title(\"Average CSI Amplitude per Subcarrier\")\n",
    "    plt.grid(True)\n",
    "    plt.show()\n"
   ]
  }
 ],
 "metadata": {
  "kernelspec": {
   "display_name": "base",
   "language": "python",
   "name": "python3"
  },
  "language_info": {
   "codemirror_mode": {
    "name": "ipython",
    "version": 3
   },
   "file_extension": ".py",
   "mimetype": "text/x-python",
   "name": "python",
   "nbconvert_exporter": "python",
   "pygments_lexer": "ipython3",
   "version": "3.11.5"
  }
 },
 "nbformat": 4,
 "nbformat_minor": 5
}
