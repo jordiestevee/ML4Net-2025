{
 "cells": [
  {
   "cell_type": "markdown",
   "id": "5ff6d2df",
   "metadata": {},
   "source": [
    "PART 1"
   ]
  },
  {
   "cell_type": "code",
   "execution_count": null,
   "metadata": {},
   "outputs": [],
   "source": [
    "for i to range(1,1000):\n",
    "    print(\"Albert tonto\")"
   ]
  },
  {
   "cell_type": "code",
   "execution_count": null,
   "id": "5146f2d1",
   "metadata": {},
   "outputs": [],
   "source": []
  }
 ],
 "metadata": {
  "kernelspec": {
   "display_name": "base",
   "language": "python",
   "name": "python3"
  },
  "language_info": {
   "name": "python",
   "version": "3.11.5"
  }
 },
 "nbformat": 4,
 "nbformat_minor": 5
}
