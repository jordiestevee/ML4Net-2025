{
 "cells": [
  {
   "cell_type": "markdown",
   "id": "5ff6d2df",
   "metadata": {},
   "source": [
    "PART 1"
   ]
  },
  {
   "cell_type": "code",
   "execution_count": 11,
   "id": "55347929",
   "metadata": {},
   "outputs": [
    {
     "ename": "SyntaxError",
     "evalue": "invalid syntax (2185429697.py, line 1)",
     "output_type": "error",
     "traceback": [
      "  \u001b[36mCell\u001b[39m\u001b[36m \u001b[39m\u001b[32mIn[11]\u001b[39m\u001b[32m, line 1\u001b[39m\n\u001b[31m    \u001b[39m\u001b[31mpip install matplotlib\u001b[39m\n        ^\n\u001b[31mSyntaxError\u001b[39m\u001b[31m:\u001b[39m invalid syntax\n"
     ]
    }
   ],
   "source": [
    "pip install matplotlib\n",
    "\n"
   ]
  },
  {
   "cell_type": "code",
   "execution_count": 12,
   "id": "067d9209",
   "metadata": {},
   "outputs": [],
   "source": [
    "import matplotlib.pyplot as plt\n",
    "\n",
    "def plot_skeleton(skeleton_points, label, title=\"Human Pose\"):\n",
    "    \"\"\"\n",
    "    Plot the skeleton points and display the label.\n",
    "    skeleton_points: (N, 2) array of joint positions.\n",
    "    label: String label of the pose.\n",
    "    \"\"\"\n",
    "    connections = [\n",
    "        (0, 1), (1, 2), (2, 3), (1, 4), (4, 5), (5, 6),  # Arms\n",
    "        (1, 7), (7, 8), (8, 9), (8, 10), (10, 11), (11, 12)  # Torso and Legs\n",
    "    ]\n",
    "    \n",
    "    plt.figure()\n",
    "    for (i, j) in connections:\n",
    "        x = [skeleton_points[i, 0], skeleton_points[j, 0]]\n",
    "        y = [skeleton_points[i, 1], skeleton_points[j, 1]]\n",
    "        plt.plot(x, y, 'bo-')\n",
    "    \n",
    "    plt.title(f\"{title} - {label}\")\n",
    "    plt.gca().invert_yaxis()  # Optional: for a more natural pose orientation\n",
    "    plt.grid(True)\n",
    "    plt.show()\n"
   ]
  },
  {
   "cell_type": "code",
   "execution_count": 14,
   "id": "b747f857",
   "metadata": {},
   "outputs": [
    {
     "name": "stdout",
     "output_type": "stream",
     "text": [
      "Collecting pandas\n",
      "  Downloading pandas-2.2.3-cp312-cp312-win_amd64.whl.metadata (19 kB)\n",
      "Requirement already satisfied: numpy>=1.26.0 in c:\\users\\alber\\appdata\\local\\programs\\python\\python312\\lib\\site-packages (from pandas) (2.2.6)\n",
      "Requirement already satisfied: python-dateutil>=2.8.2 in c:\\users\\alber\\appdata\\roaming\\python\\python312\\site-packages (from pandas) (2.9.0.post0)\n",
      "Collecting pytz>=2020.1 (from pandas)\n",
      "  Downloading pytz-2025.2-py2.py3-none-any.whl.metadata (22 kB)\n",
      "Collecting tzdata>=2022.7 (from pandas)\n",
      "  Downloading tzdata-2025.2-py2.py3-none-any.whl.metadata (1.4 kB)\n",
      "Requirement already satisfied: six>=1.5 in c:\\users\\alber\\appdata\\roaming\\python\\python312\\site-packages (from python-dateutil>=2.8.2->pandas) (1.17.0)\n",
      "Downloading pandas-2.2.3-cp312-cp312-win_amd64.whl (11.5 MB)\n",
      "   ---------------------------------------- 0.0/11.5 MB ? eta -:--:--\n",
      "    --------------------------------------- 0.2/11.5 MB 4.6 MB/s eta 0:00:03\n",
      "   -- ------------------------------------- 0.7/11.5 MB 5.1 MB/s eta 0:00:03\n",
      "   --- ------------------------------------ 1.1/11.5 MB 6.6 MB/s eta 0:00:02\n",
      "   ------ --------------------------------- 1.8/11.5 MB 7.5 MB/s eta 0:00:02\n",
      "   -------- ------------------------------- 2.5/11.5 MB 8.9 MB/s eta 0:00:02\n",
      "   ---------- ----------------------------- 3.1/11.5 MB 9.8 MB/s eta 0:00:01\n",
      "   -------------- ------------------------- 4.1/11.5 MB 11.0 MB/s eta 0:00:01\n",
      "   ----------------- ---------------------- 5.0/11.5 MB 11.8 MB/s eta 0:00:01\n",
      "   -------------------- ------------------- 5.9/11.5 MB 12.6 MB/s eta 0:00:01\n",
      "   ------------------------ --------------- 7.1/11.5 MB 13.3 MB/s eta 0:00:01\n",
      "   --------------------------- ------------ 7.8/11.5 MB 13.4 MB/s eta 0:00:01\n",
      "   ---------------------------- ----------- 8.2/11.5 MB 13.8 MB/s eta 0:00:01\n",
      "   ------------------------------ --------- 8.7/11.5 MB 13.2 MB/s eta 0:00:01\n",
      "   -------------------------------- ------- 9.5/11.5 MB 13.2 MB/s eta 0:00:01\n",
      "   ---------------------------------- ----- 10.0/11.5 MB 13.1 MB/s eta 0:00:01\n",
      "   ------------------------------------- -- 10.7/11.5 MB 14.9 MB/s eta 0:00:01\n",
      "   ---------------------------------------  11.5/11.5 MB 14.9 MB/s eta 0:00:01\n",
      "   ---------------------------------------  11.5/11.5 MB 14.9 MB/s eta 0:00:01\n",
      "   ---------------------------------------  11.5/11.5 MB 14.9 MB/s eta 0:00:01\n",
      "   ---------------------------------------- 11.5/11.5 MB 11.9 MB/s eta 0:00:00\n",
      "Downloading pytz-2025.2-py2.py3-none-any.whl (509 kB)\n",
      "   ---------------------------------------- 0.0/509.2 kB ? eta -:--:--\n",
      "   -------------- ------------------------- 184.3/509.2 kB ? eta -:--:--\n",
      "   ------------------------------ --------- 389.1/509.2 kB 3.4 MB/s eta 0:00:01\n",
      "   ---------------------------------------- 509.2/509.2 kB 3.5 MB/s eta 0:00:00\n",
      "Downloading tzdata-2025.2-py2.py3-none-any.whl (347 kB)\n",
      "   ---------------------------------------- 0.0/347.8 kB ? eta -:--:--\n",
      "   --------------------------------------- 347.8/347.8 kB 10.9 MB/s eta 0:00:00\n",
      "Installing collected packages: pytz, tzdata, pandas\n",
      "Successfully installed pandas-2.2.3 pytz-2025.2 tzdata-2025.2\n",
      "Note: you may need to restart the kernel to use updated packages.\n"
     ]
    },
    {
     "name": "stderr",
     "output_type": "stream",
     "text": [
      "\n",
      "[notice] A new release of pip is available: 24.0 -> 25.1.1\n",
      "[notice] To update, run: python.exe -m pip install --upgrade pip\n"
     ]
    }
   ],
   "source": [
    "pip install pandas"
   ]
  },
  {
   "cell_type": "code",
   "execution_count": 15,
   "id": "05e9af17",
   "metadata": {},
   "outputs": [],
   "source": [
    "import pandas as pd\n",
    "import numpy as np\n",
    "\n",
    "def plot_avg_csi_amplitude(csv_file):\n",
    "    df = pd.read_csv(csv_file)\n",
    "    csi_columns = [col for col in df.columns if 'csi' in col.lower()]\n",
    "    avg_csi = df[csi_columns].mean()\n",
    "    \n",
    "    plt.figure(figsize=(12, 4))\n",
    "    plt.plot(avg_csi)\n",
    "    plt.title(\"Average CSI Amplitude per Subcarrier\")\n",
    "    plt.xlabel(\"Subcarrier Index\")\n",
    "    plt.ylabel(\"Amplitude\")\n",
    "    plt.grid(True)\n",
    "    plt.show()\n"
   ]
  },
  {
   "cell_type": "code",
   "execution_count": 19,
   "id": "44cc88d1",
   "metadata": {},
   "outputs": [
    {
     "name": "stdout",
     "output_type": "stream",
     "text": [
      "Collecting seaborn\n",
      "  Downloading seaborn-0.13.2-py3-none-any.whl.metadata (5.4 kB)\n",
      "Requirement already satisfied: numpy!=1.24.0,>=1.20 in c:\\users\\alber\\appdata\\local\\programs\\python\\python312\\lib\\site-packages (from seaborn) (2.2.6)\n",
      "Requirement already satisfied: pandas>=1.2 in c:\\users\\alber\\appdata\\local\\programs\\python\\python312\\lib\\site-packages (from seaborn) (2.2.3)\n",
      "Requirement already satisfied: matplotlib!=3.6.1,>=3.4 in c:\\users\\alber\\appdata\\local\\programs\\python\\python312\\lib\\site-packages (from seaborn) (3.10.3)\n",
      "Requirement already satisfied: contourpy>=1.0.1 in c:\\users\\alber\\appdata\\local\\programs\\python\\python312\\lib\\site-packages (from matplotlib!=3.6.1,>=3.4->seaborn) (1.3.2)\n",
      "Requirement already satisfied: cycler>=0.10 in c:\\users\\alber\\appdata\\local\\programs\\python\\python312\\lib\\site-packages (from matplotlib!=3.6.1,>=3.4->seaborn) (0.12.1)\n",
      "Requirement already satisfied: fonttools>=4.22.0 in c:\\users\\alber\\appdata\\local\\programs\\python\\python312\\lib\\site-packages (from matplotlib!=3.6.1,>=3.4->seaborn) (4.58.0)\n",
      "Requirement already satisfied: kiwisolver>=1.3.1 in c:\\users\\alber\\appdata\\local\\programs\\python\\python312\\lib\\site-packages (from matplotlib!=3.6.1,>=3.4->seaborn) (1.4.8)\n",
      "Requirement already satisfied: packaging>=20.0 in c:\\users\\alber\\appdata\\roaming\\python\\python312\\site-packages (from matplotlib!=3.6.1,>=3.4->seaborn) (25.0)\n",
      "Requirement already satisfied: pillow>=8 in c:\\users\\alber\\appdata\\local\\programs\\python\\python312\\lib\\site-packages (from matplotlib!=3.6.1,>=3.4->seaborn) (11.2.1)\n",
      "Requirement already satisfied: pyparsing>=2.3.1 in c:\\users\\alber\\appdata\\local\\programs\\python\\python312\\lib\\site-packages (from matplotlib!=3.6.1,>=3.4->seaborn) (3.2.3)\n",
      "Requirement already satisfied: python-dateutil>=2.7 in c:\\users\\alber\\appdata\\roaming\\python\\python312\\site-packages (from matplotlib!=3.6.1,>=3.4->seaborn) (2.9.0.post0)\n",
      "Requirement already satisfied: pytz>=2020.1 in c:\\users\\alber\\appdata\\local\\programs\\python\\python312\\lib\\site-packages (from pandas>=1.2->seaborn) (2025.2)\n",
      "Requirement already satisfied: tzdata>=2022.7 in c:\\users\\alber\\appdata\\local\\programs\\python\\python312\\lib\\site-packages (from pandas>=1.2->seaborn) (2025.2)\n",
      "Requirement already satisfied: six>=1.5 in c:\\users\\alber\\appdata\\roaming\\python\\python312\\site-packages (from python-dateutil>=2.7->matplotlib!=3.6.1,>=3.4->seaborn) (1.17.0)\n",
      "Downloading seaborn-0.13.2-py3-none-any.whl (294 kB)\n",
      "   ---------------------------------------- 0.0/294.9 kB ? eta -:--:--\n",
      "   ---------------------------------------- 0.0/294.9 kB ? eta -:--:--\n",
      "   ------------- -------------------------- 102.4/294.9 kB 2.0 MB/s eta 0:00:01\n",
      "   ---------------------------------------- 294.9/294.9 kB 3.0 MB/s eta 0:00:00\n",
      "Installing collected packages: seaborn\n",
      "Successfully installed seaborn-0.13.2\n",
      "Note: you may need to restart the kernel to use updated packages.\n"
     ]
    },
    {
     "name": "stderr",
     "output_type": "stream",
     "text": [
      "\n",
      "[notice] A new release of pip is available: 24.0 -> 25.1.1\n",
      "[notice] To update, run: python.exe -m pip install --upgrade pip\n"
     ]
    }
   ],
   "source": [
    "pip install seaborn"
   ]
  },
  {
   "cell_type": "code",
   "execution_count": 20,
   "id": "1335d68e",
   "metadata": {},
   "outputs": [],
   "source": [
    "\n",
    "import seaborn as sns\n",
    "\n",
    "def plot_csi_distribution_by_class(csv_file, label_column='label'):\n",
    "    df = pd.read_csv(csv_file)\n",
    "    csi_columns = [col for col in df.columns if 'csi' in col.lower()]\n",
    "    \n",
    "    for subcarrier in csi_columns:\n",
    "        plt.figure(figsize=(10, 5))\n",
    "        sns.boxplot(x=label_column, y=subcarrier, data=df)\n",
    "        plt.title(f\"Distribution of CSI Amplitude for {subcarrier}\")\n",
    "        plt.xticks(rotation=45)\n",
    "        plt.tight_layout()\n",
    "        plt.show()\n"
   ]
  },
  {
   "cell_type": "code",
   "execution_count": 29,
   "id": "017203a9",
   "metadata": {},
   "outputs": [
    {
     "name": "stdout",
     "output_type": "stream",
     "text": [
      "Collecting scikit-learn\n",
      "  Downloading scikit_learn-1.6.1-cp312-cp312-win_amd64.whl.metadata (15 kB)\n",
      "Requirement already satisfied: numpy>=1.19.5 in c:\\users\\alber\\appdata\\local\\programs\\python\\python312\\lib\\site-packages (from scikit-learn) (2.2.6)\n",
      "Collecting scipy>=1.6.0 (from scikit-learn)\n",
      "  Downloading scipy-1.15.3-cp312-cp312-win_amd64.whl.metadata (60 kB)\n",
      "     ---------------------------------------- 0.0/60.8 kB ? eta -:--:--\n",
      "     --------------------------------- ------ 51.2/60.8 kB 1.3 MB/s eta 0:00:01\n",
      "     ---------------------------------------- 60.8/60.8 kB 1.1 MB/s eta 0:00:00\n",
      "Collecting joblib>=1.2.0 (from scikit-learn)\n",
      "  Downloading joblib-1.5.1-py3-none-any.whl.metadata (5.6 kB)\n",
      "Collecting threadpoolctl>=3.1.0 (from scikit-learn)\n",
      "  Downloading threadpoolctl-3.6.0-py3-none-any.whl.metadata (13 kB)\n",
      "Downloading scikit_learn-1.6.1-cp312-cp312-win_amd64.whl (11.1 MB)\n",
      "   ---------------------------------------- 0.0/11.1 MB ? eta -:--:--\n",
      "   - -------------------------------------- 0.5/11.1 MB 14.2 MB/s eta 0:00:01\n",
      "   ---- ----------------------------------- 1.1/11.1 MB 10.3 MB/s eta 0:00:01\n",
      "   ------- -------------------------------- 2.1/11.1 MB 12.1 MB/s eta 0:00:01\n",
      "   -------- ------------------------------- 2.5/11.1 MB 11.3 MB/s eta 0:00:01\n",
      "   ------------ --------------------------- 3.5/11.1 MB 12.4 MB/s eta 0:00:01\n",
      "   --------------- ------------------------ 4.3/11.1 MB 13.1 MB/s eta 0:00:01\n",
      "   ------------------ --------------------- 5.2/11.1 MB 13.8 MB/s eta 0:00:01\n",
      "   --------------------- ------------------ 5.9/11.1 MB 14.4 MB/s eta 0:00:01\n",
      "   ----------------------- ---------------- 6.4/11.1 MB 14.2 MB/s eta 0:00:01\n",
      "   -------------------------- ------------- 7.5/11.1 MB 14.5 MB/s eta 0:00:01\n",
      "   ------------------------------ --------- 8.5/11.1 MB 14.6 MB/s eta 0:00:01\n",
      "   ------------------------------- -------- 8.8/11.1 MB 14.4 MB/s eta 0:00:01\n",
      "   ----------------------------------- ---- 10.0/11.1 MB 14.1 MB/s eta 0:00:01\n",
      "   ---------------------------------------  11.1/11.1 MB 15.2 MB/s eta 0:00:01\n",
      "   ---------------------------------------  11.1/11.1 MB 15.2 MB/s eta 0:00:01\n",
      "   ---------------------------------------  11.1/11.1 MB 15.2 MB/s eta 0:00:01\n",
      "   ---------------------------------------- 11.1/11.1 MB 12.6 MB/s eta 0:00:00\n",
      "Downloading joblib-1.5.1-py3-none-any.whl (307 kB)\n",
      "   ---------------------------------------- 0.0/307.7 kB ? eta -:--:--\n",
      "   ---------------------------------------- 307.7/307.7 kB 9.6 MB/s eta 0:00:00\n",
      "Downloading scipy-1.15.3-cp312-cp312-win_amd64.whl (41.0 MB)\n",
      "   ---------------------------------------- 0.0/41.0 MB ? eta -:--:--\n",
      "    --------------------------------------- 0.7/41.0 MB 23.8 MB/s eta 0:00:02\n",
      "   - -------------------------------------- 1.5/41.0 MB 15.8 MB/s eta 0:00:03\n",
      "   -- ------------------------------------- 2.1/41.0 MB 15.0 MB/s eta 0:00:03\n",
      "   -- ------------------------------------- 3.0/41.0 MB 14.8 MB/s eta 0:00:03\n",
      "   --- ------------------------------------ 3.8/41.0 MB 15.1 MB/s eta 0:00:03\n",
      "   ---- ----------------------------------- 4.7/41.0 MB 15.9 MB/s eta 0:00:03\n",
      "   ----- ---------------------------------- 5.3/41.0 MB 16.3 MB/s eta 0:00:03\n",
      "   ----- ---------------------------------- 6.0/41.0 MB 15.4 MB/s eta 0:00:03\n",
      "   ------ --------------------------------- 7.1/41.0 MB 15.6 MB/s eta 0:00:03\n",
      "   ------- -------------------------------- 7.7/41.0 MB 15.5 MB/s eta 0:00:03\n",
      "   -------- ------------------------------- 8.7/41.0 MB 15.4 MB/s eta 0:00:03\n",
      "   --------- ------------------------------ 9.5/41.0 MB 15.5 MB/s eta 0:00:03\n",
      "   ---------- ----------------------------- 10.3/41.0 MB 15.6 MB/s eta 0:00:02\n",
      "   ---------- ----------------------------- 10.9/41.0 MB 15.2 MB/s eta 0:00:02\n",
      "   ----------- ---------------------------- 11.6/41.0 MB 15.6 MB/s eta 0:00:02\n",
      "   ------------ --------------------------- 12.7/41.0 MB 16.0 MB/s eta 0:00:02\n",
      "   ------------- -------------------------- 13.4/41.0 MB 16.0 MB/s eta 0:00:02\n",
      "   -------------- ------------------------- 14.4/41.0 MB 15.6 MB/s eta 0:00:02\n",
      "   -------------- ------------------------- 15.0/41.0 MB 15.6 MB/s eta 0:00:02\n",
      "   --------------- ------------------------ 15.7/41.0 MB 16.0 MB/s eta 0:00:02\n",
      "   ---------------- ----------------------- 16.8/41.0 MB 16.4 MB/s eta 0:00:02\n",
      "   ---------------- ----------------------- 17.4/41.0 MB 15.6 MB/s eta 0:00:02\n",
      "   ------------------ --------------------- 18.6/41.0 MB 16.0 MB/s eta 0:00:02\n",
      "   ------------------ --------------------- 19.2/41.0 MB 16.4 MB/s eta 0:00:02\n",
      "   ------------------- -------------------- 19.8/41.0 MB 16.4 MB/s eta 0:00:02\n",
      "   -------------------- ------------------- 20.8/41.0 MB 16.0 MB/s eta 0:00:02\n",
      "   --------------------- ------------------ 21.7/41.0 MB 16.0 MB/s eta 0:00:02\n",
      "   ---------------------- ----------------- 22.6/41.0 MB 16.0 MB/s eta 0:00:02\n",
      "   ----------------------- ---------------- 23.7/41.0 MB 17.3 MB/s eta 0:00:02\n",
      "   ------------------------ --------------- 24.7/41.0 MB 16.4 MB/s eta 0:00:01\n",
      "   ------------------------ --------------- 25.2/41.0 MB 16.0 MB/s eta 0:00:01\n",
      "   ------------------------- -------------- 25.9/41.0 MB 16.8 MB/s eta 0:00:01\n",
      "   -------------------------- ------------- 26.7/41.0 MB 16.0 MB/s eta 0:00:01\n",
      "   --------------------------- ------------ 27.8/41.0 MB 17.3 MB/s eta 0:00:01\n",
      "   --------------------------- ------------ 28.6/41.0 MB 16.4 MB/s eta 0:00:01\n",
      "   ---------------------------- ----------- 29.3/41.0 MB 16.4 MB/s eta 0:00:01\n",
      "   ----------------------------- ---------- 30.2/41.0 MB 16.4 MB/s eta 0:00:01\n",
      "   ------------------------------ --------- 31.2/41.0 MB 16.0 MB/s eta 0:00:01\n",
      "   ------------------------------- -------- 31.8/41.0 MB 16.0 MB/s eta 0:00:01\n",
      "   -------------------------------- ------- 33.1/41.0 MB 16.8 MB/s eta 0:00:01\n",
      "   --------------------------------- ------ 34.1/41.0 MB 16.4 MB/s eta 0:00:01\n",
      "   ---------------------------------- ----- 35.1/41.0 MB 16.4 MB/s eta 0:00:01\n",
      "   ----------------------------------- ---- 35.9/41.0 MB 16.0 MB/s eta 0:00:01\n",
      "   ------------------------------------ --- 37.0/41.0 MB 16.4 MB/s eta 0:00:01\n",
      "   ------------------------------------ --- 37.5/41.0 MB 16.0 MB/s eta 0:00:01\n",
      "   ------------------------------------- -- 37.9/41.0 MB 15.2 MB/s eta 0:00:01\n",
      "   -------------------------------------- - 39.1/41.0 MB 15.6 MB/s eta 0:00:01\n",
      "   ---------------------------------------  40.0/41.0 MB 15.6 MB/s eta 0:00:01\n",
      "   ---------------------------------------  41.0/41.0 MB 16.0 MB/s eta 0:00:01\n",
      "   ---------------------------------------  41.0/41.0 MB 16.0 MB/s eta 0:00:01\n",
      "   ---------------------------------------  41.0/41.0 MB 16.0 MB/s eta 0:00:01\n",
      "   ---------------------------------------  41.0/41.0 MB 16.0 MB/s eta 0:00:01\n",
      "   ---------------------------------------  41.0/41.0 MB 16.0 MB/s eta 0:00:01\n",
      "   ---------------------------------------  41.0/41.0 MB 16.0 MB/s eta 0:00:01\n",
      "   ---------------------------------------  41.0/41.0 MB 16.0 MB/s eta 0:00:01\n",
      "   ---------------------------------------  41.0/41.0 MB 16.0 MB/s eta 0:00:01\n",
      "   ---------------------------------------  41.0/41.0 MB 16.0 MB/s eta 0:00:01\n",
      "   ---------------------------------------- 41.0/41.0 MB 9.1 MB/s eta 0:00:00\n",
      "Downloading threadpoolctl-3.6.0-py3-none-any.whl (18 kB)\n",
      "Installing collected packages: threadpoolctl, scipy, joblib, scikit-learn\n",
      "Successfully installed joblib-1.5.1 scikit-learn-1.6.1 scipy-1.15.3 threadpoolctl-3.6.0\n",
      "Note: you may need to restart the kernel to use updated packages.\n"
     ]
    },
    {
     "name": "stderr",
     "output_type": "stream",
     "text": [
      "\n",
      "[notice] A new release of pip is available: 24.0 -> 25.1.1\n",
      "[notice] To update, run: python.exe -m pip install --upgrade pip\n"
     ]
    }
   ],
   "source": [
    "pip install scikit-learn\n"
   ]
  },
  {
   "cell_type": "code",
   "execution_count": 30,
   "id": "b97c9008",
   "metadata": {},
   "outputs": [],
   "source": [
    "from sklearn.svm import SVC\n",
    "from sklearn.preprocessing import StandardScaler\n",
    "from sklearn.pipeline import make_pipeline\n",
    "\n",
    "def train_svm(csv_file, label_column='label'):\n",
    "    df = pd.read_csv(csv_file)\n",
    "    X = df.drop(columns=[label_column]).values\n",
    "    y = df[label_column].values\n",
    "    \n",
    "    svm = make_pipeline(StandardScaler(), SVC(kernel='rbf', C=1.0, gamma='scale'))\n",
    "    svm.fit(X, y)\n",
    "    return svm\n"
   ]
  },
  {
   "cell_type": "code",
   "execution_count": 32,
   "id": "6bf3c3e6",
   "metadata": {},
   "outputs": [],
   "source": [
    "def predict_svm(model, csv_file):\n",
    "    df = pd.read_csv(csv_file)\n",
    "    X_test = df.drop(columns=['label']).values  # If test has labels\n",
    "    y_test = df['label'].values  # Optional\n",
    "    \n",
    "    y_pred = model.predict(X_test)\n",
    "    return y_test, y_pred\n"
   ]
  },
  {
   "cell_type": "code",
   "execution_count": 33,
   "id": "bf5fec18",
   "metadata": {},
   "outputs": [],
   "source": [
    "from sklearn.metrics import accuracy_score, classification_report, confusion_matrix\n",
    "import seaborn as sns\n",
    "\n",
    "def evaluate_model(y_true, y_pred):\n",
    "    acc = accuracy_score(y_true, y_pred)\n",
    "    print(\"Accuracy:\", acc)\n",
    "    print(\"Classification Report:\\n\", classification_report(y_true, y_pred))\n",
    "    \n",
    "    cm = confusion_matrix(y_true, y_pred)\n",
    "    plt.figure(figsize=(8, 6))\n",
    "    sns.heatmap(cm, annot=True, fmt=\"d\", cmap=\"Blues\")\n",
    "    plt.title(\"Confusion Matrix\")\n",
    "    plt.xlabel(\"Predicted\")\n",
    "    plt.ylabel(\"True\")\n",
    "    plt.show()\n"
   ]
  },
  {
   "cell_type": "code",
   "execution_count": 34,
   "id": "1bc13691",
   "metadata": {},
   "outputs": [
    {
     "data": {
      "image/png": "[encoded data removed]",
      "text/plain": [
       "<Figure size 640x480 with 1 Axes>"
      ]
     },
     "metadata": {},
     "output_type": "display_data"
    }
   ],
   "source": [
    "import pandas as pd\n",
    "import numpy as np\n",
    "\n",
    "# Load skeleton points and labels\n",
    "skel_df = pd.read_csv('Train_skelletonpoints.csv', header=None)\n",
    "labels_df = pd.read_csv('Train_labels.csv', header=None)\n",
    "\n",
    "# Select one sample (e.g., index 0)\n",
    "sample_index = 0\n",
    "label = labels_df.iloc[sample_index, 0]\n",
    "skeleton_flat = skel_df.iloc[sample_index].values\n",
    "skeleton_points = skeleton_flat.reshape(-1, 2)  # Assuming 2D points\n",
    "\n",
    "# Plot it\n",
    "plot_skeleton(skeleton_points, label)\n"
   ]
  },
  {
   "cell_type": "code",
   "execution_count": 35,
   "id": "f064dfb6",
   "metadata": {},
   "outputs": [
    {
     "data": {
      "image/png": "[encoded data removed]",
      "text/plain": [
       "<Figure size 1200x400 with 1 Axes>"
      ]
     },
     "metadata": {},
     "output_type": "display_data"
    }
   ],
   "source": [
    "plot_avg_csi_amplitude('Train_features.csv')\n"
   ]
  },
  {
   "cell_type": "code",
   "execution_count": 38,
   "id": "1de4ecd2",
   "metadata": {},
   "outputs": [
    {
     "name": "stdout",
     "output_type": "stream",
     "text": [
      "(1, 1000)\n"
     ]
    },
    {
     "ename": "ValueError",
     "evalue": "Length of values (1) does not match length of index (999)",
     "output_type": "error",
     "traceback": [
      "\u001b[31m---------------------------------------------------------------------------\u001b[39m",
      "\u001b[31mValueError\u001b[39m                                Traceback (most recent call last)",
      "\u001b[36mCell\u001b[39m\u001b[36m \u001b[39m\u001b[32mIn[38]\u001b[39m\u001b[32m, line 6\u001b[39m\n\u001b[32m      3\u001b[39m \u001b[38;5;28mprint\u001b[39m(labels_df.shape)\n\u001b[32m      5\u001b[39m features_df = pd.read_csv(\u001b[33m'\u001b[39m\u001b[33mTrain_features.csv\u001b[39m\u001b[33m'\u001b[39m)\n\u001b[32m----> \u001b[39m\u001b[32m6\u001b[39m \u001b[43mfeatures_df\u001b[49m\u001b[43m[\u001b[49m\u001b[33;43m'\u001b[39;49m\u001b[33;43mlabel\u001b[39;49m\u001b[33;43m'\u001b[39;49m\u001b[43m]\u001b[49m = labels_df[\u001b[32m0\u001b[39m].values  \u001b[38;5;66;03m# Access the first (and only) column\u001b[39;00m\n\u001b[32m      9\u001b[39m plot_csi_distribution_by_class(features_df)\n",
      "\u001b[36mFile \u001b[39m\u001b[32mc:\\Users\\alber\\AppData\\Local\\Programs\\Python\\Python312\\Lib\\site-packages\\pandas\\core\\frame.py:4311\u001b[39m, in \u001b[36mDataFrame.__setitem__\u001b[39m\u001b[34m(self, key, value)\u001b[39m\n\u001b[32m   4308\u001b[39m     \u001b[38;5;28mself\u001b[39m._setitem_array([key], value)\n\u001b[32m   4309\u001b[39m \u001b[38;5;28;01melse\u001b[39;00m:\n\u001b[32m   4310\u001b[39m     \u001b[38;5;66;03m# set column\u001b[39;00m\n\u001b[32m-> \u001b[39m\u001b[32m4311\u001b[39m     \u001b[38;5;28;43mself\u001b[39;49m\u001b[43m.\u001b[49m\u001b[43m_set_item\u001b[49m\u001b[43m(\u001b[49m\u001b[43mkey\u001b[49m\u001b[43m,\u001b[49m\u001b[43m \u001b[49m\u001b[43mvalue\u001b[49m\u001b[43m)\u001b[49m\n",
      "\u001b[36mFile \u001b[39m\u001b[32mc:\\Users\\alber\\AppData\\Local\\Programs\\Python\\Python312\\Lib\\site-packages\\pandas\\core\\frame.py:4524\u001b[39m, in \u001b[36mDataFrame._set_item\u001b[39m\u001b[34m(self, key, value)\u001b[39m\n\u001b[32m   4514\u001b[39m \u001b[38;5;28;01mdef\u001b[39;00m\u001b[38;5;250m \u001b[39m\u001b[34m_set_item\u001b[39m(\u001b[38;5;28mself\u001b[39m, key, value) -> \u001b[38;5;28;01mNone\u001b[39;00m:\n\u001b[32m   4515\u001b[39m \u001b[38;5;250m    \u001b[39m\u001b[33;03m\"\"\"\u001b[39;00m\n\u001b[32m   4516\u001b[39m \u001b[33;03m    Add series to DataFrame in specified column.\u001b[39;00m\n\u001b[32m   4517\u001b[39m \n\u001b[32m   (...)\u001b[39m\u001b[32m   4522\u001b[39m \u001b[33;03m    ensure homogeneity.\u001b[39;00m\n\u001b[32m   4523\u001b[39m \u001b[33;03m    \"\"\"\u001b[39;00m\n\u001b[32m-> \u001b[39m\u001b[32m4524\u001b[39m     value, refs = \u001b[38;5;28;43mself\u001b[39;49m\u001b[43m.\u001b[49m\u001b[43m_sanitize_column\u001b[49m\u001b[43m(\u001b[49m\u001b[43mvalue\u001b[49m\u001b[43m)\u001b[49m\n\u001b[32m   4526\u001b[39m     \u001b[38;5;28;01mif\u001b[39;00m (\n\u001b[32m   4527\u001b[39m         key \u001b[38;5;129;01min\u001b[39;00m \u001b[38;5;28mself\u001b[39m.columns\n\u001b[32m   4528\u001b[39m         \u001b[38;5;129;01mand\u001b[39;00m value.ndim == \u001b[32m1\u001b[39m\n\u001b[32m   4529\u001b[39m         \u001b[38;5;129;01mand\u001b[39;00m \u001b[38;5;129;01mnot\u001b[39;00m \u001b[38;5;28misinstance\u001b[39m(value.dtype, ExtensionDtype)\n\u001b[32m   4530\u001b[39m     ):\n\u001b[32m   4531\u001b[39m         \u001b[38;5;66;03m# broadcast across multiple columns if necessary\u001b[39;00m\n\u001b[32m   4532\u001b[39m         \u001b[38;5;28;01mif\u001b[39;00m \u001b[38;5;129;01mnot\u001b[39;00m \u001b[38;5;28mself\u001b[39m.columns.is_unique \u001b[38;5;129;01mor\u001b[39;00m \u001b[38;5;28misinstance\u001b[39m(\u001b[38;5;28mself\u001b[39m.columns, MultiIndex):\n",
      "\u001b[36mFile \u001b[39m\u001b[32mc:\\Users\\alber\\AppData\\Local\\Programs\\Python\\Python312\\Lib\\site-packages\\pandas\\core\\frame.py:5266\u001b[39m, in \u001b[36mDataFrame._sanitize_column\u001b[39m\u001b[34m(self, value)\u001b[39m\n\u001b[32m   5263\u001b[39m     \u001b[38;5;28;01mreturn\u001b[39;00m _reindex_for_setitem(value, \u001b[38;5;28mself\u001b[39m.index)\n\u001b[32m   5265\u001b[39m \u001b[38;5;28;01mif\u001b[39;00m is_list_like(value):\n\u001b[32m-> \u001b[39m\u001b[32m5266\u001b[39m     \u001b[43mcom\u001b[49m\u001b[43m.\u001b[49m\u001b[43mrequire_length_match\u001b[49m\u001b[43m(\u001b[49m\u001b[43mvalue\u001b[49m\u001b[43m,\u001b[49m\u001b[43m \u001b[49m\u001b[38;5;28;43mself\u001b[39;49m\u001b[43m.\u001b[49m\u001b[43mindex\u001b[49m\u001b[43m)\u001b[49m\n\u001b[32m   5267\u001b[39m arr = sanitize_array(value, \u001b[38;5;28mself\u001b[39m.index, copy=\u001b[38;5;28;01mTrue\u001b[39;00m, allow_2d=\u001b[38;5;28;01mTrue\u001b[39;00m)\n\u001b[32m   5268\u001b[39m \u001b[38;5;28;01mif\u001b[39;00m (\n\u001b[32m   5269\u001b[39m     \u001b[38;5;28misinstance\u001b[39m(value, Index)\n\u001b[32m   5270\u001b[39m     \u001b[38;5;129;01mand\u001b[39;00m value.dtype == \u001b[33m\"\u001b[39m\u001b[33mobject\u001b[39m\u001b[33m\"\u001b[39m\n\u001b[32m   (...)\u001b[39m\u001b[32m   5273\u001b[39m     \u001b[38;5;66;03m# TODO: Remove kludge in sanitize_array for string mode when enforcing\u001b[39;00m\n\u001b[32m   5274\u001b[39m     \u001b[38;5;66;03m# this deprecation\u001b[39;00m\n",
      "\u001b[36mFile \u001b[39m\u001b[32mc:\\Users\\alber\\AppData\\Local\\Programs\\Python\\Python312\\Lib\\site-packages\\pandas\\core\\common.py:573\u001b[39m, in \u001b[36mrequire_length_match\u001b[39m\u001b[34m(data, index)\u001b[39m\n\u001b[32m    569\u001b[39m \u001b[38;5;250m\u001b[39m\u001b[33;03m\"\"\"\u001b[39;00m\n\u001b[32m    570\u001b[39m \u001b[33;03mCheck the length of data matches the length of the index.\u001b[39;00m\n\u001b[32m    571\u001b[39m \u001b[33;03m\"\"\"\u001b[39;00m\n\u001b[32m    572\u001b[39m \u001b[38;5;28;01mif\u001b[39;00m \u001b[38;5;28mlen\u001b[39m(data) != \u001b[38;5;28mlen\u001b[39m(index):\n\u001b[32m--> \u001b[39m\u001b[32m573\u001b[39m     \u001b[38;5;28;01mraise\u001b[39;00m \u001b[38;5;167;01mValueError\u001b[39;00m(\n\u001b[32m    574\u001b[39m         \u001b[33m\"\u001b[39m\u001b[33mLength of values \u001b[39m\u001b[33m\"\u001b[39m\n\u001b[32m    575\u001b[39m         \u001b[33mf\u001b[39m\u001b[33m\"\u001b[39m\u001b[33m(\u001b[39m\u001b[38;5;132;01m{\u001b[39;00m\u001b[38;5;28mlen\u001b[39m(data)\u001b[38;5;132;01m}\u001b[39;00m\u001b[33m) \u001b[39m\u001b[33m\"\u001b[39m\n\u001b[32m    576\u001b[39m         \u001b[33m\"\u001b[39m\u001b[33mdoes not match length of index \u001b[39m\u001b[33m\"\u001b[39m\n\u001b[32m    577\u001b[39m         \u001b[33mf\u001b[39m\u001b[33m\"\u001b[39m\u001b[33m(\u001b[39m\u001b[38;5;132;01m{\u001b[39;00m\u001b[38;5;28mlen\u001b[39m(index)\u001b[38;5;132;01m}\u001b[39;00m\u001b[33m)\u001b[39m\u001b[33m\"\u001b[39m\n\u001b[32m    578\u001b[39m     )\n",
      "\u001b[31mValueError\u001b[39m: Length of values (1) does not match length of index (999)"
     ]
    }
   ],
   "source": [
    "features_df = pd.read_csv('Train_features.csv')\n",
    "labels_df = pd.read_csv('Train_labels.csv', header=None)\n",
    "print(labels_df.shape)\n",
    "\n",
    "features_df = pd.read_csv('Train_features.csv')\n",
    "features_df['label'] = labels_df[0].values  # Access the first (and only) column\n",
    "\n",
    "\n",
    "plot_csi_distribution_by_class(features_df)\n"
   ]
  }
 ],
 "metadata": {
  "kernelspec": {
   "display_name": "Python 3",
   "language": "python",
   "name": "python3"
  },
  "language_info": {
   "codemirror_mode": {
    "name": "ipython",
    "version": 3
   },
   "file_extension": ".py",
   "mimetype": "text/x-python",
   "name": "python",
   "nbconvert_exporter": "python",
   "pygments_lexer": "ipython3",
   "version": "3.12.3"
  }
 },
 "nbformat": 4,
 "nbformat_minor": 5
}
